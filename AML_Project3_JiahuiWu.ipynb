{
  "nbformat": 4,
  "nbformat_minor": 0,
  "metadata": {
    "colab": {
      "name": "AML_Project3_JiahuiWu.ipynb",
      "provenance": [],
      "toc_visible": true,
      "authorship_tag": "ABX9TyPshUWf602/Jwn49fiXQM92",
      "include_colab_link": true
    },
    "kernelspec": {
      "name": "python3",
      "display_name": "Python 3"
    }
  },
  "cells": [
    {
      "cell_type": "markdown",
      "metadata": {
        "id": "view-in-github",
        "colab_type": "text"
      },
      "source": [
        "<a href=\"https://colab.research.google.com/github/abbyWoot/AML/blob/master/AML_Project3_JiahuiWu.ipynb\" target=\"_parent\"><img src=\"https://colab.research.google.com/assets/colab-badge.svg\" alt=\"Open In Colab\"/></a>"
      ]
    },
    {
      "cell_type": "markdown",
      "metadata": {
        "id": "7EWkTFprFKks",
        "colab_type": "text"
      },
      "source": [
        "Advanced Machine Learning Project3\n",
        "\n",
        "@student: Jiahui Wu Abby\n",
        "\n",
        "The CIFAR-10 dataset consists of 5 batches, named data_batch_1, data_batch_2, etc. As stated in the official web site, each file packs the data using pickle module in python.\n",
        "\n",
        "The original one batch data is (10000 x 3072) matrix expressed in numpy array. The number of columns, (10000), indicates the number of sample data.\n",
        "The row vector, (3072) represents an color image of 32x32 pixels."
      ]
    },
    {
      "cell_type": "code",
      "metadata": {
        "id": "E9u9JmZ5FPX9",
        "colab_type": "code",
        "colab": {}
      },
      "source": [
        "#Set Up. \n",
        "# To support both python 2 and python 3\n",
        "from __future__ import division, print_function, unicode_literals\n",
        "\n",
        "# Common imports\n",
        "import numpy as np\n",
        "import os\n",
        "\n",
        "# to make this notebook's output stable across runs\n",
        "np.random.seed(42)\n",
        "\n",
        "# To plot pretty figures\n",
        "%matplotlib inline \n",
        "import matplotlib as mpl\n",
        "import matplotlib.pyplot as plt\n",
        "mpl.rc('axes', labelsize=14)\n",
        "mpl.rc('xtick', labelsize=12)\n",
        "mpl.rc('ytick', labelsize=12)\n",
        "\n",
        "# Where to save the figures\n",
        "PROJECT_ROOT_DIR = \".\"\n",
        "CHAPTER_ID = \"unsupervised_learning\"\n",
        "\n",
        "def save_fig(fig_id, tight_layout=True):\n",
        "    path = os.path.join(PROJECT_ROOT_DIR, \"images\", CHAPTER_ID, fig_id + \".png\")\n",
        "    print(\"Saving figure\", fig_id)\n",
        "    if tight_layout:\n",
        "        plt.tight_layout()\n",
        "    plt.savefig(path, format='png', dpi=300)\n",
        "\n",
        "# Ignore useless warnings (see SciPy issue #5998)\n",
        "import warnings\n",
        "warnings.filterwarnings(action=\"ignore\", message=\"^internal gelsd\")"
      ],
      "execution_count": 0,
      "outputs": []
    },
    {
      "cell_type": "markdown",
      "metadata": {
        "id": "O5erycKBFk5O",
        "colab_type": "text"
      },
      "source": [
        "Load data from the CIFAR-10 datset\n",
        "\n",
        "As mentionsed above, 32 X 32 is the size of each image. \n",
        "3 is the number of channels of the image. A RBG color image, has 3 channels.\n"
      ]
    },
    {
      "cell_type": "code",
      "metadata": {
        "id": "qmzY0tgSFqsM",
        "colab_type": "code",
        "outputId": "5a8b6704-9fea-4b45-fc1f-0f0eba9eb2b2",
        "colab": {
          "base_uri": "https://localhost:8080/",
          "height": 127
        }
      },
      "source": [
        "from sklearn.datasets import fetch_openml \n",
        "#Was using fetch_mldata, and received an ImportError: cannot import name 'fetch_mldata' from 'sklearn.datasets\n",
        "#using the tensflow to download the CIFAR-10 data\n",
        "import tensorflow as tf\n",
        "(X_train, y_train), (X_test, y_test)=tf.keras.datasets.cifar10.load_data()\n",
        "print(f\"Length of the X_train: {X_train.shape}, Length of y_train is: {y_train.shape}\")\n",
        "print(f\"Length of the X_test:{X_test.shape}, Length of y_test is{y_test.shape}\")"
      ],
      "execution_count": 2,
      "outputs": [
        {
          "output_type": "display_data",
          "data": {
            "text/html": [
              "<p style=\"color: red;\">\n",
              "The default version of TensorFlow in Colab will soon switch to TensorFlow 2.x.<br>\n",
              "We recommend you <a href=\"https://www.tensorflow.org/guide/migrate\" target=\"_blank\">upgrade</a> now \n",
              "or ensure your notebook will continue to use TensorFlow 1.x via the <code>%tensorflow_version 1.x</code> magic:\n",
              "<a href=\"https://colab.research.google.com/notebooks/tensorflow_version.ipynb\" target=\"_blank\">more info</a>.</p>\n"
            ],
            "text/plain": [
              "<IPython.core.display.HTML object>"
            ]
          },
          "metadata": {
            "tags": []
          }
        },
        {
          "output_type": "stream",
          "text": [
            "Downloading data from https://www.cs.toronto.edu/~kriz/cifar-10-python.tar.gz\n",
            "170500096/170498071 [==============================] - 2s 0us/step\n",
            "Length of the X_train: (50000, 32, 32, 3), Length of y_train is: (50000, 1)\n",
            "Length of the X_test:(10000, 32, 32, 3), Length of y_test is(10000, 1)\n"
          ],
          "name": "stdout"
        }
      ]
    },
    {
      "cell_type": "markdown",
      "metadata": {
        "id": "xxbBVp0x1_QQ",
        "colab_type": "text"
      },
      "source": [
        "tf.keras.datasets.cifar10.load_data() returns 2 tuples:\n",
        "\n",
        "1, x_train, x_test: unit8 array of RGB image data with shape (number_samples, 3, 32, 32) or (number_samples, 32, 32, 3) based on the image_data_format backend setting of either channels_first or channels_last respectively.\n",
        "\n",
        "2, y_train, y_test: uint8 array of category labels (integers in range 0-9) with shape (num_samples, 1)."
      ]
    },
    {
      "cell_type": "code",
      "metadata": {
        "id": "Ez2hVejtkLjw",
        "colab_type": "code",
        "colab": {
          "base_uri": "https://localhost:8080/",
          "height": 269
        },
        "outputId": "8797821c-3ceb-4f3f-a154-b15d59c3d54a"
      },
      "source": [
        "#playing\n",
        "plt.figure(10)\n",
        "img = plt.imshow(X_train[108])"
      ],
      "execution_count": 73,
      "outputs": [
        {
          "output_type": "display_data",
          "data": {
            "image/png": "[encoded data removed]",
            "text/plain": [
              "<Figure size 432x288 with 1 Axes>"
            ]
          },
          "metadata": {
            "tags": []
          }
        }
      ]
    },
    {
      "cell_type": "markdown",
      "metadata": {
        "id": "rp2nECF8lHdP",
        "colab_type": "text"
      },
      "source": [
        "Just For Fun"
      ]
    },
    {
      "cell_type": "code",
      "metadata": {
        "id": "PGGOgs84k5Qt",
        "colab_type": "code",
        "colab": {
          "base_uri": "https://localhost:8080/",
          "height": 256
        },
        "outputId": "6ff34048-6d09-431d-a295-867f32a5d7d8"
      },
      "source": [
        "def grayscale(data, dtype='float32'):\n",
        "    # luma coding weighted average in video systems\n",
        "    r, g, b = np.asarray(.3, dtype=dtype), np.asarray(.59, dtype=dtype), np.asarray(.11, dtype=dtype)\n",
        "    rst = r * data[:, :, :, 0] + g * data[:, :, :, 1] + b * data[:, :, :, 2]\n",
        "    # add channel dimension\n",
        "    rst = np.expand_dims(rst, axis=3)\n",
        "    return rst\n",
        "\n",
        "X_train_gray = grayscale(X_train)\n",
        "X_test_gray = grayscale(X_test)\n",
        "\n",
        "# now we have only one channel in the images\n",
        "img_channels = 1\n",
        "\n",
        "# plot a randomly chosen image\n",
        "img = 28  #image number\n",
        "plt.figure(figsize=(8, 8))\n",
        "plt.subplot(1, 2, 1)\n",
        "plt.imshow(X_train[img], interpolation='none')\n",
        "plt.subplot(1, 2, 2)\n",
        "plt.imshow(X_train_gray[img, :, :, 0], cmap=plt.get_cmap('gray'), interpolation='none')\n",
        "plt.show()"
      ],
      "execution_count": 12,
      "outputs": [
        {
          "output_type": "display_data",
          "data": {
            "image/png": "[encoded data removed]",
            "text/plain": [
              "<Figure size 576x576 with 2 Axes>"
            ]
          },
          "metadata": {
            "tags": []
          }
        }
      ]
    },
    {
      "cell_type": "markdown",
      "metadata": {
        "id": "IvEYZIvslPGC",
        "colab_type": "text"
      },
      "source": [
        "Normalize the data before processing(Scaling request in the excercise)"
      ]
    },
    {
      "cell_type": "code",
      "metadata": {
        "id": "kymP9YUWlPv9",
        "colab_type": "code",
        "colab": {}
      },
      "source": [
        "# normalize inputs from 0-255 to 0.0-1.0\n",
        "X_train = X_train.astype('float32')\n",
        "X_test = X_test.astype('float32')\n",
        "X_train = X_train / 255.0\n",
        "X_test = X_test / 255.0"
      ],
      "execution_count": 0,
      "outputs": []
    },
    {
      "cell_type": "code",
      "metadata": {
        "id": "uZBOo5slcfR8",
        "colab_type": "code",
        "colab": {}
      },
      "source": [
        "def load_label_names():\n",
        "    return ['airplane', 'automobile', 'bird', 'cat', 'deer', 'dog', 'frog', 'horse', 'ship', 'truck']"
      ],
      "execution_count": 0,
      "outputs": []
    },
    {
      "cell_type": "code",
      "metadata": {
        "id": "cL63e1_yiUvc",
        "colab_type": "code",
        "colab": {}
      },
      "source": [
        "#Convert the X_train and X_test data from 4d array into 2d array:\n",
        "nsamples, nx, ny,nz = X_train.shape\n",
        "d2_X_train = X_train.reshape((nsamples,nx*ny*nz))\n",
        "nsamples, nx, ny, nz = X_test.shape\n",
        "d2_X_test = X_test.reshape((nsamples,nx*ny*nz))"
      ],
      "execution_count": 0,
      "outputs": []
    },
    {
      "cell_type": "code",
      "metadata": {
        "id": "2L2dWtxSmGOC",
        "colab_type": "code",
        "colab": {
          "base_uri": "https://localhost:8080/",
          "height": 86
        },
        "outputId": "f04f3b14-5f66-4938-bef7-806aedb761dc"
      },
      "source": [
        "#Train the Random Forest Classifier and capture the time taken to train the orginal model\n",
        "#import library\n",
        "from sklearn.ensemble import RandomForestClassifier\n",
        "import time\n",
        "#initial the model\n",
        "rnd_clf = RandomForestClassifier()\n",
        "start_time = time.time()\n",
        "#Train the model\n",
        "rnd_clf.fit(d2_X_train, y_train)\n",
        "print(\"Time is taken by model:\",\"— %s seconds —\"% (time.time()-start_time))"
      ],
      "execution_count": 18,
      "outputs": [
        {
          "output_type": "stream",
          "text": [
            "/usr/local/lib/python3.6/dist-packages/ipykernel_launcher.py:7: DataConversionWarning: A column-vector y was passed when a 1d array was expected. Please change the shape of y to (n_samples,), for example using ravel().\n",
            "  import sys\n"
          ],
          "name": "stderr"
        },
        {
          "output_type": "stream",
          "text": [
            "Time is taken by model: — 274.79255771636963 seconds —\n"
          ],
          "name": "stdout"
        }
      ]
    },
    {
      "cell_type": "code",
      "metadata": {
        "id": "oBiHeverv9sw",
        "colab_type": "code",
        "colab": {
          "base_uri": "https://localhost:8080/",
          "height": 33
        },
        "outputId": "bac91603-1a5b-408b-cd17-db1d2c04767f"
      },
      "source": [
        "#Perfom the prediction on test data\n",
        "y_predict = rnd_clf.predict(d2_X_test)\n",
        "\n",
        "#Measure the accurancy of the Classifier\n",
        "from sklearn.metrics import accuracy_score\n",
        "print(f\"Accuracy is {accuracy_score(y_predict, y_test) * 100}%\")"
      ],
      "execution_count": 19,
      "outputs": [
        {
          "output_type": "stream",
          "text": [
            "Accuracy is 46.54%\n"
          ],
          "name": "stdout"
        }
      ]
    },
    {
      "cell_type": "markdown",
      "metadata": {
        "id": "K9oMSUUUwHsc",
        "colab_type": "text"
      },
      "source": [
        "use PCA to reduce the dataset's dimensionality, with an explained variance ratio of 95%."
      ]
    },
    {
      "cell_type": "code",
      "metadata": {
        "id": "x9_emk05wGCC",
        "colab_type": "code",
        "colab": {
          "base_uri": "https://localhost:8080/",
          "height": 50
        },
        "outputId": "4b119a54-1936-47d6-ccbf-ca102e1ee447"
      },
      "source": [
        "#Use PCA to reduce the dataset's dimensionality, with an explained variance ratio of 95%\n",
        "from sklearn.decomposition import PCA\n",
        "pca = PCA(n_components = .95) #This will insure that 95% variance is covered\n",
        "time1=time.time()\n",
        "X_train_pca = pca.fit_transform(d2_X_train)\n",
        "print(\"PCA took {:.1f}s.\".format(time.time() - time1))\n",
        "\n",
        "#Verify the redued shape before we start training new model\n",
        "print(f\"X_train shape is {d2_X_train.shape} and X_train_reduced shape is {X_train_reduced.shape}\")"
      ],
      "execution_count": 29,
      "outputs": [
        {
          "output_type": "stream",
          "text": [
            "PCA took 78.7s.\n",
            "X_train shape is (50000, 3072) and X_train_reduced shape is (50000, 217)\n"
          ],
          "name": "stdout"
        }
      ]
    },
    {
      "cell_type": "markdown",
      "metadata": {
        "id": "snyENsaE57N-",
        "colab_type": "text"
      },
      "source": [
        "Train the dimensionality reduced model with Random Forest, and calculating the time. "
      ]
    },
    {
      "cell_type": "code",
      "metadata": {
        "id": "eu-fp9CfwPYy",
        "colab_type": "code",
        "colab": {
          "base_uri": "https://localhost:8080/",
          "height": 86
        },
        "outputId": "acfb0f64-16d1-427e-f082-d3400cea4e4f"
      },
      "source": [
        "start_time2 = time.time() \n",
        "rnd_clf.fit(X_train_pca, y_train) #Train the model \n",
        "print(\"Time is taken by model:\",\"— %s seconds —\"% (time.time()-start_time2))"
      ],
      "execution_count": 30,
      "outputs": [
        {
          "output_type": "stream",
          "text": [
            "/usr/local/lib/python3.6/dist-packages/ipykernel_launcher.py:2: DataConversionWarning: A column-vector y was passed when a 1d array was expected. Please change the shape of y to (n_samples,), for example using ravel().\n",
            "  \n"
          ],
          "name": "stderr"
        },
        {
          "output_type": "stream",
          "text": [
            "Time is taken by model: — 121.05208349227905 seconds —\n"
          ],
          "name": "stdout"
        }
      ]
    },
    {
      "cell_type": "code",
      "metadata": {
        "id": "XGb4ibo4wnNk",
        "colab_type": "code",
        "colab": {
          "base_uri": "https://localhost:8080/",
          "height": 33
        },
        "outputId": "01bd0669-e408-4ade-a39d-f90283ead0cd"
      },
      "source": [
        "X_test_reduced = pca.transform(d2_X_test) #Reduce the dimensionality first\n",
        "y_predict2 = rnd_clf.predict(X_test_reduced) #Predic the values using Model\n",
        "print(f\"Accuracy is {accuracy_score(y_predict2, y_test)* 100} %\") #Print the accuracy"
      ],
      "execution_count": 22,
      "outputs": [
        {
          "output_type": "stream",
          "text": [
            "Accuracy is 43.769999999999996 %\n"
          ],
          "name": "stdout"
        }
      ]
    },
    {
      "cell_type": "markdown",
      "metadata": {
        "id": "iF3iKDsSCGJv",
        "colab_type": "text"
      },
      "source": [
        "Now we'll use t-SNE to reduce dimensionality down to 2D so we can plot the dataset. Current dimension is 3072"
      ]
    },
    {
      "cell_type": "code",
      "metadata": {
        "id": "lXg2NjjgCEwL",
        "colab_type": "code",
        "colab": {
          "base_uri": "https://localhost:8080/",
          "height": 50
        },
        "outputId": "04932a09-6c2d-484b-bf6d-dfc180e303c6"
      },
      "source": [
        "#Dimensionality reduction on the full 50,000 images takes a very long time, so we are doing this on a random subset of 10,000 images:\n",
        "import numpy as np \n",
        "np.random.seed(42)\n",
        "\n",
        "train_set = 10000 \n",
        "idx = np.random.permutation(50000)[:train_set] \n",
        "X = d2_X_train[idx] \n",
        "y = y_train[idx]\n",
        "print(f\"Length of the X : {X.shape}, Length of y is : {y.shape}\")\n",
        "\n",
        "from sklearn.manifold import TSNE \n",
        "\n",
        "t0 = time.time()\n",
        "tsne_red = TSNE(n_components=2, random_state=42) \n",
        "X_reduced = tsne_red.fit_transform(X)\n",
        "t1 = time.time()\n",
        "print(\"t-SNE took {:.1f}s.\".format(t1 - t0))"
      ],
      "execution_count": 21,
      "outputs": [
        {
          "output_type": "stream",
          "text": [
            "Length of the X : (10000, 3072), Length of y is : (10000, 1)\n",
            "t-SNE took 858.5s.\n"
          ],
          "name": "stdout"
        }
      ]
    },
    {
      "cell_type": "markdown",
      "metadata": {
        "id": "AcTKRm4Z7z9x",
        "colab_type": "text"
      },
      "source": [
        "Train the dimensionality reduced model （used t-SNE）） with Random Forest, and calculating the time. "
      ]
    },
    {
      "cell_type": "code",
      "metadata": {
        "id": "6wEE3po2DdMq",
        "colab_type": "code",
        "colab": {
          "base_uri": "https://localhost:8080/",
          "height": 86
        },
        "outputId": "c1a316fd-db86-40a4-fba4-8492216fb33a"
      },
      "source": [
        "start_time3 = time.time() \n",
        "rnd_clf.fit(X_reduced, y) #Train the model \n",
        "print(\"Time is taken by model:\",\"— %s seconds —\"% (time.time()-start_time3))"
      ],
      "execution_count": 24,
      "outputs": [
        {
          "output_type": "stream",
          "text": [
            "/usr/local/lib/python3.6/dist-packages/ipykernel_launcher.py:2: DataConversionWarning: A column-vector y was passed when a 1d array was expected. Please change the shape of y to (n_samples,), for example using ravel().\n",
            "  \n"
          ],
          "name": "stderr"
        },
        {
          "output_type": "stream",
          "text": [
            "Time is taken by model: — 1.993208885192871 seconds —\n"
          ],
          "name": "stdout"
        }
      ]
    },
    {
      "cell_type": "code",
      "metadata": {
        "id": "64xRGIPr8gaR",
        "colab_type": "code",
        "colab": {
          "base_uri": "https://localhost:8080/",
          "height": 33
        },
        "outputId": "533e0002-353e-4972-8d07-ec95c2bdfad9"
      },
      "source": [
        "X_test_reduced2 =tsne_red.fit_transform(d2_X_test) #Reduce the dimensionality first\n",
        "y_predict3 = rnd_clf.predict(X_test_reduced2) #Predic the values using Model\n",
        "print(f\"Accuracy is {accuracy_score(y_predict3, y_test)* 100} %\") #Print the accuracy"
      ],
      "execution_count": 27,
      "outputs": [
        {
          "output_type": "stream",
          "text": [
            "Accuracy is 12.889999999999999 %\n"
          ],
          "name": "stdout"
        }
      ]
    },
    {
      "cell_type": "markdown",
      "metadata": {
        "id": "Z0Q7vtfvFwq4",
        "colab_type": "text"
      },
      "source": [
        "WOW t-SNE took a super long time to reduce dimensionality: 858.8 seconds!! And the accuracy with the t-SNE processed data is super low, 12.9 % accuracy. \n",
        "Compare to t-SNE, PCA is much faster, and has higher accuracy in this case. However 43% is not that high either. I'll study more, and try to figure out better methods to use. "
      ]
    },
    {
      "cell_type": "code",
      "metadata": {
        "id": "Q9yUs-f_M8YX",
        "colab_type": "code",
        "colab": {}
      },
      "source": [
        "from sklearn.linear_model import SGDClassifier\n",
        "sgd_clf = SGDClassifier(max_iter=1000, tol=1e-3, random_state=42)"
      ],
      "execution_count": 0,
      "outputs": []
    },
    {
      "cell_type": "code",
      "metadata": {
        "id": "pyhTF_WWeUv8",
        "colab_type": "code",
        "colab": {
          "base_uri": "https://localhost:8080/",
          "height": 353
        },
        "outputId": "2b367955-f2ba-403e-f074-ad6f51c220db"
      },
      "source": [
        "sgd_clf.predict(['cat'])"
      ],
      "execution_count": 68,
      "outputs": [
        {
          "output_type": "error",
          "ename": "ValueError",
          "evalue": "ignored",
          "traceback": [
            "\u001b[0;31m---------------------------------------------------------------------------\u001b[0m",
            "\u001b[0;31mValueError\u001b[0m                                Traceback (most recent call last)",
            "\u001b[0;32m<ipython-input-68-c0e00856e96c>\u001b[0m in \u001b[0;36m<module>\u001b[0;34m()\u001b[0m\n\u001b[0;32m----> 1\u001b[0;31m \u001b[0msgd_clf\u001b[0m\u001b[0;34m.\u001b[0m\u001b[0mpredict\u001b[0m\u001b[0;34m(\u001b[0m\u001b[0;34m[\u001b[0m\u001b[0;34m'cat'\u001b[0m\u001b[0;34m]\u001b[0m\u001b[0;34m)\u001b[0m\u001b[0;34m\u001b[0m\u001b[0;34m\u001b[0m\u001b[0m\n\u001b[0m",
            "\u001b[0;32m/usr/local/lib/python3.6/dist-packages/sklearn/linear_model/_base.py\u001b[0m in \u001b[0;36mpredict\u001b[0;34m(self, X)\u001b[0m\n\u001b[1;32m    291\u001b[0m             \u001b[0mPredicted\u001b[0m \u001b[0;32mclass\u001b[0m \u001b[0mlabel\u001b[0m \u001b[0mper\u001b[0m \u001b[0msample\u001b[0m\u001b[0;34m.\u001b[0m\u001b[0;34m\u001b[0m\u001b[0;34m\u001b[0m\u001b[0m\n\u001b[1;32m    292\u001b[0m         \"\"\"\n\u001b[0;32m--> 293\u001b[0;31m         \u001b[0mscores\u001b[0m \u001b[0;34m=\u001b[0m \u001b[0mself\u001b[0m\u001b[0;34m.\u001b[0m\u001b[0mdecision_function\u001b[0m\u001b[0;34m(\u001b[0m\u001b[0mX\u001b[0m\u001b[0;34m)\u001b[0m\u001b[0;34m\u001b[0m\u001b[0;34m\u001b[0m\u001b[0m\n\u001b[0m\u001b[1;32m    294\u001b[0m         \u001b[0;32mif\u001b[0m \u001b[0mlen\u001b[0m\u001b[0;34m(\u001b[0m\u001b[0mscores\u001b[0m\u001b[0;34m.\u001b[0m\u001b[0mshape\u001b[0m\u001b[0;34m)\u001b[0m \u001b[0;34m==\u001b[0m \u001b[0;36m1\u001b[0m\u001b[0;34m:\u001b[0m\u001b[0;34m\u001b[0m\u001b[0;34m\u001b[0m\u001b[0m\n\u001b[1;32m    295\u001b[0m             \u001b[0mindices\u001b[0m \u001b[0;34m=\u001b[0m \u001b[0;34m(\u001b[0m\u001b[0mscores\u001b[0m \u001b[0;34m>\u001b[0m \u001b[0;36m0\u001b[0m\u001b[0;34m)\u001b[0m\u001b[0;34m.\u001b[0m\u001b[0mastype\u001b[0m\u001b[0;34m(\u001b[0m\u001b[0mnp\u001b[0m\u001b[0;34m.\u001b[0m\u001b[0mint\u001b[0m\u001b[0;34m)\u001b[0m\u001b[0;34m\u001b[0m\u001b[0;34m\u001b[0m\u001b[0m\n",
            "\u001b[0;32m/usr/local/lib/python3.6/dist-packages/sklearn/linear_model/_base.py\u001b[0m in \u001b[0;36mdecision_function\u001b[0;34m(self, X)\u001b[0m\n\u001b[1;32m    266\u001b[0m         \u001b[0mcheck_is_fitted\u001b[0m\u001b[0;34m(\u001b[0m\u001b[0mself\u001b[0m\u001b[0;34m)\u001b[0m\u001b[0;34m\u001b[0m\u001b[0;34m\u001b[0m\u001b[0m\n\u001b[1;32m    267\u001b[0m \u001b[0;34m\u001b[0m\u001b[0m\n\u001b[0;32m--> 268\u001b[0;31m         \u001b[0mX\u001b[0m \u001b[0;34m=\u001b[0m \u001b[0mcheck_array\u001b[0m\u001b[0;34m(\u001b[0m\u001b[0mX\u001b[0m\u001b[0;34m,\u001b[0m \u001b[0maccept_sparse\u001b[0m\u001b[0;34m=\u001b[0m\u001b[0;34m'csr'\u001b[0m\u001b[0;34m)\u001b[0m\u001b[0;34m\u001b[0m\u001b[0;34m\u001b[0m\u001b[0m\n\u001b[0m\u001b[1;32m    269\u001b[0m \u001b[0;34m\u001b[0m\u001b[0m\n\u001b[1;32m    270\u001b[0m         \u001b[0mn_features\u001b[0m \u001b[0;34m=\u001b[0m \u001b[0mself\u001b[0m\u001b[0;34m.\u001b[0m\u001b[0mcoef_\u001b[0m\u001b[0;34m.\u001b[0m\u001b[0mshape\u001b[0m\u001b[0;34m[\u001b[0m\u001b[0;36m1\u001b[0m\u001b[0;34m]\u001b[0m\u001b[0;34m\u001b[0m\u001b[0;34m\u001b[0m\u001b[0m\n",
            "\u001b[0;32m/usr/local/lib/python3.6/dist-packages/sklearn/utils/validation.py\u001b[0m in \u001b[0;36mcheck_array\u001b[0;34m(array, accept_sparse, accept_large_sparse, dtype, order, copy, force_all_finite, ensure_2d, allow_nd, ensure_min_samples, ensure_min_features, warn_on_dtype, estimator)\u001b[0m\n\u001b[1;32m    554\u001b[0m                     \u001b[0;34m\"Reshape your data either using array.reshape(-1, 1) if \"\u001b[0m\u001b[0;34m\u001b[0m\u001b[0;34m\u001b[0m\u001b[0m\n\u001b[1;32m    555\u001b[0m                     \u001b[0;34m\"your data has a single feature or array.reshape(1, -1) \"\u001b[0m\u001b[0;34m\u001b[0m\u001b[0;34m\u001b[0m\u001b[0m\n\u001b[0;32m--> 556\u001b[0;31m                     \"if it contains a single sample.\".format(array))\n\u001b[0m\u001b[1;32m    557\u001b[0m \u001b[0;34m\u001b[0m\u001b[0m\n\u001b[1;32m    558\u001b[0m         \u001b[0;31m# in the future np.flexible dtypes will be handled like object dtypes\u001b[0m\u001b[0;34m\u001b[0m\u001b[0;34m\u001b[0m\u001b[0;34m\u001b[0m\u001b[0m\n",
            "\u001b[0;31mValueError\u001b[0m: Expected 2D array, got 1D array instead:\narray=['cat'].\nReshape your data either using array.reshape(-1, 1) if your data has a single feature or array.reshape(1, -1) if it contains a single sample."
          ]
        }
      ]
    },
    {
      "cell_type": "code",
      "metadata": {
        "id": "hc8zkHmcJ4MK",
        "colab_type": "code",
        "colab": {
          "base_uri": "https://localhost:8080/",
          "height": 178
        },
        "outputId": "2625d541-0436-4c4b-bb78-f2f18f6747dd"
      },
      "source": [
        "y_train_cat = (y_train == cat)\n",
        "y_test_cat = (y_test == cat)\n"
      ],
      "execution_count": 61,
      "outputs": [
        {
          "output_type": "error",
          "ename": "NameError",
          "evalue": "ignored",
          "traceback": [
            "\u001b[0;31m---------------------------------------------------------------------------\u001b[0m",
            "\u001b[0;31mNameError\u001b[0m                                 Traceback (most recent call last)",
            "\u001b[0;32m<ipython-input-61-cb87fda6f825>\u001b[0m in \u001b[0;36m<module>\u001b[0;34m()\u001b[0m\n\u001b[0;32m----> 1\u001b[0;31m \u001b[0my_train_cat\u001b[0m \u001b[0;34m=\u001b[0m \u001b[0;34m(\u001b[0m\u001b[0my_train\u001b[0m \u001b[0;34m==\u001b[0m \u001b[0mcat\u001b[0m\u001b[0;34m)\u001b[0m\u001b[0;34m\u001b[0m\u001b[0;34m\u001b[0m\u001b[0m\n\u001b[0m\u001b[1;32m      2\u001b[0m \u001b[0my_test_cat\u001b[0m \u001b[0;34m=\u001b[0m \u001b[0;34m(\u001b[0m\u001b[0my_test\u001b[0m \u001b[0;34m==\u001b[0m \u001b[0mcat\u001b[0m\u001b[0;34m)\u001b[0m\u001b[0;34m\u001b[0m\u001b[0;34m\u001b[0m\u001b[0m\n",
            "\u001b[0;31mNameError\u001b[0m: name 'cat' is not defined"
          ]
        }
      ]
    },
    {
      "cell_type": "code",
      "metadata": {
        "id": "kQngDr9wP0ZU",
        "colab_type": "code",
        "colab": {
          "base_uri": "https://localhost:8080/",
          "height": 168
        },
        "outputId": "da4654cc-97de-434d-e742-c27f01b4dc8c"
      },
      "source": [
        "sgd_clf.fit(d2_X_train, y_train_5)"
      ],
      "execution_count": 53,
      "outputs": [
        {
          "output_type": "stream",
          "text": [
            "/usr/local/lib/python3.6/dist-packages/sklearn/utils/validation.py:760: DataConversionWarning: A column-vector y was passed when a 1d array was expected. Please change the shape of y to (n_samples, ), for example using ravel().\n",
            "  y = column_or_1d(y, warn=True)\n"
          ],
          "name": "stderr"
        },
        {
          "output_type": "execute_result",
          "data": {
            "text/plain": [
              "SGDClassifier(alpha=0.0001, average=False, class_weight=None,\n",
              "              early_stopping=False, epsilon=0.1, eta0=0.0, fit_intercept=True,\n",
              "              l1_ratio=0.15, learning_rate='optimal', loss='hinge',\n",
              "              max_iter=1000, n_iter_no_change=5, n_jobs=None, penalty='l2',\n",
              "              power_t=0.5, random_state=42, shuffle=True, tol=0.001,\n",
              "              validation_fraction=0.1, verbose=0, warm_start=False)"
            ]
          },
          "metadata": {
            "tags": []
          },
          "execution_count": 53
        }
      ]
    },
    {
      "cell_type": "code",
      "metadata": {
        "id": "0P3wf4lsUnU9",
        "colab_type": "code",
        "colab": {
          "base_uri": "https://localhost:8080/",
          "height": 129
        },
        "outputId": "d0d692f7-f5d5-48cf-8b36-cfbb887388cb"
      },
      "source": [
        "from sklearn.model_selection import StratifiedKFold\n",
        "from sklearn.base import clone\n",
        "\n",
        "skfolds = StratifiedKFold(n_splits=3, random_state=42)\n",
        "\n",
        "for train_index, test_index in skfolds.split(d2_X_train, y_train_5):\n",
        "    clone_clf = clone(sgd_clf)\n",
        "   X_trainn_folds = d2_X_train[train_index]\n",
        "  y_train_folds = y_train_5[train_index]\n",
        "    X_test_fold =d2_ X_train[test_index]\n",
        "    y_test_fold = y_train_5[test_index]\n",
        "\n",
        "    clone_clf.fit(X_train_folds, y_train_folds)\n",
        "    y_pred = clone_clf.predict(X_test_fold)\n",
        "    n_correct = sum(y_pred == y_test_fold)\n",
        "    print(n_correct / len(y_pred))"
      ],
      "execution_count": 59,
      "outputs": [
        {
          "output_type": "error",
          "ename": "IndentationError",
          "evalue": "ignored",
          "traceback": [
            "\u001b[0;36m  File \u001b[0;32m\"<ipython-input-59-dd20fc46179b>\"\u001b[0;36m, line \u001b[0;32m8\u001b[0m\n\u001b[0;31m    X_trainn_folds = d2_X_train[train_index]\u001b[0m\n\u001b[0m                                            ^\u001b[0m\n\u001b[0;31mIndentationError\u001b[0m\u001b[0;31m:\u001b[0m unindent does not match any outer indentation level\n"
          ]
        }
      ]
    },
    {
      "cell_type": "markdown",
      "metadata": {
        "id": "HjeCJHyaBMwT",
        "colab_type": "text"
      },
      "source": [
        "We have already predited using Random Forest Above.\n",
        "Now we are using SVM to predict, using PCA dimentionalisy-reduced data"
      ]
    }
  ]
}