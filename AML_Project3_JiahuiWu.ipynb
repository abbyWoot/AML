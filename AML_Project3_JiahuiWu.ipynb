{
  "nbformat": 4,
  "nbformat_minor": 0,
  "metadata": {
    "colab": {
      "name": "AML_Project3_JiahuiWu.ipynb",
      "provenance": [],
      "authorship_tag": "ABX9TyN83xh5n+NUBjIoSGK30hZL",
      "include_colab_link": true
    },
    "kernelspec": {
      "name": "python3",
      "display_name": "Python 3"
    }
  },
  "cells": [
    {
      "cell_type": "markdown",
      "metadata": {
        "id": "view-in-github",
        "colab_type": "text"
      },
      "source": [
        "<a href=\"https://colab.research.google.com/github/abbyWoot/AML/blob/master/AML_Project3_JiahuiWu.ipynb\" target=\"_parent\"><img src=\"https://colab.research.google.com/assets/colab-badge.svg\" alt=\"Open In Colab\"/></a>"
      ]
    },
    {
      "cell_type": "markdown",
      "metadata": {
        "id": "7EWkTFprFKks",
        "colab_type": "text"
      },
      "source": [
        "Advanced Machine Learning Project3\n",
        "\n",
        "@student: Jiahui Wu Abby\n",
        "\n",
        "The CIFAR-10 dataset consists of 5 batches, named data_batch_1, data_batch_2, etc. As stated in the official web site, each file packs the data using pickle module in python.\n",
        "\n",
        "The original one batch data is (10000 x 3072) matrix expressed in numpy array. The number of columns, (10000), indicates the number of sample data.\n",
        "The row vector, (3072) represents an color image of 32x32 pixels."
      ]
    },
    {
      "cell_type": "code",
      "metadata": {
        "id": "E9u9JmZ5FPX9",
        "colab_type": "code",
        "colab": {}
      },
      "source": [
        "#Set Up. \n",
        "# To support both python 2 and python 3\n",
        "from __future__ import division, print_function, unicode_literals\n",
        "\n",
        "# Common imports\n",
        "import numpy as np\n",
        "import os\n",
        "\n",
        "# to make this notebook's output stable across runs\n",
        "np.random.seed(42)\n",
        "\n",
        "# To plot pretty figures\n",
        "%matplotlib inline  #showes matplotlib images on notebook \n",
        "import matplotlib as mpl\n",
        "import matplotlib.pyplot as plt\n",
        "mpl.rc('axes', labelsize=14)\n",
        "mpl.rc('xtick', labelsize=12)\n",
        "mpl.rc('ytick', labelsize=12)\n",
        "\n",
        "# Where to save the figures\n",
        "PROJECT_ROOT_DIR = \".\"\n",
        "CHAPTER_ID = \"unsupervised_learning\"\n",
        "\n",
        "def save_fig(fig_id, tight_layout=True):\n",
        "    path = os.path.join(PROJECT_ROOT_DIR, \"images\", CHAPTER_ID, fig_id + \".png\")\n",
        "    print(\"Saving figure\", fig_id)\n",
        "    if tight_layout:\n",
        "        plt.tight_layout()\n",
        "    plt.savefig(path, format='png', dpi=300)\n",
        "\n",
        "# Ignore useless warnings (see SciPy issue #5998)\n",
        "import warnings\n",
        "warnings.filterwarnings(action=\"ignore\", message=\"^internal gelsd\")"
      ],
      "execution_count": 0,
      "outputs": []
    },
    {
      "cell_type": "markdown",
      "metadata": {
        "id": "O5erycKBFk5O",
        "colab_type": "text"
      },
      "source": [
        "Load data from the CIFAR-10 datset\n",
        "\n",
        "As mentionsed above, 32 X 32 is the size of each image. \n",
        "3 is the number of channels of the image. A RBG color image, has 3 channels.\n"
      ]
    },
    {
      "cell_type": "code",
      "metadata": {
        "id": "qmzY0tgSFqsM",
        "colab_type": "code",
        "outputId": "7bf9ee5d-3ed5-46fa-b83e-106ebb0703d6",
        "colab": {
          "base_uri": "https://localhost:8080/",
          "height": 50
        }
      },
      "source": [
        "from sklearn.datasets import fetch_openml \n",
        "#Was using fetch_mldata, and received an ImportError: cannot import name 'fetch_mldata' from 'sklearn.datasets\n",
        "#using the tensflow to download the CIFAR-10 data\n",
        "import tensorflow as tf\n",
        "(X_train, y_train), (X_test, y_test)=tf.keras.datasets.cifar10.load_data()\n",
        "print(f\"Length of the X_train: {X_train.shape}, Length of y_train is: {y_train.shape}\")\n",
        "print(f\"Length of the X_test:{X_test.shape}, Length of y_test is{y_test.shape}\")"
      ],
      "execution_count": 10,
      "outputs": [
        {
          "output_type": "stream",
          "text": [
            "Length of the X_train: (50000, 32, 32, 3), Length of y_train is: (50000, 1)\n",
            "Length of the X_test:(10000, 32, 32, 3), Length of y_test is(10000, 1)\n"
          ],
          "name": "stdout"
        }
      ]
    },
    {
      "cell_type": "markdown",
      "metadata": {
        "id": "xxbBVp0x1_QQ",
        "colab_type": "text"
      },
      "source": [
        "tf.keras.datasets.cifar10.load_data() returns 2 tuples:\n",
        "\n",
        "1, x_train, x_test: unit8 array of RGB image data with shape (number_samples, 3, 32, 32) or (number_samples, 32, 32, 3) based on the image_data_format backend setting of either channels_first or channels_last respectively.\n",
        "\n",
        "2, y_train, y_test: uint8 array of category labels (integers in range 0-9) with shape (num_samples, 1)."
      ]
    },
    {
      "cell_type": "code",
      "metadata": {
        "id": "cL63e1_yiUvc",
        "colab_type": "code",
        "colab": {}
      },
      "source": [
        "#Convert the X_train and X_test data into 2d array:\n",
        "nsamples, nx, ny,nz = X_train.shape\n",
        "d2_X_train = X_train.reshape((nsamples,nx*ny*nz))\n",
        "nsamples, nx, ny, nz = X_test.shape\n",
        "d2_X_test = X_test.reshape((nsamples,nx*ny*nz))"
      ],
      "execution_count": 0,
      "outputs": []
    },
    {
      "cell_type": "code",
      "metadata": {
        "id": "2L2dWtxSmGOC",
        "colab_type": "code",
        "colab": {
          "base_uri": "https://localhost:8080/",
          "height": 86
        },
        "outputId": "109c3ff8-d697-41dc-938e-27f89cec14d4"
      },
      "source": [
        "#Train the Random Forest Classifier and capture the time taken to train the orginal model\n",
        "#import library\n",
        "from sklearn.ensemble import RandomForestClassifier\n",
        "import time\n",
        "#initial the model\n",
        "rnd_clf = RandomForestClassifier()\n",
        "start_time = time.time()\n",
        "#Train the model\n",
        "rnd_clf.fit(d2_X_train, y_train)\n",
        "print(\"Time is taken by model:\",\"— %s seconds —\"% (time.time()-start_time))"
      ],
      "execution_count": 18,
      "outputs": [
        {
          "output_type": "stream",
          "text": [
            "/usr/local/lib/python3.6/dist-packages/ipykernel_launcher.py:7: DataConversionWarning: A column-vector y was passed when a 1d array was expected. Please change the shape of y to (n_samples,), for example using ravel().\n",
            "  import sys\n"
          ],
          "name": "stderr"
        },
        {
          "output_type": "stream",
          "text": [
            "Time is taken by model: — 278.82897996902466 seconds —\n"
          ],
          "name": "stdout"
        }
      ]
    },
    {
      "cell_type": "code",
      "metadata": {
        "id": "oBiHeverv9sw",
        "colab_type": "code",
        "colab": {
          "base_uri": "https://localhost:8080/",
          "height": 33
        },
        "outputId": "bdc577ef-09d5-45f9-e2c9-9a3e7e7c31b4"
      },
      "source": [
        "#Perfom the prediction on test data\n",
        "y_predict = rnd_clf.predict(d2_X_test)\n",
        "\n",
        "#Measure the accurancy of the Classifier\n",
        "from sklearn.metrics import accuracy_score\n",
        "print(f\"Accuracy is {accuracy_score(y_predict, y_test) * 100}%\")"
      ],
      "execution_count": 19,
      "outputs": [
        {
          "output_type": "stream",
          "text": [
            "Accuracy is 46.54%\n"
          ],
          "name": "stdout"
        }
      ]
    },
    {
      "cell_type": "markdown",
      "metadata": {
        "id": "K9oMSUUUwHsc",
        "colab_type": "text"
      },
      "source": [
        "use PCA to reduce the dataset's dimensionality, with an explained variance ratio of 95%."
      ]
    },
    {
      "cell_type": "code",
      "metadata": {
        "id": "x9_emk05wGCC",
        "colab_type": "code",
        "colab": {
          "base_uri": "https://localhost:8080/",
          "height": 33
        },
        "outputId": "534de8aa-3344-4e5c-ced7-b0a7d25aedc2"
      },
      "source": [
        "#Use PCA to reduce the dataset's dimensionality, with an explained variance ratio of 95%\n",
        "from sklearn.decomposition import PCA\n",
        "pca = PCA(n_components = .95) #This will insure that 95% variance is covered\n",
        "X_train_reduced = pca.fit_transform(d2_X_train)\n",
        "\n",
        "#Verify the redued shape before we start training new model\n",
        "print(f\"X_train shape is {d2_X_train.shape} and X_train_reduced shape is {X_train_reduced.shape}\")"
      ],
      "execution_count": 20,
      "outputs": [
        {
          "output_type": "stream",
          "text": [
            "X_train shape is (50000, 3072) and X_train_reduced shape is (50000, 217)\n"
          ],
          "name": "stdout"
        }
      ]
    },
    {
      "cell_type": "code",
      "metadata": {
        "id": "eu-fp9CfwPYy",
        "colab_type": "code",
        "colab": {
          "base_uri": "https://localhost:8080/",
          "height": 86
        },
        "outputId": "fb0abe38-4dd2-4778-9d02-156796542ed2"
      },
      "source": [
        "start_time2 = time.time() \n",
        "rnd_clf.fit(X_train_reduced, y_train) #Train the model \n",
        "print(\"Time is taken by model:\",\"— %s seconds —\"% (time.time()-start_time2))"
      ],
      "execution_count": 21,
      "outputs": [
        {
          "output_type": "stream",
          "text": [
            "/usr/local/lib/python3.6/dist-packages/ipykernel_launcher.py:2: DataConversionWarning: A column-vector y was passed when a 1d array was expected. Please change the shape of y to (n_samples,), for example using ravel().\n",
            "  \n"
          ],
          "name": "stderr"
        },
        {
          "output_type": "stream",
          "text": [
            "Time is taken by model: — 125.93982768058777 seconds —\n"
          ],
          "name": "stdout"
        }
      ]
    },
    {
      "cell_type": "code",
      "metadata": {
        "id": "XGb4ibo4wnNk",
        "colab_type": "code",
        "colab": {
          "base_uri": "https://localhost:8080/",
          "height": 33
        },
        "outputId": "01bd0669-e408-4ade-a39d-f90283ead0cd"
      },
      "source": [
        "X_test_reduced = pca.transform(d2_X_test) #Reduce the dimensionality first\n",
        "y_predict2 = rnd_clf.predict(X_test_reduced) #Predic the values using Model\n",
        "print(f\"Accuracy is {accuracy_score(y_predict2, y_test)* 100} %\") #Print the accuracy"
      ],
      "execution_count": 22,
      "outputs": [
        {
          "output_type": "stream",
          "text": [
            "Accuracy is 43.769999999999996 %\n"
          ],
          "name": "stdout"
        }
      ]
    },
    {
      "cell_type": "code",
      "metadata": {
        "id": "ndJ5OKgL31mp",
        "colab_type": "code",
        "colab": {}
      },
      "source": [
        "# normalize inputs from 0-255 to 0.0-1.0\n",
        "X_train = X_train.astype('float32')\n",
        "X_test = X_test.astype('float32')\n",
        "X_train = X_train / 255.0\n",
        "X_test = X_test / 255.0"
      ],
      "execution_count": 0,
      "outputs": []
    },
    {
      "cell_type": "markdown",
      "metadata": {
        "id": "bySWLRYG4gmO",
        "colab_type": "text"
      },
      "source": [
        "Just for fun"
      ]
    },
    {
      "cell_type": "code",
      "metadata": {
        "id": "7jYiU0Lo34po",
        "colab_type": "code",
        "colab": {
          "base_uri": "https://localhost:8080/",
          "height": 155
        },
        "outputId": "2a839021-1ff1-4dc7-af45-73a5fb93001f"
      },
      "source": [
        "def grayscale(data, dtype='float32'):\n",
        "    # luma coding weighted average in video systems\n",
        "    r, g, b = np.asarray(.3, dtype=dtype), np.asarray(.59, dtype=dtype), np.asarray(.11, dtype=dtype)\n",
        "    rst = r * data[:, :, :, 0] + g * data[:, :, :, 1] + b * data[:, :, :, 2]\n",
        "    # add channel dimension\n",
        "    rst = np.expand_dims(rst, axis=3)\n",
        "    return rst\n",
        "\n",
        "X_train_gray = grayscale(X_train)\n",
        "X_test_gray = grayscale(X_test)\n",
        "\n",
        "# now we have only one channel in the images\n",
        "img_channels = 1\n",
        "\n",
        "# plot a randomly chosen image\n",
        "img = 28  #image number\n",
        "plt.figure(figsize=(4, 2))\n",
        "plt.subplot(1, 2, 1)\n",
        "plt.imshow(X_train[img], interpolation='none')\n",
        "plt.subplot(1, 2, 2)\n",
        "plt.imshow(X_train_gray[img, :, :, 0], cmap=plt.get_cmap('gray'), interpolation='none')\n",
        "plt.show()"
      ],
      "execution_count": 32,
      "outputs": [
        {
          "output_type": "display_data",
          "data": {
            "image/png": "[encoded data removed]",
            "text/plain": [
              "<Figure size 288x144 with 2 Axes>"
            ]
          },
          "metadata": {
            "tags": []
          }
        }
      ]
    }
  ]
}