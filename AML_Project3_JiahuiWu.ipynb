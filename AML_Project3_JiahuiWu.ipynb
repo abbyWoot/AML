{
  "nbformat": 4,
  "nbformat_minor": 0,
  "metadata": {
    "colab": {
      "name": "AML_Project3_JiahuiWu.ipynb",
      "provenance": [],
      "authorship_tag": "ABX9TyMBDc4mdl2NxGYiHxVyjwVJ",
      "include_colab_link": true
    },
    "kernelspec": {
      "name": "python3",
      "display_name": "Python 3"
    }
  },
  "cells": [
    {
      "cell_type": "markdown",
      "metadata": {
        "id": "view-in-github",
        "colab_type": "text"
      },
      "source": [
        "<a href=\"https://colab.research.google.com/github/abbyWoot/AML/blob/master/AML_Project3_JiahuiWu.ipynb\" target=\"_parent\"><img src=\"https://colab.research.google.com/assets/colab-badge.svg\" alt=\"Open In Colab\"/></a>"
      ]
    },
    {
      "cell_type": "markdown",
      "metadata": {
        "id": "7EWkTFprFKks",
        "colab_type": "text"
      },
      "source": [
        "Advanced Machine Learning Project3\n",
        "\n",
        "@student: Jiahui Wu Abby\n",
        "\n",
        "The CIFAR-10 dataset consists of 5 batches, named data_batch_1, data_batch_2, etc. As stated in the official web site, each file packs the data using pickle module in python.\n",
        "\n",
        "The original one batch data is (10000 x 3072) matrix expressed in numpy array. The number of columns, (10000), indicates the number of sample data.\n",
        "The row vector, (3072) represents an color image of 32x32 pixels."
      ]
    },
    {
      "cell_type": "code",
      "metadata": {
        "id": "E9u9JmZ5FPX9",
        "colab_type": "code",
        "colab": {}
      },
      "source": [
        "#Set Up. \n",
        "# To support both python 2 and python 3\n",
        "from __future__ import division, print_function, unicode_literals\n",
        "\n",
        "# Common imports\n",
        "import numpy as np\n",
        "import os\n",
        "\n",
        "# to make this notebook's output stable across runs\n",
        "np.random.seed(42)\n",
        "\n",
        "# To plot pretty figures\n",
        "%matplotlib inline \n",
        "import matplotlib as mpl\n",
        "import matplotlib.pyplot as plt\n",
        "mpl.rc('axes', labelsize=14)\n",
        "mpl.rc('xtick', labelsize=12)\n",
        "mpl.rc('ytick', labelsize=12)\n",
        "\n",
        "# Where to save the figures\n",
        "PROJECT_ROOT_DIR = \".\"\n",
        "CHAPTER_ID = \"unsupervised_learning\"\n",
        "\n",
        "def save_fig(fig_id, tight_layout=True):\n",
        "    path = os.path.join(PROJECT_ROOT_DIR, \"images\", CHAPTER_ID, fig_id + \".png\")\n",
        "    print(\"Saving figure\", fig_id)\n",
        "    if tight_layout:\n",
        "        plt.tight_layout()\n",
        "    plt.savefig(path, format='png', dpi=300)\n",
        "\n",
        "# Ignore useless warnings (see SciPy issue #5998)\n",
        "import warnings\n",
        "warnings.filterwarnings(action=\"ignore\", message=\"^internal gelsd\")"
      ],
      "execution_count": 0,
      "outputs": []
    },
    {
      "cell_type": "markdown",
      "metadata": {
        "id": "O5erycKBFk5O",
        "colab_type": "text"
      },
      "source": [
        "Load data from the CIFAR-10 datset\n",
        "\n",
        "As mentionsed above, 32 X 32 is the size of each image. \n",
        "3 is the number of channels of the image. A RBG color image, has 3 channels.\n"
      ]
    },
    {
      "cell_type": "code",
      "metadata": {
        "id": "qmzY0tgSFqsM",
        "colab_type": "code",
        "outputId": "7a50d28a-659c-47e7-ab40-4ccdbda240d8",
        "colab": {
          "base_uri": "https://localhost:8080/",
          "height": 131
        }
      },
      "source": [
        "from sklearn.datasets import fetch_openml \n",
        "#Was using fetch_mldata, and received an ImportError: cannot import name 'fetch_mldata' from 'sklearn.datasets\n",
        "#using the tensflow to download the CIFAR-10 data\n",
        "import tensorflow as tf\n",
        "(X_train, y_train), (X_test, y_test)=tf.keras.datasets.cifar10.load_data()\n",
        "print(f\"Length of the X_train: {X_train.shape}, Length of y_train is: {y_train.shape}\")\n",
        "print(f\"Length of the X_test:{X_test.shape}, Length of y_test is{y_test.shape}\")"
      ],
      "execution_count": 2,
      "outputs": [
        {
          "output_type": "display_data",
          "data": {
            "text/html": [
              "<p style=\"color: red;\">\n",
              "The default version of TensorFlow in Colab will soon switch to TensorFlow 2.x.<br>\n",
              "We recommend you <a href=\"https://www.tensorflow.org/guide/migrate\" target=\"_blank\">upgrade</a> now \n",
              "or ensure your notebook will continue to use TensorFlow 1.x via the <code>%tensorflow_version 1.x</code> magic:\n",
              "<a href=\"https://colab.research.google.com/notebooks/tensorflow_version.ipynb\" target=\"_blank\">more info</a>.</p>\n"
            ],
            "text/plain": [
              "<IPython.core.display.HTML object>"
            ]
          },
          "metadata": {
            "tags": []
          }
        },
        {
          "output_type": "stream",
          "text": [
            "Downloading data from https://www.cs.toronto.edu/~kriz/cifar-10-python.tar.gz\n",
            "170500096/170498071 [==============================] - 4s 0us/step\n",
            "Length of the X_train: (50000, 32, 32, 3), Length of y_train is: (50000, 1)\n",
            "Length of the X_test:(10000, 32, 32, 3), Length of y_test is(10000, 1)\n"
          ],
          "name": "stdout"
        }
      ]
    },
    {
      "cell_type": "markdown",
      "metadata": {
        "id": "xxbBVp0x1_QQ",
        "colab_type": "text"
      },
      "source": [
        "tf.keras.datasets.cifar10.load_data() returns 2 tuples:\n",
        "\n",
        "1, x_train, x_test: unit8 array of RGB image data with shape (number_samples, 3, 32, 32) or (number_samples, 32, 32, 3) based on the image_data_format backend setting of either channels_first or channels_last respectively.\n",
        "\n",
        "2, y_train, y_test: uint8 array of category labels (integers in range 0-9) with shape (num_samples, 1)."
      ]
    },
    {
      "cell_type": "code",
      "metadata": {
        "id": "Ez2hVejtkLjw",
        "colab_type": "code",
        "outputId": "2b034223-539c-412d-ffcf-d6b67b27bd7b",
        "colab": {
          "base_uri": "https://localhost:8080/",
          "height": 270
        }
      },
      "source": [
        "#playing\n",
        "plt.figure(10)\n",
        "img = plt.imshow(X_train[108])"
      ],
      "execution_count": 0,
      "outputs": [
        {
          "output_type": "display_data",
          "data": {
            "image/png": "[encoded data removed]",
            "text/plain": [
              "<Figure size 432x288 with 1 Axes>"
            ]
          },
          "metadata": {
            "tags": []
          }
        }
      ]
    },
    {
      "cell_type": "markdown",
      "metadata": {
        "id": "rp2nECF8lHdP",
        "colab_type": "text"
      },
      "source": [
        "Just For Fun"
      ]
    },
    {
      "cell_type": "code",
      "metadata": {
        "id": "PGGOgs84k5Qt",
        "colab_type": "code",
        "outputId": "58dcabaf-b802-4f5f-9695-bf675f18100c",
        "colab": {
          "base_uri": "https://localhost:8080/",
          "height": 256
        }
      },
      "source": [
        "def grayscale(data, dtype='float32'):\n",
        "    # luma coding weighted average in video systems\n",
        "    r, g, b = np.asarray(.3, dtype=dtype), np.asarray(.59, dtype=dtype), np.asarray(.11, dtype=dtype)\n",
        "    rst = r * data[:, :, :, 0] + g * data[:, :, :, 1] + b * data[:, :, :, 2]\n",
        "    # add channel dimension\n",
        "    rst = np.expand_dims(rst, axis=3)\n",
        "    return rst\n",
        "\n",
        "X_train_gray = grayscale(X_train)\n",
        "X_test_gray = grayscale(X_test)\n",
        "\n",
        "# now we have only one channel in the images\n",
        "img_channels = 1\n",
        "\n",
        "# plot a randomly chosen image\n",
        "img = 28  #image number\n",
        "plt.figure(figsize=(8, 8))\n",
        "plt.subplot(1, 2, 1)\n",
        "plt.imshow(X_train[img], interpolation='none')\n",
        "plt.subplot(1, 2, 2)\n",
        "plt.imshow(X_train_gray[img, :, :, 0], cmap=plt.get_cmap('gray'), interpolation='none')\n",
        "plt.show()"
      ],
      "execution_count": 0,
      "outputs": [
        {
          "output_type": "display_data",
          "data": {
            "image/png": "[encoded data removed]",
            "text/plain": [
              "<Figure size 576x576 with 2 Axes>"
            ]
          },
          "metadata": {
            "tags": []
          }
        }
      ]
    },
    {
      "cell_type": "code",
      "metadata": {
        "id": "m-mbShjoUhNT",
        "colab_type": "code",
        "colab": {}
      },
      "source": [
        "classes = ['airplane', 'automobile', 'bird', 'cat', 'deer', 'dog', 'frog', 'horse', 'ship', 'truck']\n",
        "def get_classes_index_by_name(name):\n",
        "  if name == 'airplane' : return 0\n",
        "  if name == 'automobile' : return 1\n",
        "  if name == 'bird' : return 2;\n",
        "  if name == 'cat' : return 3;\n",
        "  if name == 'deer' : return 4;\n",
        "  if name == 'dog' : return 5;\n",
        "  if name == 'frog' : return 6;\n",
        "  if name == 'horse' : return 7;\n",
        "  if name == 'ship' : return 8;\n",
        "  if name == 'truck' : return 9;\n",
        "  sys.exit(\"uknown classes\")"
      ],
      "execution_count": 0,
      "outputs": []
    },
    {
      "cell_type": "code",
      "metadata": {
        "id": "SI5BOQudTxei",
        "colab_type": "code",
        "colab": {}
      },
      "source": [
        "def visualize_sample(X_train, y_train, classes, samples_per_class=7):\n",
        "    \"\"\"visualize some samples in the training datasets \"\"\"\n",
        "    num_classes = len(classes)\n",
        "    for y, cls in enumerate(classes):\n",
        "        idxs = np.flatnonzero(y_train == y) # get all the indexes of cls\n",
        "        idxs = np.random.choice(idxs, samples_per_class, replace=False)\n",
        "        for i, idx in enumerate(idxs): # plot the image one by one\n",
        "            plt_idx = i * num_classes + y + 1 # i*num_classes and y+1 determine the row and column respectively\n",
        "            plt.subplot(samples_per_class, num_classes, plt_idx)\n",
        "            plt.imshow(X_train[idx].astype('uint8'))\n",
        "            plt.axis('off')\n",
        "            if i == 0:\n",
        "                plt.title(cls)\n",
        "    plt.show()"
      ],
      "execution_count": 0,
      "outputs": []
    },
    {
      "cell_type": "code",
      "metadata": {
        "id": "b8p4fQ02U1wq",
        "colab_type": "code",
        "outputId": "1a077756-22b0-4064-8a2b-e84fe6de2747",
        "colab": {
          "base_uri": "https://localhost:8080/",
          "height": 264
        }
      },
      "source": [
        "visualize_sample(X_train, y_train, classes, samples_per_class=10)"
      ],
      "execution_count": 0,
      "outputs": [
        {
          "output_type": "display_data",
          "data": {
            "image/png": "[encoded data removed]",
            "text/plain": [
              "<Figure size 432x288 with 100 Axes>"
            ]
          },
          "metadata": {
            "tags": []
          }
        }
      ]
    },
    {
      "cell_type": "code",
      "metadata": {
        "id": "OO3XKQElUIXJ",
        "colab_type": "code",
        "outputId": "cd1bd7bd-c82a-4558-c224-810f460883cc",
        "colab": {
          "base_uri": "https://localhost:8080/",
          "height": 85
        }
      },
      "source": [
        "# As a sanity check, we print out th size of the training and test data dimenstion\n",
        "print ('Train data shape: ', X_train.shape)\n",
        "print ('Train labels shape: ', y_train.shape)\n",
        "print ('Test data shape: ', X_test.shape)\n",
        "print ('Test labels shape: ', y_test.shape)"
      ],
      "execution_count": 4,
      "outputs": [
        {
          "output_type": "stream",
          "text": [
            "Train data shape:  (50000, 32, 32, 3)\n",
            "Train labels shape:  (50000, 1)\n",
            "Test data shape:  (10000, 32, 32, 3)\n",
            "Test labels shape:  (10000, 1)\n"
          ],
          "name": "stdout"
        }
      ]
    },
    {
      "cell_type": "markdown",
      "metadata": {
        "id": "IvEYZIvslPGC",
        "colab_type": "text"
      },
      "source": [
        "Normalize the data before processing(Scaling request in the excercise)"
      ]
    },
    {
      "cell_type": "code",
      "metadata": {
        "id": "kymP9YUWlPv9",
        "colab_type": "code",
        "colab": {}
      },
      "source": [
        "# normalize inputs from 0-255 to 0.0-1.0\n",
        "X_train = X_train.astype('float32')\n",
        "X_test = X_test.astype('float32')\n",
        "X_train = X_train / 255.0\n",
        "X_test = X_test / 255.0"
      ],
      "execution_count": 0,
      "outputs": []
    },
    {
      "cell_type": "code",
      "metadata": {
        "id": "cL63e1_yiUvc",
        "colab_type": "code",
        "colab": {}
      },
      "source": [
        "#Convert the X_train and X_test data from 4d array into 2d array:\n",
        "nsamples, nx, ny,nz = X_train.shape\n",
        "d2_X_train = X_train.reshape((nsamples,nx*ny*nz))\n",
        "nsamples, nx, ny, nz = X_test.shape\n",
        "d2_X_test = X_test.reshape((nsamples,nx*ny*nz))"
      ],
      "execution_count": 0,
      "outputs": []
    },
    {
      "cell_type": "code",
      "metadata": {
        "id": "2L2dWtxSmGOC",
        "colab_type": "code",
        "outputId": "28ebf864-6282-4220-aedf-4eb00467aee4",
        "colab": {
          "base_uri": "https://localhost:8080/",
          "height": 86
        }
      },
      "source": [
        "#Train the Random Forest Classifier and capture the time taken to train the orginal model\n",
        "#import library\n",
        "from sklearn.ensemble import RandomForestClassifier\n",
        "import time\n",
        "#initial the model\n",
        "rnd_clf = RandomForestClassifier()\n",
        "start_time = time.time()\n",
        "#Train the model\n",
        "rnd_clf.fit(d2_X_train, y_train)\n",
        "print(\"Time is taken by model:\",\"— %s seconds —\"% (time.time()-start_time))"
      ],
      "execution_count": 0,
      "outputs": [
        {
          "output_type": "stream",
          "text": [
            "/usr/local/lib/python3.6/dist-packages/ipykernel_launcher.py:7: DataConversionWarning: A column-vector y was passed when a 1d array was expected. Please change the shape of y to (n_samples,), for example using ravel().\n",
            "  import sys\n"
          ],
          "name": "stderr"
        },
        {
          "output_type": "stream",
          "text": [
            "Time is taken by model: — 280.03242921829224 seconds —\n"
          ],
          "name": "stdout"
        }
      ]
    },
    {
      "cell_type": "code",
      "metadata": {
        "id": "oBiHeverv9sw",
        "colab_type": "code",
        "outputId": "381a8a67-389d-4b64-e453-d5f0c4d8a42d",
        "colab": {
          "base_uri": "https://localhost:8080/",
          "height": 33
        }
      },
      "source": [
        "#Perfom the prediction on test data\n",
        "y_predict = rnd_clf.predict(d2_X_test)\n",
        "\n",
        "#Measure the accurancy of the Classifier\n",
        "from sklearn.metrics import accuracy_score\n",
        "print(f\"Accuracy is {accuracy_score(y_predict, y_test) * 100}%\")"
      ],
      "execution_count": 0,
      "outputs": [
        {
          "output_type": "stream",
          "text": [
            "Accuracy is 46.54%\n"
          ],
          "name": "stdout"
        }
      ]
    },
    {
      "cell_type": "markdown",
      "metadata": {
        "id": "K9oMSUUUwHsc",
        "colab_type": "text"
      },
      "source": [
        "use ***PCA** to reduce the dataset's dimensionality, with an explained variance ratio of 95%."
      ]
    },
    {
      "cell_type": "code",
      "metadata": {
        "id": "x9_emk05wGCC",
        "colab_type": "code",
        "outputId": "8f365fd6-379b-4da2-9611-e8e5d7346f4a",
        "colab": {
          "base_uri": "https://localhost:8080/",
          "height": 51
        }
      },
      "source": [
        "#Use PCA to reduce the dataset's dimensionality, with an explained variance ratio of 95%\n",
        "from sklearn.decomposition import PCA\n",
        "import time\n",
        "pca = PCA(n_components = .95) #This will insure that 95% variance is covered\n",
        "time1=time.time()\n",
        "X_train_pca = pca.fit_transform(d2_X_train)\n",
        "print(\"PCA took {:.1f}s.\".format(time.time() - time1))\n",
        "\n",
        "#Verify the redued shape before we start training new model\n",
        "#print(f\"X_train shape is {d2_X_train.shape} and X_train_reduced shape is {X_train_reduced.shape}\")\n",
        "print(f\"X_train shape is {d2_X_train.shape} and X_train_pca shape is {X_train_pca.shape}\")"
      ],
      "execution_count": 0,
      "outputs": [
        {
          "output_type": "stream",
          "text": [
            "PCA took 75.5s.\n",
            "X_train shape is (50000, 3072) and X_train_pca shape is (50000, 217)\n"
          ],
          "name": "stdout"
        }
      ]
    },
    {
      "cell_type": "markdown",
      "metadata": {
        "id": "snyENsaE57N-",
        "colab_type": "text"
      },
      "source": [
        "Train the dimensionality reduced model with **Random Forest**, and calculating the time. "
      ]
    },
    {
      "cell_type": "code",
      "metadata": {
        "id": "eu-fp9CfwPYy",
        "colab_type": "code",
        "outputId": "60532dad-9b92-43fc-9ebc-d71f0936f0dc",
        "colab": {
          "base_uri": "https://localhost:8080/",
          "height": 86
        }
      },
      "source": [
        "start_time2 = time.time() \n",
        "rnd_clf.fit(X_train_pca, y_train) #Train the model \n",
        "print(\"Time is taken by model:\",\"— %s seconds —\"% (time.time()-start_time2))"
      ],
      "execution_count": 0,
      "outputs": [
        {
          "output_type": "stream",
          "text": [
            "/usr/local/lib/python3.6/dist-packages/ipykernel_launcher.py:2: DataConversionWarning: A column-vector y was passed when a 1d array was expected. Please change the shape of y to (n_samples,), for example using ravel().\n",
            "  \n"
          ],
          "name": "stderr"
        },
        {
          "output_type": "stream",
          "text": [
            "Time is taken by model: — 121.14815711975098 seconds —\n"
          ],
          "name": "stdout"
        }
      ]
    },
    {
      "cell_type": "markdown",
      "metadata": {
        "id": "I8vyjZonJHtP",
        "colab_type": "text"
      },
      "source": [
        "After dimensionality reduced by PCA, train data with Random Forest took much less time -- was 280 seconds, now it's only 121 seconds."
      ]
    },
    {
      "cell_type": "code",
      "metadata": {
        "id": "XGb4ibo4wnNk",
        "colab_type": "code",
        "outputId": "9f1f2dfc-9276-4e4e-cb7d-1c65d310a384",
        "colab": {
          "base_uri": "https://localhost:8080/",
          "height": 33
        }
      },
      "source": [
        "X_test_reduced = pca.transform(d2_X_test) #Reduce the dimensionality first\n",
        "y_predict2 = rnd_clf.predict(X_test_reduced) #Predic the values using Model\n",
        "print(f\"Accuracy is {accuracy_score(y_predict2, y_test)* 100} %\") #Print the accuracy"
      ],
      "execution_count": 0,
      "outputs": [
        {
          "output_type": "stream",
          "text": [
            "Accuracy is 44.14 %\n"
          ],
          "name": "stdout"
        }
      ]
    },
    {
      "cell_type": "markdown",
      "metadata": {
        "id": "iF3iKDsSCGJv",
        "colab_type": "text"
      },
      "source": [
        "However the Accuracy dropped a little bit. \n",
        "\n",
        "Now we'll use **t-SNE** to reduce dimensionality down to 2D so we can plot the dataset. Current dimension is 3072"
      ]
    },
    {
      "cell_type": "code",
      "metadata": {
        "id": "lXg2NjjgCEwL",
        "colab_type": "code",
        "outputId": "ff4fdb63-5a54-4a8f-86db-f5fcc7b824f3",
        "colab": {
          "base_uri": "https://localhost:8080/",
          "height": 50
        }
      },
      "source": [
        "#Dimensionality reduction on the full 50,000 images takes a very long time, so we are doing this on a random subset of 10,000 images:\n",
        "import numpy as np \n",
        "np.random.seed(42)\n",
        "\n",
        "train_set = 10000 \n",
        "idx = np.random.permutation(50000)[:train_set] \n",
        "X = d2_X_train[idx] \n",
        "y = y_train[idx]\n",
        "print(f\"Length of the X : {X.shape}, Length of y is : {y.shape}\")\n",
        "\n",
        "from sklearn.manifold import TSNE \n",
        "\n",
        "t0 = time.time()\n",
        "tsne_red = TSNE(n_components=2, random_state=42) \n",
        "X_reduced = tsne_red.fit_transform(X)\n",
        "t1 = time.time()\n",
        "print(\"t-SNE took {:.1f}s.\".format(t1 - t0))"
      ],
      "execution_count": 0,
      "outputs": [
        {
          "output_type": "stream",
          "text": [
            "Length of the X : (10000, 3072), Length of y is : (10000, 1)\n",
            "t-SNE took 859.0s.\n"
          ],
          "name": "stdout"
        }
      ]
    },
    {
      "cell_type": "markdown",
      "metadata": {
        "id": "AcTKRm4Z7z9x",
        "colab_type": "text"
      },
      "source": [
        "Train the dimensionality reduced model （used t-SNE）） with Random Forest, and calculating the time. "
      ]
    },
    {
      "cell_type": "code",
      "metadata": {
        "id": "6wEE3po2DdMq",
        "colab_type": "code",
        "outputId": "c1a316fd-db86-40a4-fba4-8492216fb33a",
        "colab": {
          "base_uri": "https://localhost:8080/",
          "height": 86
        }
      },
      "source": [
        "start_time3 = time.time() \n",
        "rnd_clf.fit(X_reduced, y) #Train the model \n",
        "print(\"Time is taken by model:\",\"— %s seconds —\"% (time.time()-start_time3))"
      ],
      "execution_count": 0,
      "outputs": [
        {
          "output_type": "stream",
          "text": [
            "/usr/local/lib/python3.6/dist-packages/ipykernel_launcher.py:2: DataConversionWarning: A column-vector y was passed when a 1d array was expected. Please change the shape of y to (n_samples,), for example using ravel().\n",
            "  \n"
          ],
          "name": "stderr"
        },
        {
          "output_type": "stream",
          "text": [
            "Time is taken by model: — 1.993208885192871 seconds —\n"
          ],
          "name": "stdout"
        }
      ]
    },
    {
      "cell_type": "code",
      "metadata": {
        "id": "64xRGIPr8gaR",
        "colab_type": "code",
        "outputId": "533e0002-353e-4972-8d07-ec95c2bdfad9",
        "colab": {
          "base_uri": "https://localhost:8080/",
          "height": 33
        }
      },
      "source": [
        "X_test_reduced2 =tsne_red.fit_transform(d2_X_test) #Reduce the dimensionality first\n",
        "y_predict3 = rnd_clf.predict(X_test_reduced2) #Predic the values using Model\n",
        "print(f\"Accuracy is {accuracy_score(y_predict3, y_test)* 100} %\") #Print the accuracy"
      ],
      "execution_count": 0,
      "outputs": [
        {
          "output_type": "stream",
          "text": [
            "Accuracy is 12.889999999999999 %\n"
          ],
          "name": "stdout"
        }
      ]
    },
    {
      "cell_type": "markdown",
      "metadata": {
        "id": "Z0Q7vtfvFwq4",
        "colab_type": "text"
      },
      "source": [
        "WOW t-SNE took a super long time to reduce dimensionality: 858.8 seconds!! And the accuracy with the t-SNE processed data is super low, 12.9 % accuracy. \n",
        "Compare to t-SNE, PCA is much faster, and has higher accuracy in this case. However 43% is not that high either. I'll study more, and try to figure out better methods to use. \n",
        "\n",
        "\n"
      ]
    },
    {
      "cell_type": "markdown",
      "metadata": {
        "id": "EO925mQkLTio",
        "colab_type": "text"
      },
      "source": [
        "**Binary classifiers**\n",
        "\n",
        "**Convert y_train data from 2d array to 1d array. \n",
        "In order to draw ROC curves**"
      ]
    },
    {
      "cell_type": "code",
      "metadata": {
        "id": "tBGG4S3BL-_k",
        "colab_type": "code",
        "outputId": "2c624e1c-05ac-46d6-9c43-9d016c653a4a",
        "colab": {
          "base_uri": "https://localhost:8080/",
          "height": 136
        }
      },
      "source": [
        "d1_y_train = y_train.ravel()\n",
        "\n",
        "y_train_H = (d1_y_train == get_classes_index_by_name('horse'))\n",
        "y_test_H = (y_test == get_classes_index_by_name('horse'))\n",
        "\n",
        "y_train_H2 = (y_train == get_classes_index_by_name('horse'))\n",
        "#y_test_H = (y_test == get_classes_index_by_name('horse'))\n",
        "\n",
        "y_train_H\n",
        "y_train_H2\n",
        "#d2_X_train[get_classes_index_by_name('horse')]"
      ],
      "execution_count": 28,
      "outputs": [
        {
          "output_type": "execute_result",
          "data": {
            "text/plain": [
              "array([[False],\n",
              "       [False],\n",
              "       [False],\n",
              "       ...,\n",
              "       [False],\n",
              "       [False],\n",
              "       [False]])"
            ]
          },
          "metadata": {
            "tags": []
          },
          "execution_count": 28
        }
      ]
    },
    {
      "cell_type": "code",
      "metadata": {
        "id": "nWtzuNHhP_5A",
        "colab_type": "code",
        "outputId": "38155ef3-c408-4e34-e728-d6b8ef120d56",
        "colab": {
          "base_uri": "https://localhost:8080/",
          "height": 119
        }
      },
      "source": [
        "from sklearn.linear_model import SGDClassifier\n",
        "sgd_clf = SGDClassifier(max_iter=1000, tol=1e-3, random_state=42)\n",
        "sgd_clf.fit(d2_X_train, y_train_H)\n"
      ],
      "execution_count": 8,
      "outputs": [
        {
          "output_type": "execute_result",
          "data": {
            "text/plain": [
              "SGDClassifier(alpha=0.0001, average=False, class_weight=None,\n",
              "              early_stopping=False, epsilon=0.1, eta0=0.0, fit_intercept=True,\n",
              "              l1_ratio=0.15, learning_rate='optimal', loss='hinge',\n",
              "              max_iter=1000, n_iter_no_change=5, n_jobs=None, penalty='l2',\n",
              "              power_t=0.5, random_state=42, shuffle=True, tol=0.001,\n",
              "              validation_fraction=0.1, verbose=0, warm_start=False)"
            ]
          },
          "metadata": {
            "tags": []
          },
          "execution_count": 8
        }
      ]
    },
    {
      "cell_type": "code",
      "metadata": {
        "id": "tLqUTV9aVtOy",
        "colab_type": "code",
        "outputId": "d1a389eb-84d3-488d-89c1-8590b8881ff8",
        "colab": {
          "base_uri": "https://localhost:8080/",
          "height": 34
        }
      },
      "source": [
        "some_digit = d2_X_train[get_classes_index_by_name('horse')]\n",
        "sgd_clf.predict([some_digit])"
      ],
      "execution_count": 9,
      "outputs": [
        {
          "output_type": "execute_result",
          "data": {
            "text/plain": [
              "array([ True])"
            ]
          },
          "metadata": {
            "tags": []
          },
          "execution_count": 9
        }
      ]
    },
    {
      "cell_type": "markdown",
      "metadata": {
        "id": "Ixs46qiFhcJ3",
        "colab_type": "text"
      },
      "source": [
        "**Cross Validation Score**"
      ]
    },
    {
      "cell_type": "code",
      "metadata": {
        "id": "UZrcy_6CRhCe",
        "colab_type": "code",
        "outputId": "c6995528-f900-4698-cc6d-afb5a897a587",
        "colab": {
          "base_uri": "https://localhost:8080/",
          "height": 34
        }
      },
      "source": [
        "from sklearn.model_selection import cross_val_score\n",
        "cross_val_score(sgd_clf, d2_X_train, y_train_H, cv=3, scoring=\"accuracy\")"
      ],
      "execution_count": 0,
      "outputs": [
        {
          "output_type": "execute_result",
          "data": {
            "text/plain": [
              "array([0.90226195, 0.89956201, 0.8876155 ])"
            ]
          },
          "metadata": {
            "tags": []
          },
          "execution_count": 57
        }
      ]
    },
    {
      "cell_type": "markdown",
      "metadata": {
        "id": "B0uo3ti0hi8S",
        "colab_type": "text"
      },
      "source": [
        "### **K-Fold**\n",
        "\n"
      ]
    },
    {
      "cell_type": "code",
      "metadata": {
        "id": "PDZlTCjgex40",
        "colab_type": "code",
        "outputId": "778c7e77-f2e0-4333-e0a3-1741a8976746",
        "colab": {
          "base_uri": "https://localhost:8080/",
          "height": 121
        }
      },
      "source": [
        "from sklearn.model_selection import StratifiedKFold\n",
        "from sklearn.base import clone\n",
        "\n",
        "skfolds = StratifiedKFold(n_splits=3, random_state=42)\n",
        "\n",
        "for train_index, test_index in skfolds.split(X_train, y_train_H):\n",
        "    clone_clf = clone(sgd_clf)\n",
        "    X_train_folds =d2_X_train[train_index]\n",
        "    y_train_folds = y_train_H[train_index]\n",
        "    X_test_fold =d2_X_train[test_index]\n",
        "    y_test_fold = y_train_H[test_index]\n",
        "\n",
        "    clone_clf.fit(X_train_folds, y_train_folds)\n",
        "    y_pred = clone_clf.predict(X_test_fold)\n",
        "    n_correct = sum(y_pred == y_test_fold)\n",
        "    print(n_correct / len(y_pred))"
      ],
      "execution_count": 0,
      "outputs": [
        {
          "output_type": "stream",
          "text": [
            "/usr/local/lib/python3.6/dist-packages/sklearn/model_selection/_split.py:296: FutureWarning: Setting a random_state has no effect since shuffle is False. This will raise an error in 0.24. You should leave random_state to its default (None), or set shuffle=True.\n",
            "  FutureWarning\n"
          ],
          "name": "stderr"
        },
        {
          "output_type": "stream",
          "text": [
            "0.9022619547609048\n",
            "0.8995620087598248\n",
            "0.8876155046201848\n"
          ],
          "name": "stdout"
        }
      ]
    },
    {
      "cell_type": "markdown",
      "metadata": {
        "id": "HYOR5_uwgIUG",
        "colab_type": "text"
      },
      "source": [
        "The StraitifiedKFold class performs stratified smpling to produce folds that contain a representative ratio of each class. It counts the number of correct predictions and outputs the ratio of correct predictions. At each iteration the code creats a clone of the classifier, trains that clone on the training folds and make predictions on the test fold. Then it counts the number of correct predictions and output the ratio of correct predictions. \n",
        "\n",
        "K-fold cross validation means splitting the training set into K-folds, and we did 3 folds in this exercises. "
      ]
    },
    {
      "cell_type": "code",
      "metadata": {
        "id": "bTQ44OOvghOm",
        "colab_type": "code",
        "colab": {}
      },
      "source": [
        "from sklearn.base import BaseEstimator\n",
        "class Never5Classifier(BaseEstimator):\n",
        "    def fit(self, X, y=None):\n",
        "        pass\n",
        "    def predict(self, X):\n",
        "        return np.zeros((len(X), 1), dtype=bool)"
      ],
      "execution_count": 0,
      "outputs": []
    },
    {
      "cell_type": "code",
      "metadata": {
        "id": "wzb5ZTnkguQS",
        "colab_type": "code",
        "outputId": "00e7afdd-b917-45de-aa61-dcaeb43c3186",
        "colab": {
          "base_uri": "https://localhost:8080/",
          "height": 34
        }
      },
      "source": [
        "never_5_clf = Never5Classifier()\n",
        "cross_val_score(never_5_clf, d2_X_train, y_train_H, cv=3, scoring=\"accuracy\")"
      ],
      "execution_count": 0,
      "outputs": [
        {
          "output_type": "execute_result",
          "data": {
            "text/plain": [
              "array([0.89878202, 0.89938201, 0.90183607])"
            ]
          },
          "metadata": {
            "tags": []
          },
          "execution_count": 69
        }
      ]
    },
    {
      "cell_type": "markdown",
      "metadata": {
        "id": "7yOntVYekEwo",
        "colab_type": "text"
      },
      "source": [
        "Wow! Around 90% accuracy! This is simply because 10% of the images are horses, so if you always guess that an image is not horse, you will be right about 90% of the time. "
      ]
    },
    {
      "cell_type": "markdown",
      "metadata": {
        "id": "MvkfID6Fkplk",
        "colab_type": "text"
      },
      "source": [
        "### **Confusion Matrix**\n",
        "\n",
        "make predictions on the test set.\n",
        "Just like the cross_val_score() function, cross_val_predict() performs ***K-fold cross-validation**, but instead of retruning the evaluation scores, it returns the predictions made on each test fold. "
      ]
    },
    {
      "cell_type": "code",
      "metadata": {
        "id": "ivA4mwEBg_hV",
        "colab_type": "code",
        "colab": {}
      },
      "source": [
        "from sklearn.model_selection import cross_val_predict\n",
        "\n",
        "y_train_pred = cross_val_predict(sgd_clf, d2_X_train, y_train_H, cv=3)"
      ],
      "execution_count": 0,
      "outputs": []
    },
    {
      "cell_type": "code",
      "metadata": {
        "id": "9qXZqztViK7o",
        "colab_type": "code",
        "outputId": "fa288f4b-3b5a-4541-d7b6-3f8de8028470",
        "colab": {
          "base_uri": "https://localhost:8080/",
          "height": 51
        }
      },
      "source": [
        "from sklearn.metrics import confusion_matrix\n",
        "\n",
        "confusion_matrix(y_train_H, y_train_pred)"
      ],
      "execution_count": 0,
      "outputs": [
        {
          "output_type": "execute_result",
          "data": {
            "text/plain": [
              "array([[43487,  1513],\n",
              "       [ 3663,  1337]])"
            ]
          },
          "metadata": {
            "tags": []
          },
          "execution_count": 72
        }
      ]
    },
    {
      "cell_type": "markdown",
      "metadata": {
        "id": "njy9k9IMlfde",
        "colab_type": "text"
      },
      "source": [
        "The first row of this matrix considers non-horse images: 43487 of them were correctly classified as non-horses (true negative); 1513 were wrongly classified as horses (false positive); The second row considers the images of 5s(positive class): 3663 were wrongly classified as non-horses(false negative); 1337 were correctly classified as horses (true positives); "
      ]
    },
    {
      "cell_type": "code",
      "metadata": {
        "id": "IgPw3xVfimXc",
        "colab_type": "code",
        "outputId": "38045854-2405-454a-a7e7-8ae454f709a2",
        "colab": {
          "base_uri": "https://localhost:8080/",
          "height": 51
        }
      },
      "source": [
        "y_train_perfect_predictions = y_train_H  # pretend we reached perfection\n",
        "confusion_matrix(y_train_H, y_train_perfect_predictions)"
      ],
      "execution_count": 0,
      "outputs": [
        {
          "output_type": "execute_result",
          "data": {
            "text/plain": [
              "array([[45000,     0],\n",
              "       [    0,  5000]])"
            ]
          },
          "metadata": {
            "tags": []
          },
          "execution_count": 73
        }
      ]
    },
    {
      "cell_type": "code",
      "metadata": {
        "id": "VHuLrQYWivCu",
        "colab_type": "code",
        "outputId": "d9b5fafb-f5ae-47ad-908b-3ce7bef0e9f8",
        "colab": {
          "base_uri": "https://localhost:8080/",
          "height": 34
        }
      },
      "source": [
        "from sklearn.metrics import precision_score, recall_score\n",
        "\n",
        "precision_score(y_train_H, y_train_pred)\n"
      ],
      "execution_count": 0,
      "outputs": [
        {
          "output_type": "execute_result",
          "data": {
            "text/plain": [
              "0.4691228070175439"
            ]
          },
          "metadata": {
            "tags": []
          },
          "execution_count": 22
        }
      ]
    },
    {
      "cell_type": "markdown",
      "metadata": {
        "id": "ooYbbSgtmhdu",
        "colab_type": "text"
      },
      "source": [
        "***Precision**\n",
        "\n",
        "precision = TP/(TP + FP), it's the accuracy of the positive predictions. "
      ]
    },
    {
      "cell_type": "code",
      "metadata": {
        "id": "syqhUpLsjPI1",
        "colab_type": "code",
        "outputId": "841b37db-8e83-4bee-89d4-3f49c545b939",
        "colab": {
          "base_uri": "https://localhost:8080/",
          "height": 34
        }
      },
      "source": [
        "print(\"1337/(1337+1513) = \", 1337/(1337+1513) )"
      ],
      "execution_count": 0,
      "outputs": [
        {
          "output_type": "stream",
          "text": [
            "1337/(1337+1513) =  0.4691228070175439\n"
          ],
          "name": "stdout"
        }
      ]
    },
    {
      "cell_type": "markdown",
      "metadata": {
        "id": "HWGpz09wm8Xx",
        "colab_type": "text"
      },
      "source": [
        "***SENSITIVITY / Recall**\n",
        "\n",
        "sensitivity = recall = TP/(TP+FN), it's the ratio of positive instances that are correctly detected by the classifier"
      ]
    },
    {
      "cell_type": "code",
      "metadata": {
        "id": "TiQkGD_zjfX0",
        "colab_type": "code",
        "outputId": "5d3d8035-b47e-40da-c6a4-98a8205fa224",
        "colab": {
          "base_uri": "https://localhost:8080/",
          "height": 34
        }
      },
      "source": [
        "recall_score(y_train_H, y_train_pred)"
      ],
      "execution_count": 0,
      "outputs": [
        {
          "output_type": "execute_result",
          "data": {
            "text/plain": [
              "0.2674"
            ]
          },
          "metadata": {
            "tags": []
          },
          "execution_count": 78
        }
      ]
    },
    {
      "cell_type": "code",
      "metadata": {
        "id": "3G1ErfwIjoui",
        "colab_type": "code",
        "outputId": "94a3f85f-717b-4b35-a2c7-193b8994c132",
        "colab": {
          "base_uri": "https://localhost:8080/",
          "height": 34
        }
      },
      "source": [
        "print(\"1337/(1337+3663) = \", 1337/(1337+3663) )"
      ],
      "execution_count": 0,
      "outputs": [
        {
          "output_type": "stream",
          "text": [
            "1337/(1337+3663) =  0.2674\n"
          ],
          "name": "stdout"
        }
      ]
    },
    {
      "cell_type": "markdown",
      "metadata": {
        "id": "LJRy-lK0od8V",
        "colab_type": "text"
      },
      "source": [
        "***SPECIFICITY**\n",
        "\n",
        "Specificity = TN/(TN+FP), ture negative rate"
      ]
    },
    {
      "cell_type": "code",
      "metadata": {
        "id": "FuZXpJInpCMb",
        "colab_type": "code",
        "outputId": "b075e8e6-1a68-44ea-d1e5-ff61b3972b8e",
        "colab": {
          "base_uri": "https://localhost:8080/",
          "height": 34
        }
      },
      "source": [
        "print(\"Specificity = \", 43487/(43487+1513) )"
      ],
      "execution_count": 0,
      "outputs": [
        {
          "output_type": "stream",
          "text": [
            "Specificity =  0.9663777777777778\n"
          ],
          "name": "stdout"
        }
      ]
    },
    {
      "cell_type": "code",
      "metadata": {
        "id": "3Pfqv2FSrE8m",
        "colab_type": "code",
        "outputId": "5604a7d3-6dde-42b1-84e9-5f30236aae6c",
        "colab": {
          "base_uri": "https://localhost:8080/",
          "height": 34
        }
      },
      "source": [
        "y_scores = sgd_clf.decision_function([some_digit])\n",
        "y_scores"
      ],
      "execution_count": 0,
      "outputs": [
        {
          "output_type": "execute_result",
          "data": {
            "text/plain": [
              "array([4.08976723])"
            ]
          },
          "metadata": {
            "tags": []
          },
          "execution_count": 18
        }
      ]
    },
    {
      "cell_type": "code",
      "metadata": {
        "id": "9j5f9qeJrXeZ",
        "colab_type": "code",
        "colab": {}
      },
      "source": [
        "threshold = 0\n",
        "y_some_digit_pred = (y_scores > threshold)"
      ],
      "execution_count": 0,
      "outputs": []
    },
    {
      "cell_type": "code",
      "metadata": {
        "id": "YfWNaf_1raGP",
        "colab_type": "code",
        "outputId": "e0afc241-792a-487c-d22a-62356c0d102b",
        "colab": {
          "base_uri": "https://localhost:8080/",
          "height": 34
        }
      },
      "source": [
        "y_some_digit_pred"
      ],
      "execution_count": 0,
      "outputs": [
        {
          "output_type": "execute_result",
          "data": {
            "text/plain": [
              "array([ True])"
            ]
          },
          "metadata": {
            "tags": []
          },
          "execution_count": 95
        }
      ]
    },
    {
      "cell_type": "code",
      "metadata": {
        "id": "jfwmIyKerc72",
        "colab_type": "code",
        "outputId": "34ba8a77-0cb5-4c61-bf9a-35630854d519",
        "colab": {
          "base_uri": "https://localhost:8080/",
          "height": 34
        }
      },
      "source": [
        "threshold = 8000\n",
        "y_some_digit_pred = (y_scores > threshold)\n",
        "y_some_digit_pred"
      ],
      "execution_count": 0,
      "outputs": [
        {
          "output_type": "execute_result",
          "data": {
            "text/plain": [
              "array([False])"
            ]
          },
          "metadata": {
            "tags": []
          },
          "execution_count": 96
        }
      ]
    },
    {
      "cell_type": "code",
      "metadata": {
        "id": "mghY8cPZrhBY",
        "colab_type": "code",
        "colab": {}
      },
      "source": [
        "y_scores = cross_val_predict(sgd_clf, d2_X_train, y_train_H, cv=3,\n",
        "                             method=\"decision_function\")"
      ],
      "execution_count": 0,
      "outputs": []
    },
    {
      "cell_type": "code",
      "metadata": {
        "id": "eJ0C6pZ2sFLI",
        "colab_type": "code",
        "colab": {}
      },
      "source": [
        "from sklearn.metrics import precision_recall_curve\n",
        "\n",
        "precisions, recalls, thresholds = precision_recall_curve(y_train_H, y_scores)"
      ],
      "execution_count": 0,
      "outputs": []
    },
    {
      "cell_type": "code",
      "metadata": {
        "id": "72equtw5sJ6g",
        "colab_type": "code",
        "outputId": "e2b470da-5d92-4de7-d717-20c625a0c42f",
        "colab": {
          "base_uri": "https://localhost:8080/",
          "height": 292
        }
      },
      "source": [
        "def plot_precision_recall_vs_threshold(precisions, recalls, thresholds):\n",
        "    plt.plot(thresholds, precisions[:-1], \"b--\", label=\"Precision\", linewidth=2)\n",
        "    plt.plot(thresholds, recalls[:-1], \"g-\", label=\"Recall\", linewidth=2)\n",
        "    plt.legend(loc=\"center right\", fontsize=16) # Not shown in the book\n",
        "    plt.xlabel(\"Threshold\", fontsize=16)        # Not shown\n",
        "    plt.grid(True)                              # Not shown\n",
        "    plt.axis([-50000, 50000, 0, 1])             # Not shown\n",
        "\n",
        "\n",
        "\n",
        "recall_90_precision = recalls[np.argmax(precisions >= 0.90)]\n",
        "threshold_90_precision = thresholds[np.argmax(precisions >= 0.75)]\n",
        "\n",
        "\n",
        "plt.figure(figsize=(8, 4))                                                                  # Not shown\n",
        "plot_precision_recall_vs_threshold(precisions, recalls, thresholds)\n",
        "plt.plot([threshold_90_precision, threshold_90_precision], [0., 0.9], \"r:\")                 # Not shown\n",
        "plt.plot([-50000, threshold_90_precision], [0.9, 0.9], \"r:\")                                # Not shown\n",
        "plt.plot([-50000, threshold_90_precision], [recall_90_precision, recall_90_precision], \"r:\")# Not shown\n",
        "plt.plot([threshold_90_precision], [0.9], \"ro\")                                             # Not shown\n",
        "plt.plot([threshold_90_precision], [recall_90_precision], \"ro\")                             # Not shown\n",
        "#save_fig(\"precision_recall_vs_threshold_plot\")                                              # Not shown\n",
        "plt.show()"
      ],
      "execution_count": 0,
      "outputs": [
        {
          "output_type": "display_data",
          "data": {
            "image/png": "[encoded data removed]",
            "text/plain": [
              "<Figure size 576x288 with 1 Axes>"
            ]
          },
          "metadata": {
            "tags": []
          }
        }
      ]
    },
    {
      "cell_type": "markdown",
      "metadata": {
        "id": "ZILp9qN7MbZg",
        "colab_type": "text"
      },
      "source": [
        "Something's wrong with this graph, have to fix it later. "
      ]
    },
    {
      "cell_type": "code",
      "metadata": {
        "id": "8Pea0qirtu-_",
        "colab_type": "code",
        "outputId": "bf94cc03-c302-406f-e3e3-11e2db0f1780",
        "colab": {
          "base_uri": "https://localhost:8080/",
          "height": 34
        }
      },
      "source": [
        "(y_train_pred == (y_scores > 0)).all()"
      ],
      "execution_count": 0,
      "outputs": [
        {
          "output_type": "execute_result",
          "data": {
            "text/plain": [
              "True"
            ]
          },
          "metadata": {
            "tags": []
          },
          "execution_count": 115
        }
      ]
    },
    {
      "cell_type": "code",
      "metadata": {
        "id": "jHAI1qFCtzKa",
        "colab_type": "code",
        "outputId": "e400b692-666a-42a2-8c7d-1516fa7eabd5",
        "colab": {
          "base_uri": "https://localhost:8080/",
          "height": 401
        }
      },
      "source": [
        "def plot_precision_vs_recall(precisions, recalls):\n",
        "    plt.plot(recalls, precisions, \"b-\", linewidth=2)\n",
        "    plt.xlabel(\"Recall\", fontsize=16)\n",
        "    plt.ylabel(\"Precision\", fontsize=16)\n",
        "    plt.axis([0, 1, 0, 1])\n",
        "    plt.grid(True)\n",
        "\n",
        "plt.figure(figsize=(8, 6))\n",
        "plot_precision_vs_recall(precisions, recalls)\n",
        "plt.plot([0.4368, 0.4368], [0., 0.9], \"r:\")\n",
        "plt.plot([0.0, 0.4368], [0.9, 0.9], \"r:\")\n",
        "plt.plot([0.4368], [0.9], \"ro\")\n",
        "#save_fig(\"precision_vs_recall_plot\")\n",
        "plt.show()"
      ],
      "execution_count": 0,
      "outputs": [
        {
          "output_type": "display_data",
          "data": {
            "image/png": "[encoded data removed]",
            "text/plain": [
              "<Figure size 576x432 with 1 Axes>"
            ]
          },
          "metadata": {
            "tags": []
          }
        }
      ]
    },
    {
      "cell_type": "markdown",
      "metadata": {
        "id": "_LggDuy7ufmm",
        "colab_type": "text"
      },
      "source": [
        "### **ROC Curves**\n",
        "\n",
        "One way to compare classifiers is to measure the area under the curve (AUC). A perfect classifier will have ROC AUC equal to 1, whereas a purely random classifier will have a ROC AUC equal to 0.5. \n",
        "\n",
        "***SGD Classifier's ROC Curve**"
      ]
    },
    {
      "cell_type": "markdown",
      "metadata": {
        "id": "fY4lxh1h7N7F",
        "colab_type": "text"
      },
      "source": [
        ""
      ]
    },
    {
      "cell_type": "code",
      "metadata": {
        "id": "mlgc2PRgupYQ",
        "colab_type": "code",
        "colab": {}
      },
      "source": [
        "from sklearn.metrics import roc_curve\n",
        "\n",
        "fpr, tpr, thresholds = roc_curve(y_train_H, y_scores)"
      ],
      "execution_count": 0,
      "outputs": []
    },
    {
      "cell_type": "code",
      "metadata": {
        "id": "omkq4l0vutic",
        "colab_type": "code",
        "outputId": "1a9b266d-fd00-488a-e71d-f54423ec17be",
        "colab": {
          "base_uri": "https://localhost:8080/",
          "height": 401
        }
      },
      "source": [
        "def plot_roc_curve(fpr, tpr, label=None):\n",
        "    plt.plot(fpr, tpr, linewidth=2, label=label)\n",
        "    plt.plot([0, 1], [0, 1], 'k--') # dashed diagonal\n",
        "    plt.axis([0, 1, 0, 1])                                    # Not shown in the book\n",
        "    plt.xlabel('False Positive Rate (Fall-Out)', fontsize=16) # Not shown\n",
        "    plt.ylabel('True Positive Rate (Recall)', fontsize=16)    # Not shown\n",
        "    plt.grid(True)                                            # Not shown\n",
        "\n",
        "plt.figure(figsize=(8, 6))                         # Not shown\n",
        "plot_roc_curve(fpr, tpr)\n",
        "plt.plot([4.837e-3, 4.837e-3], [0., 0.4368], \"r:\") # Not shown\n",
        "plt.plot([0.0, 4.837e-3], [0.4368, 0.4368], \"r:\")  # Not shown\n",
        "plt.plot([4.837e-3], [0.4368], \"ro\")               # Not shown\n",
        "#save_fig(\"roc_curve_plot\")                         # Not shown\n",
        "plt.show()"
      ],
      "execution_count": 0,
      "outputs": [
        {
          "output_type": "display_data",
          "data": {
            "image/png": "[encoded data removed]",
            "text/plain": [
              "<Figure size 576x432 with 1 Axes>"
            ]
          },
          "metadata": {
            "tags": []
          }
        }
      ]
    },
    {
      "cell_type": "code",
      "metadata": {
        "id": "jf6QEpO7u6i-",
        "colab_type": "code",
        "outputId": "ad708ada-893d-4619-9e57-5a906e4318e8",
        "colab": {
          "base_uri": "https://localhost:8080/",
          "height": 34
        }
      },
      "source": [
        "from sklearn.metrics import roc_auc_score\n",
        "\n",
        "roc_auc_score(y_train_H, y_scores)"
      ],
      "execution_count": 0,
      "outputs": [
        {
          "output_type": "execute_result",
          "data": {
            "text/plain": [
              "0.7658821644444445"
            ]
          },
          "metadata": {
            "tags": []
          },
          "execution_count": 120
        }
      ]
    },
    {
      "cell_type": "markdown",
      "metadata": {
        "id": "G-HsjT4y0AZX",
        "colab_type": "text"
      },
      "source": [
        "***Random Forest's ROC Curve**"
      ]
    },
    {
      "cell_type": "code",
      "metadata": {
        "id": "x0naFGHY0GjO",
        "colab_type": "code",
        "colab": {}
      },
      "source": [
        "from sklearn.ensemble import RandomForestClassifier\n",
        "forest_clf = RandomForestClassifier(n_estimators=100, random_state=42)\n",
        "y_probas_forest = cross_val_predict(forest_clf, d2_X_train, y_train_H, cv=3,\n",
        "                                    method=\"predict_proba\")"
      ],
      "execution_count": 0,
      "outputs": []
    },
    {
      "cell_type": "code",
      "metadata": {
        "id": "9oXFJZL60lZA",
        "colab_type": "code",
        "outputId": "7c1b377c-aa9e-4f71-d813-b80fcbee0867",
        "colab": {
          "base_uri": "https://localhost:8080/",
          "height": 51
        }
      },
      "source": [
        "print(y_train_H)\n",
        "y_scores_forest = y_probas_forest[:, 1] # score = proba of positive class\n",
        "print(y_scores_forest)\n",
        "fpr_forest, tpr_forest, thresholds_forest = roc_curve(y_train_H, y_scores_forest)"
      ],
      "execution_count": 0,
      "outputs": [
        {
          "output_type": "stream",
          "text": [
            "[False False False ... False False False]\n",
            "[0.12 0.13 0.19 ... 0.05 0.07 0.25]\n"
          ],
          "name": "stdout"
        }
      ]
    },
    {
      "cell_type": "code",
      "metadata": {
        "id": "7arZlDP20qoW",
        "colab_type": "code",
        "outputId": "ec617f72-34f6-40a3-e5ad-4ef08b5ab76f",
        "colab": {
          "base_uri": "https://localhost:8080/",
          "height": 401
        }
      },
      "source": [
        "plt.figure(figsize=(8, 6))\n",
        "plt.plot(fpr, tpr, \"b:\", linewidth=2, label=\"SGD\")\n",
        "plot_roc_curve(fpr_forest, tpr_forest, \"Random Forest\")\n",
        "plt.plot([4.837e-3, 4.837e-3], [0., 0.4368], \"r:\")\n",
        "plt.plot([0.0, 4.837e-3], [0.4368, 0.4368], \"r:\")\n",
        "plt.plot([4.837e-3], [0.4368], \"ro\")\n",
        "plt.plot([4.837e-3, 4.837e-3], [0., 0.9487], \"r:\")\n",
        "plt.plot([4.837e-3], [0.9487], \"ro\")\n",
        "plt.grid(True)\n",
        "plt.legend(loc=\"lower right\", fontsize=16)\n",
        "#save_fig(\"roc_curve_comparison_plot\")\n",
        "plt.show()"
      ],
      "execution_count": 0,
      "outputs": [
        {
          "output_type": "display_data",
          "data": {
            "image/png": "[encoded data removed]",
            "text/plain": [
              "<Figure size 576x432 with 1 Axes>"
            ]
          },
          "metadata": {
            "tags": []
          }
        }
      ]
    },
    {
      "cell_type": "markdown",
      "metadata": {
        "id": "i9GTox-P3Pmx",
        "colab_type": "text"
      },
      "source": [
        "As we can see, the RandomForestClassifier's ROC curve looks better than the SGDClassifier's ROC curve: It comes closer to the top-left coner."
      ]
    },
    {
      "cell_type": "code",
      "metadata": {
        "id": "DaBWkML43jX-",
        "colab_type": "code",
        "outputId": "5533211d-1f9f-4225-d3f3-763eb6611fed",
        "colab": {
          "base_uri": "https://localhost:8080/",
          "height": 34
        }
      },
      "source": [
        "roc_auc_score(y_train_H, y_scores_forest)"
      ],
      "execution_count": 0,
      "outputs": [
        {
          "output_type": "execute_result",
          "data": {
            "text/plain": [
              "0.8101624666666667"
            ]
          },
          "metadata": {
            "tags": []
          },
          "execution_count": 126
        }
      ]
    },
    {
      "cell_type": "markdown",
      "metadata": {
        "id": "90o_NCQQIIiR",
        "colab_type": "text"
      },
      "source": [
        "For fun"
      ]
    },
    {
      "cell_type": "code",
      "metadata": {
        "id": "5ZqEkgrzDbbn",
        "colab_type": "code",
        "outputId": "836fdef1-fa9e-41a4-fde0-8a128d07c290",
        "colab": {
          "base_uri": "https://localhost:8080/",
          "height": 248
        }
      },
      "source": [
        "randomX = d2_X_train[get_classes_index_by_name('horse')]\n",
        "randomX_image = randomX.reshape(32, 32,3)\n",
        "plt.imshow(randomX_image, cmap=mpl.cm.binary)\n",
        "plt.axis(\"off\")\n",
        "\n",
        "plt.show()"
      ],
      "execution_count": 0,
      "outputs": [
        {
          "output_type": "display_data",
          "data": {
            "image/png": "[encoded data removed]",
            "text/plain": [
              "<Figure size 432x288 with 1 Axes>"
            ]
          },
          "metadata": {
            "tags": []
          }
        }
      ]
    },
    {
      "cell_type": "markdown",
      "metadata": {
        "id": "0emYI5yHIQgW",
        "colab_type": "text"
      },
      "source": [
        "### **Multiclass classifiers**\n",
        "**SVM**\n",
        "\n",
        "We have already predited using Random Forest Above.\n",
        "Now we are using SVM to predict, using PCA dimentionalisy-reduced data\n"
      ]
    },
    {
      "cell_type": "code",
      "metadata": {
        "id": "6D7SiijWG91T",
        "colab_type": "code",
        "outputId": "3a25dd36-9fa2-4f4b-e57b-c9cd7adeb64a",
        "colab": {
          "base_uri": "https://localhost:8080/",
          "height": 88
        }
      },
      "source": [
        "from sklearn.svm import SVC\n",
        "\n",
        "svm_clf = SVC(gamma=\"auto\", random_state=42)\n",
        "svm_clf.fit(d2_X_train[:1000], y_train_H2[:1000]) \n",
        "svm_clf.predict([some_digit])\n"
      ],
      "execution_count": 29,
      "outputs": [
        {
          "output_type": "stream",
          "text": [
            "/usr/local/lib/python3.6/dist-packages/sklearn/utils/validation.py:760: DataConversionWarning: A column-vector y was passed when a 1d array was expected. Please change the shape of y to (n_samples, ), for example using ravel().\n",
            "  y = column_or_1d(y, warn=True)\n"
          ],
          "name": "stderr"
        },
        {
          "output_type": "execute_result",
          "data": {
            "text/plain": [
              "array([False])"
            ]
          },
          "metadata": {
            "tags": []
          },
          "execution_count": 29
        }
      ]
    },
    {
      "cell_type": "code",
      "metadata": {
        "id": "B9XIvVNzmu2H",
        "colab_type": "code",
        "colab": {
          "base_uri": "https://localhost:8080/",
          "height": 51
        },
        "outputId": "05ccf0e8-3e84-4ca4-fe66-18f8603779b6"
      },
      "source": [
        "d2_X_train[0]"
      ],
      "execution_count": 30,
      "outputs": [
        {
          "output_type": "execute_result",
          "data": {
            "text/plain": [
              "array([0.23137255, 0.24313726, 0.24705882, ..., 0.48235294, 0.36078432,\n",
              "       0.28235295], dtype=float32)"
            ]
          },
          "metadata": {
            "tags": []
          },
          "execution_count": 30
        }
      ]
    },
    {
      "cell_type": "code",
      "metadata": {
        "id": "QiX7-I5KJGks",
        "colab_type": "code",
        "outputId": "09c5c5ef-8d99-4048-9e74-b6c585e46b8e",
        "colab": {
          "base_uri": "https://localhost:8080/",
          "height": 34
        }
      },
      "source": [
        "y_scores_svm = svm_clf.decision_function([some_digit])\n",
        "y_scores_svm"
      ],
      "execution_count": 31,
      "outputs": [
        {
          "output_type": "execute_result",
          "data": {
            "text/plain": [
              "array([-0.9480374])"
            ]
          },
          "metadata": {
            "tags": []
          },
          "execution_count": 31
        }
      ]
    },
    {
      "cell_type": "code",
      "metadata": {
        "id": "wBDg6-nAJmY5",
        "colab_type": "code",
        "outputId": "4d471db8-a412-4bcf-c916-f03ccfb802b0",
        "colab": {
          "base_uri": "https://localhost:8080/",
          "height": 34
        }
      },
      "source": [
        "np.argmax(randomX_scores)"
      ],
      "execution_count": 0,
      "outputs": [
        {
          "output_type": "execute_result",
          "data": {
            "text/plain": [
              "6"
            ]
          },
          "metadata": {
            "tags": []
          },
          "execution_count": 39
        }
      ]
    },
    {
      "cell_type": "code",
      "metadata": {
        "id": "W3JYpUGiJ0AT",
        "colab_type": "code",
        "outputId": "2d8bdf13-1f0b-4726-952a-587a79500da5",
        "colab": {
          "base_uri": "https://localhost:8080/",
          "height": 34
        }
      },
      "source": [
        "svm_clf.classes_"
      ],
      "execution_count": 24,
      "outputs": [
        {
          "output_type": "execute_result",
          "data": {
            "text/plain": [
              "array([False,  True])"
            ]
          },
          "metadata": {
            "tags": []
          },
          "execution_count": 24
        }
      ]
    },
    {
      "cell_type": "code",
      "metadata": {
        "id": "4tSiWpa_LBPy",
        "colab_type": "code",
        "outputId": "fd4d6f59-5c28-4479-c7dc-4db7c7e22027",
        "colab": {
          "base_uri": "https://localhost:8080/",
          "height": 34
        }
      },
      "source": [
        "len(ovr_clf.estimators_)"
      ],
      "execution_count": 0,
      "outputs": [
        {
          "output_type": "execute_result",
          "data": {
            "text/plain": [
              "10"
            ]
          },
          "metadata": {
            "tags": []
          },
          "execution_count": 48
        }
      ]
    },
    {
      "cell_type": "code",
      "metadata": {
        "id": "wPHph6k14D6j",
        "colab_type": "code",
        "outputId": "ebb6bf18-0698-44ed-d5e5-4f4a1651a153",
        "colab": {
          "base_uri": "https://localhost:8080/",
          "height": 88
        }
      },
      "source": [
        "sgd_clf.fit(d2_X_train, y_train)\n",
        "sgd_clf.predict([some_digit])"
      ],
      "execution_count": 0,
      "outputs": [
        {
          "output_type": "stream",
          "text": [
            "/usr/local/lib/python3.6/dist-packages/sklearn/utils/validation.py:760: DataConversionWarning: A column-vector y was passed when a 1d array was expected. Please change the shape of y to (n_samples, ), for example using ravel().\n",
            "  y = column_or_1d(y, warn=True)\n"
          ],
          "name": "stderr"
        },
        {
          "output_type": "execute_result",
          "data": {
            "text/plain": [
              "array([7], dtype=uint8)"
            ]
          },
          "metadata": {
            "tags": []
          },
          "execution_count": 128
        }
      ]
    },
    {
      "cell_type": "code",
      "metadata": {
        "id": "2gpJ4bbu4OkN",
        "colab_type": "code",
        "outputId": "0e769420-35fa-4df7-eff5-3fb07ecb4038",
        "colab": {
          "base_uri": "https://localhost:8080/",
          "height": 51
        }
      },
      "source": [
        "sgd_clf.decision_function([some_digit])"
      ],
      "execution_count": 0,
      "outputs": [
        {
          "output_type": "execute_result",
          "data": {
            "text/plain": [
              "array([[-2.22839275, -4.81084845, -2.07122744, -2.75403996, -0.47629739,\n",
              "        -0.81657867, -3.58224055,  3.96315565, -5.31196064, -7.52558589]])"
            ]
          },
          "metadata": {
            "tags": []
          },
          "execution_count": 129
        }
      ]
    },
    {
      "cell_type": "code",
      "metadata": {
        "id": "41NOs-xN4THb",
        "colab_type": "code",
        "colab": {}
      },
      "source": [
        "cross_val_score(sgd_clf, d2_X_train, y_train, cv=3, scoring=\"accuracy\")"
      ],
      "execution_count": 0,
      "outputs": []
    },
    {
      "cell_type": "code",
      "metadata": {
        "id": "S8509f_z4n-C",
        "colab_type": "code",
        "colab": {}
      },
      "source": [
        "y_train_pred = cross_val_predict(sgd_clf, X_train_scaled, y_train, cv=3)\n",
        "conf_mx = confusion_matrix(y_train, y_train_pred)\n",
        "conf_mx"
      ],
      "execution_count": 0,
      "outputs": []
    },
    {
      "cell_type": "markdown",
      "metadata": {
        "id": "wWtfBcfWr6Hp",
        "colab_type": "text"
      },
      "source": [
        "In this Project\n",
        "\n",
        "1, I used PCA, t-SNE to reduce dimensionalities and compared the results. In conclusion, PCA is much faster and have a much higher accuracy in this case. \n",
        "\n",
        "2, I have trained data with Random Forest, and SGD Classifiers and drew ROC curves for both classifiers for comparison. As a result, Random Forest is the better classifier with 81% ROC AUC. I have converted the y_train data from 2d array to 1 day array in order to draw ROC curve for Random Forest. \n",
        "\n",
        "3,I also did K-fold cross-validation with 2 different kinds of binary classifiers. Never5Classifier and SGDClassifier both have around 90% accuracy. This is simply because 10% of the images are horses, so if you always guess that an image is not horse, you will be right about 90% of the time.\n",
        "\n",
        "4, Lastly I did the confusion matrix under SGD Classifier, and calculated the sensitivity(recall) and specificity. \n",
        "\n",
        "However, my SVM is not done, I have tried multiple times,and it ran forever every single time. Thus, I believe SVM is not a very good classifier in this case, as it's very time consuming. In conclusion, Random Forest is the best classifier in this project. \n",
        " \n"
      ]
    }
  ]
}