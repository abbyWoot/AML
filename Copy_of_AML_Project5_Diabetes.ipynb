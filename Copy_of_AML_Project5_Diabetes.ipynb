{
  "nbformat": 4,
  "nbformat_minor": 0,
  "metadata": {
    "colab": {
      "name": "Copy of AML_Project5_Diabetes.ipynb",
      "provenance": [],
      "collapsed_sections": [],
      "include_colab_link": true
    },
    "kernelspec": {
      "name": "python3",
      "display_name": "Python 3"
    }
  },
  "cells": [
    {
      "cell_type": "markdown",
      "metadata": {
        "id": "view-in-github",
        "colab_type": "text"
      },
      "source": [
        "<a href=\"https://colab.research.google.com/github/abbyWoot/AML/blob/master/Copy_of_AML_Project5_Diabetes.ipynb\" target=\"_parent\"><img src=\"https://colab.research.google.com/assets/colab-badge.svg\" alt=\"Open In Colab\"/></a>"
      ]
    },
    {
      "cell_type": "markdown",
      "metadata": {
        "id": "SfKTaIoPotjZ",
        "colab_type": "text"
      },
      "source": [
        "# Project 5 - Team 2\n",
        "\n",
        "*   Joe\n",
        "*   Abby\n",
        "*   Getong\n",
        "\n",
        "In this project, we work on the data set that has been prepared to analyze factors relating to readmission as well as other outcomes pertaining to patients with diabetes.\n",
        "\n",
        "Data Set Information:\n",
        "\n",
        "The dataset represents 10 years (1999-2008) of clinical care at 130 US hospitals and integrated delivery networks. It includes over 50 features representing patient and hospital outcomes. Information was extracted from the database for encounters that satisfied the following criteria.\n",
        "\n",
        "1.   It is an inpatient encounter (a hospital admission).\n",
        "2.   It is a diabetic encounter, that is, one during which any kind of diabetes was entered to the system as a diagnosis.\n",
        "3.   The length of stay was at least 1 day and at most 14 days.\n",
        "4.   Laboratory tests were performed during the encounter.\n",
        "5.   Medications were administered during the encounter.\n",
        "6.   The data contains such attributes as patient number, race, gender, age, admission type, time in hospital, medical specialty of admitting physician, number of lab test performed, HbA1c test result, diagnosis, number of medication, diabetic medications, number of outpatient, inpatient, and emergency visits in the year before the hospitalization, etc.\n",
        "\n",
        "The following instructions have been performed:\n",
        "1.  Perform data scrubbing to deal with missing data, and then scale the data. \n",
        "2.  Find out which features have most influence on patients with diabetes or being readmitted, e.g., age, race, weight, blood pressure, etc.\n",
        "3.  Use RF and SVM (linear as well as nonlinear kernels , as necessary) to learn classification of diabetic patients and those being readmitted.\n",
        "4.  If using a LinearSVC, also use SVC and SGDClassifier to see if you can get them to roughly produce the same model.\n",
        "5.  Calculate and present performance parameters (e.g. accuracy, etc.) of each model using appropriate graphs such as bar charts."
      ]
    },
    {
      "cell_type": "code",
      "metadata": {
        "id": "tyQZ0Wv_olsU",
        "colab_type": "code",
        "colab": {}
      },
      "source": [
        "# Python ≥3.5 is required\n",
        "import sys\n",
        "assert sys.version_info >= (3, 5)\n",
        "# Scikit-Learn ≥0.20 is required\n",
        "import sklearn\n",
        "assert sklearn.__version__ >= \"0.20\"\n",
        "\n",
        "# Common imports\n",
        "import numpy as np\n",
        "import os\n",
        "\n",
        "# to make this notebook's output stable across runs\n",
        "np.random.seed(42)\n",
        "\n",
        "# To plot pretty figures\n",
        "%matplotlib inline\n",
        "import matplotlib as mpl\n",
        "import matplotlib.pyplot as plt\n",
        "mpl.rc('axes', labelsize=14)\n",
        "mpl.rc('xtick', labelsize=12)\n",
        "mpl.rc('ytick', labelsize=12)\n",
        "\n",
        "# Where to save the figures\n",
        "PROJECT_ROOT_DIR = \".\"\n",
        "CHAPTER_ID = \"training_linear_models\"\n",
        "IMAGES_PATH = os.path.join(PROJECT_ROOT_DIR, \"images\", CHAPTER_ID)\n",
        "os.makedirs(IMAGES_PATH, exist_ok=True)\n",
        "\n",
        "def save_fig(fig_id, tight_layout=True, fig_extension=\"png\", resolution=300):\n",
        "    path = os.path.join(IMAGES_PATH, fig_id + \".\" + fig_extension)\n",
        "    print(\"Saving figure\", fig_id)\n",
        "    if tight_layout:\n",
        "        plt.tight_layout()\n",
        "    plt.savefig(path, format=fig_extension, dpi=resolution)\n",
        "\n",
        "# Ignore useless warnings (see SciPy issue #5998)\n",
        "import warnings\n",
        "warnings.filterwarnings(action=\"ignore\", message=\"^internal gelsd\")"
      ],
      "execution_count": 0,
      "outputs": []
    },
    {
      "cell_type": "code",
      "metadata": {
        "id": "0aQQT9I1tPPb",
        "colab_type": "code",
        "colab": {}
      },
      "source": [
        "# Download the data\n",
        "import urllib\n",
        "import os\n",
        "\n",
        "DOWNLOAD_ROOT = \"https://raw.githubusercontent.com/fsclsnow/AML/master/\"\n",
        "Diabetic_PATH = os.path.join(\"Data\")\n",
        "Diabetic_URL = DOWNLOAD_ROOT + \"Data/diabetic_data.csv\""
      ],
      "execution_count": 0,
      "outputs": []
    },
    {
      "cell_type": "code",
      "metadata": {
        "id": "ZALy0ISLt0pu",
        "colab_type": "code",
        "colab": {}
      },
      "source": [
        "import pandas as pd\n",
        "\n",
        "def load_dia_data(dia_path=Diabetic_PATH):\n",
        "    csv_path = os.path.join(DOWNLOAD_ROOT, dia_path, \"diabetic_data.csv\")\n",
        "    return pd.read_csv(csv_path)"
      ],
      "execution_count": 0,
      "outputs": []
    },
    {
      "cell_type": "code",
      "metadata": {
        "id": "TZbgj6UeuF8b",
        "colab_type": "code",
        "outputId": "ea7a9d89-4f19-4c04-f79c-5c2574c2f992",
        "colab": {
          "base_uri": "https://localhost:8080/",
          "height": 330
        }
      },
      "source": [
        "diabetic = load_dia_data()\n",
        "diabetic.head()"
      ],
      "execution_count": 0,
      "outputs": [
        {
          "output_type": "execute_result",
          "data": {
            "text/html": [
              "<div>\n",
              "<style scoped>\n",
              "    .dataframe tbody tr th:only-of-type {\n",
              "        vertical-align: middle;\n",
              "    }\n",
              "\n",
              "    .dataframe tbody tr th {\n",
              "        vertical-align: top;\n",
              "    }\n",
              "\n",
              "    .dataframe thead th {\n",
              "        text-align: right;\n",
              "    }\n",
              "</style>\n",
              "<table border=\"1\" class=\"dataframe\">\n",
              "  <thead>\n",
              "    <tr style=\"text-align: right;\">\n",
              "      <th></th>\n",
              "      <th>encounter_id</th>\n",
              "      <th>patient_nbr</th>\n",
              "      <th>race</th>\n",
              "      <th>gender</th>\n",
              "      <th>age</th>\n",
              "      <th>weight</th>\n",
              "      <th>admission_type_id</th>\n",
              "      <th>discharge_disposition_id</th>\n",
              "      <th>admission_source_id</th>\n",
              "      <th>time_in_hospital</th>\n",
              "      <th>payer_code</th>\n",
              "      <th>medical_specialty</th>\n",
              "      <th>num_lab_procedures</th>\n",
              "      <th>num_procedures</th>\n",
              "      <th>num_medications</th>\n",
              "      <th>number_outpatient</th>\n",
              "      <th>number_emergency</th>\n",
              "      <th>number_inpatient</th>\n",
              "      <th>diag_1</th>\n",
              "      <th>diag_2</th>\n",
              "      <th>diag_3</th>\n",
              "      <th>number_diagnoses</th>\n",
              "      <th>max_glu_serum</th>\n",
              "      <th>A1Cresult</th>\n",
              "      <th>metformin</th>\n",
              "      <th>repaglinide</th>\n",
              "      <th>nateglinide</th>\n",
              "      <th>chlorpropamide</th>\n",
              "      <th>glimepiride</th>\n",
              "      <th>acetohexamide</th>\n",
              "      <th>glipizide</th>\n",
              "      <th>glyburide</th>\n",
              "      <th>tolbutamide</th>\n",
              "      <th>pioglitazone</th>\n",
              "      <th>rosiglitazone</th>\n",
              "      <th>acarbose</th>\n",
              "      <th>miglitol</th>\n",
              "      <th>troglitazone</th>\n",
              "      <th>tolazamide</th>\n",
              "      <th>examide</th>\n",
              "      <th>citoglipton</th>\n",
              "      <th>insulin</th>\n",
              "      <th>glyburide-metformin</th>\n",
              "      <th>glipizide-metformin</th>\n",
              "      <th>glimepiride-pioglitazone</th>\n",
              "      <th>metformin-rosiglitazone</th>\n",
              "      <th>metformin-pioglitazone</th>\n",
              "      <th>change</th>\n",
              "      <th>diabetesMed</th>\n",
              "      <th>readmitted</th>\n",
              "    </tr>\n",
              "  </thead>\n",
              "  <tbody>\n",
              "    <tr>\n",
              "      <th>0</th>\n",
              "      <td>2278392</td>\n",
              "      <td>8222157</td>\n",
              "      <td>Caucasian</td>\n",
              "      <td>Female</td>\n",
              "      <td>[0-10)</td>\n",
              "      <td>?</td>\n",
              "      <td>6</td>\n",
              "      <td>25</td>\n",
              "      <td>1</td>\n",
              "      <td>1</td>\n",
              "      <td>?</td>\n",
              "      <td>Pediatrics-Endocrinology</td>\n",
              "      <td>41</td>\n",
              "      <td>0</td>\n",
              "      <td>1</td>\n",
              "      <td>0</td>\n",
              "      <td>0</td>\n",
              "      <td>0</td>\n",
              "      <td>250.83</td>\n",
              "      <td>?</td>\n",
              "      <td>?</td>\n",
              "      <td>1</td>\n",
              "      <td>None</td>\n",
              "      <td>None</td>\n",
              "      <td>No</td>\n",
              "      <td>No</td>\n",
              "      <td>No</td>\n",
              "      <td>No</td>\n",
              "      <td>No</td>\n",
              "      <td>No</td>\n",
              "      <td>No</td>\n",
              "      <td>No</td>\n",
              "      <td>No</td>\n",
              "      <td>No</td>\n",
              "      <td>No</td>\n",
              "      <td>No</td>\n",
              "      <td>No</td>\n",
              "      <td>No</td>\n",
              "      <td>No</td>\n",
              "      <td>No</td>\n",
              "      <td>No</td>\n",
              "      <td>No</td>\n",
              "      <td>No</td>\n",
              "      <td>No</td>\n",
              "      <td>No</td>\n",
              "      <td>No</td>\n",
              "      <td>No</td>\n",
              "      <td>No</td>\n",
              "      <td>No</td>\n",
              "      <td>NO</td>\n",
              "    </tr>\n",
              "    <tr>\n",
              "      <th>1</th>\n",
              "      <td>149190</td>\n",
              "      <td>55629189</td>\n",
              "      <td>Caucasian</td>\n",
              "      <td>Female</td>\n",
              "      <td>[10-20)</td>\n",
              "      <td>?</td>\n",
              "      <td>1</td>\n",
              "      <td>1</td>\n",
              "      <td>7</td>\n",
              "      <td>3</td>\n",
              "      <td>?</td>\n",
              "      <td>?</td>\n",
              "      <td>59</td>\n",
              "      <td>0</td>\n",
              "      <td>18</td>\n",
              "      <td>0</td>\n",
              "      <td>0</td>\n",
              "      <td>0</td>\n",
              "      <td>276</td>\n",
              "      <td>250.01</td>\n",
              "      <td>255</td>\n",
              "      <td>9</td>\n",
              "      <td>None</td>\n",
              "      <td>None</td>\n",
              "      <td>No</td>\n",
              "      <td>No</td>\n",
              "      <td>No</td>\n",
              "      <td>No</td>\n",
              "      <td>No</td>\n",
              "      <td>No</td>\n",
              "      <td>No</td>\n",
              "      <td>No</td>\n",
              "      <td>No</td>\n",
              "      <td>No</td>\n",
              "      <td>No</td>\n",
              "      <td>No</td>\n",
              "      <td>No</td>\n",
              "      <td>No</td>\n",
              "      <td>No</td>\n",
              "      <td>No</td>\n",
              "      <td>No</td>\n",
              "      <td>Up</td>\n",
              "      <td>No</td>\n",
              "      <td>No</td>\n",
              "      <td>No</td>\n",
              "      <td>No</td>\n",
              "      <td>No</td>\n",
              "      <td>Ch</td>\n",
              "      <td>Yes</td>\n",
              "      <td>&gt;30</td>\n",
              "    </tr>\n",
              "    <tr>\n",
              "      <th>2</th>\n",
              "      <td>64410</td>\n",
              "      <td>86047875</td>\n",
              "      <td>AfricanAmerican</td>\n",
              "      <td>Female</td>\n",
              "      <td>[20-30)</td>\n",
              "      <td>?</td>\n",
              "      <td>1</td>\n",
              "      <td>1</td>\n",
              "      <td>7</td>\n",
              "      <td>2</td>\n",
              "      <td>?</td>\n",
              "      <td>?</td>\n",
              "      <td>11</td>\n",
              "      <td>5</td>\n",
              "      <td>13</td>\n",
              "      <td>2</td>\n",
              "      <td>0</td>\n",
              "      <td>1</td>\n",
              "      <td>648</td>\n",
              "      <td>250</td>\n",
              "      <td>V27</td>\n",
              "      <td>6</td>\n",
              "      <td>None</td>\n",
              "      <td>None</td>\n",
              "      <td>No</td>\n",
              "      <td>No</td>\n",
              "      <td>No</td>\n",
              "      <td>No</td>\n",
              "      <td>No</td>\n",
              "      <td>No</td>\n",
              "      <td>Steady</td>\n",
              "      <td>No</td>\n",
              "      <td>No</td>\n",
              "      <td>No</td>\n",
              "      <td>No</td>\n",
              "      <td>No</td>\n",
              "      <td>No</td>\n",
              "      <td>No</td>\n",
              "      <td>No</td>\n",
              "      <td>No</td>\n",
              "      <td>No</td>\n",
              "      <td>No</td>\n",
              "      <td>No</td>\n",
              "      <td>No</td>\n",
              "      <td>No</td>\n",
              "      <td>No</td>\n",
              "      <td>No</td>\n",
              "      <td>No</td>\n",
              "      <td>Yes</td>\n",
              "      <td>NO</td>\n",
              "    </tr>\n",
              "    <tr>\n",
              "      <th>3</th>\n",
              "      <td>500364</td>\n",
              "      <td>82442376</td>\n",
              "      <td>Caucasian</td>\n",
              "      <td>Male</td>\n",
              "      <td>[30-40)</td>\n",
              "      <td>?</td>\n",
              "      <td>1</td>\n",
              "      <td>1</td>\n",
              "      <td>7</td>\n",
              "      <td>2</td>\n",
              "      <td>?</td>\n",
              "      <td>?</td>\n",
              "      <td>44</td>\n",
              "      <td>1</td>\n",
              "      <td>16</td>\n",
              "      <td>0</td>\n",
              "      <td>0</td>\n",
              "      <td>0</td>\n",
              "      <td>8</td>\n",
              "      <td>250.43</td>\n",
              "      <td>403</td>\n",
              "      <td>7</td>\n",
              "      <td>None</td>\n",
              "      <td>None</td>\n",
              "      <td>No</td>\n",
              "      <td>No</td>\n",
              "      <td>No</td>\n",
              "      <td>No</td>\n",
              "      <td>No</td>\n",
              "      <td>No</td>\n",
              "      <td>No</td>\n",
              "      <td>No</td>\n",
              "      <td>No</td>\n",
              "      <td>No</td>\n",
              "      <td>No</td>\n",
              "      <td>No</td>\n",
              "      <td>No</td>\n",
              "      <td>No</td>\n",
              "      <td>No</td>\n",
              "      <td>No</td>\n",
              "      <td>No</td>\n",
              "      <td>Up</td>\n",
              "      <td>No</td>\n",
              "      <td>No</td>\n",
              "      <td>No</td>\n",
              "      <td>No</td>\n",
              "      <td>No</td>\n",
              "      <td>Ch</td>\n",
              "      <td>Yes</td>\n",
              "      <td>NO</td>\n",
              "    </tr>\n",
              "    <tr>\n",
              "      <th>4</th>\n",
              "      <td>16680</td>\n",
              "      <td>42519267</td>\n",
              "      <td>Caucasian</td>\n",
              "      <td>Male</td>\n",
              "      <td>[40-50)</td>\n",
              "      <td>?</td>\n",
              "      <td>1</td>\n",
              "      <td>1</td>\n",
              "      <td>7</td>\n",
              "      <td>1</td>\n",
              "      <td>?</td>\n",
              "      <td>?</td>\n",
              "      <td>51</td>\n",
              "      <td>0</td>\n",
              "      <td>8</td>\n",
              "      <td>0</td>\n",
              "      <td>0</td>\n",
              "      <td>0</td>\n",
              "      <td>197</td>\n",
              "      <td>157</td>\n",
              "      <td>250</td>\n",
              "      <td>5</td>\n",
              "      <td>None</td>\n",
              "      <td>None</td>\n",
              "      <td>No</td>\n",
              "      <td>No</td>\n",
              "      <td>No</td>\n",
              "      <td>No</td>\n",
              "      <td>No</td>\n",
              "      <td>No</td>\n",
              "      <td>Steady</td>\n",
              "      <td>No</td>\n",
              "      <td>No</td>\n",
              "      <td>No</td>\n",
              "      <td>No</td>\n",
              "      <td>No</td>\n",
              "      <td>No</td>\n",
              "      <td>No</td>\n",
              "      <td>No</td>\n",
              "      <td>No</td>\n",
              "      <td>No</td>\n",
              "      <td>Steady</td>\n",
              "      <td>No</td>\n",
              "      <td>No</td>\n",
              "      <td>No</td>\n",
              "      <td>No</td>\n",
              "      <td>No</td>\n",
              "      <td>Ch</td>\n",
              "      <td>Yes</td>\n",
              "      <td>NO</td>\n",
              "    </tr>\n",
              "  </tbody>\n",
              "</table>\n",
              "</div>"
            ],
            "text/plain": [
              "   encounter_id  patient_nbr             race  ... change diabetesMed readmitted\n",
              "0       2278392      8222157        Caucasian  ...     No          No         NO\n",
              "1        149190     55629189        Caucasian  ...     Ch         Yes        >30\n",
              "2         64410     86047875  AfricanAmerican  ...     No         Yes         NO\n",
              "3        500364     82442376        Caucasian  ...     Ch         Yes         NO\n",
              "4         16680     42519267        Caucasian  ...     Ch         Yes         NO\n",
              "\n",
              "[5 rows x 50 columns]"
            ]
          },
          "metadata": {
            "tags": []
          },
          "execution_count": 8
        }
      ]
    },
    {
      "cell_type": "code",
      "metadata": {
        "id": "0_HDTY8VuN4v",
        "colab_type": "code",
        "outputId": "6251bedd-ff32-48b2-e08d-3c1d48c9d0b5",
        "colab": {
          "base_uri": "https://localhost:8080/",
          "height": 970
        }
      },
      "source": [
        "diabetic.info()"
      ],
      "execution_count": 0,
      "outputs": [
        {
          "output_type": "stream",
          "text": [
            "<class 'pandas.core.frame.DataFrame'>\n",
            "RangeIndex: 101766 entries, 0 to 101765\n",
            "Data columns (total 50 columns):\n",
            "encounter_id                101766 non-null int64\n",
            "patient_nbr                 101766 non-null int64\n",
            "race                        101766 non-null object\n",
            "gender                      101766 non-null object\n",
            "age                         101766 non-null object\n",
            "weight                      101766 non-null object\n",
            "admission_type_id           101766 non-null int64\n",
            "discharge_disposition_id    101766 non-null int64\n",
            "admission_source_id         101766 non-null int64\n",
            "time_in_hospital            101766 non-null int64\n",
            "payer_code                  101766 non-null object\n",
            "medical_specialty           101766 non-null object\n",
            "num_lab_procedures          101766 non-null int64\n",
            "num_procedures              101766 non-null int64\n",
            "num_medications             101766 non-null int64\n",
            "number_outpatient           101766 non-null int64\n",
            "number_emergency            101766 non-null int64\n",
            "number_inpatient            101766 non-null int64\n",
            "diag_1                      101766 non-null object\n",
            "diag_2                      101766 non-null object\n",
            "diag_3                      101766 non-null object\n",
            "number_diagnoses            101766 non-null int64\n",
            "max_glu_serum               101766 non-null object\n",
            "A1Cresult                   101766 non-null object\n",
            "metformin                   101766 non-null object\n",
            "repaglinide                 101766 non-null object\n",
            "nateglinide                 101766 non-null object\n",
            "chlorpropamide              101766 non-null object\n",
            "glimepiride                 101766 non-null object\n",
            "acetohexamide               101766 non-null object\n",
            "glipizide                   101766 non-null object\n",
            "glyburide                   101766 non-null object\n",
            "tolbutamide                 101766 non-null object\n",
            "pioglitazone                101766 non-null object\n",
            "rosiglitazone               101766 non-null object\n",
            "acarbose                    101766 non-null object\n",
            "miglitol                    101766 non-null object\n",
            "troglitazone                101766 non-null object\n",
            "tolazamide                  101766 non-null object\n",
            "examide                     101766 non-null object\n",
            "citoglipton                 101766 non-null object\n",
            "insulin                     101766 non-null object\n",
            "glyburide-metformin         101766 non-null object\n",
            "glipizide-metformin         101766 non-null object\n",
            "glimepiride-pioglitazone    101766 non-null object\n",
            "metformin-rosiglitazone     101766 non-null object\n",
            "metformin-pioglitazone      101766 non-null object\n",
            "change                      101766 non-null object\n",
            "diabetesMed                 101766 non-null object\n",
            "readmitted                  101766 non-null object\n",
            "dtypes: int64(13), object(37)\n",
            "memory usage: 38.8+ MB\n"
          ],
          "name": "stdout"
        }
      ]
    },
    {
      "cell_type": "markdown",
      "metadata": {
        "id": "GHC8SWNkaiZB",
        "colab_type": "text"
      },
      "source": [
        "# Data Scrubbing"
      ]
    },
    {
      "cell_type": "markdown",
      "metadata": {
        "id": "CiH9gubFKtCF",
        "colab_type": "text"
      },
      "source": [
        "Weight attribute was considered to be too\n",
        "sparse and it was not included in further analysis. \n",
        "\n",
        "Payer code was removed since it had a high percentage of missing values and it was not considered relevant to the outcome.\n",
        "\n",
        "Medical specialty attribute has over 50% missing data.\n",
        "\n",
        "Therefore, these three attributes are dropped.\n",
        "\n",
        "Reference: http://downloads.hindawi.com/journals/bmri/2014/781670.pdf"
      ]
    },
    {
      "cell_type": "code",
      "metadata": {
        "id": "GsonQ6MaLIIZ",
        "colab_type": "code",
        "colab": {}
      },
      "source": [
        "diabetic = diabetic.drop(\"weight\", axis=1)\n",
        "diabetic = diabetic.drop(\"payer_code\", axis=1)\n",
        "diabetic = diabetic.drop(\"medical_specialty\", axis=1)\n"
      ],
      "execution_count": 0,
      "outputs": []
    },
    {
      "cell_type": "code",
      "metadata": {
        "id": "FVsFXZKkMCki",
        "colab_type": "code",
        "outputId": "a6dd5142-8a47-44f9-b3a9-04df2bebda23",
        "colab": {
          "base_uri": "https://localhost:8080/",
          "height": 918
        }
      },
      "source": [
        "diabetic.info()"
      ],
      "execution_count": 0,
      "outputs": [
        {
          "output_type": "stream",
          "text": [
            "<class 'pandas.core.frame.DataFrame'>\n",
            "RangeIndex: 101766 entries, 0 to 101765\n",
            "Data columns (total 47 columns):\n",
            "encounter_id                101766 non-null int64\n",
            "patient_nbr                 101766 non-null int64\n",
            "race                        101766 non-null object\n",
            "gender                      101766 non-null object\n",
            "age                         101766 non-null object\n",
            "admission_type_id           101766 non-null int64\n",
            "discharge_disposition_id    101766 non-null int64\n",
            "admission_source_id         101766 non-null int64\n",
            "time_in_hospital            101766 non-null int64\n",
            "num_lab_procedures          101766 non-null int64\n",
            "num_procedures              101766 non-null int64\n",
            "num_medications             101766 non-null int64\n",
            "number_outpatient           101766 non-null int64\n",
            "number_emergency            101766 non-null int64\n",
            "number_inpatient            101766 non-null int64\n",
            "diag_1                      101766 non-null object\n",
            "diag_2                      101766 non-null object\n",
            "diag_3                      101766 non-null object\n",
            "number_diagnoses            101766 non-null int64\n",
            "max_glu_serum               101766 non-null object\n",
            "A1Cresult                   101766 non-null object\n",
            "metformin                   101766 non-null object\n",
            "repaglinide                 101766 non-null object\n",
            "nateglinide                 101766 non-null object\n",
            "chlorpropamide              101766 non-null object\n",
            "glimepiride                 101766 non-null object\n",
            "acetohexamide               101766 non-null object\n",
            "glipizide                   101766 non-null object\n",
            "glyburide                   101766 non-null object\n",
            "tolbutamide                 101766 non-null object\n",
            "pioglitazone                101766 non-null object\n",
            "rosiglitazone               101766 non-null object\n",
            "acarbose                    101766 non-null object\n",
            "miglitol                    101766 non-null object\n",
            "troglitazone                101766 non-null object\n",
            "tolazamide                  101766 non-null object\n",
            "examide                     101766 non-null object\n",
            "citoglipton                 101766 non-null object\n",
            "insulin                     101766 non-null object\n",
            "glyburide-metformin         101766 non-null object\n",
            "glipizide-metformin         101766 non-null object\n",
            "glimepiride-pioglitazone    101766 non-null object\n",
            "metformin-rosiglitazone     101766 non-null object\n",
            "metformin-pioglitazone      101766 non-null object\n",
            "change                      101766 non-null object\n",
            "diabetesMed                 101766 non-null object\n",
            "readmitted                  101766 non-null object\n",
            "dtypes: int64(13), object(34)\n",
            "memory usage: 36.5+ MB\n"
          ],
          "name": "stdout"
        }
      ]
    },
    {
      "cell_type": "markdown",
      "metadata": {
        "id": "fci48l8aTdFH",
        "colab_type": "text"
      },
      "source": [
        "Since we are primarily interested in factors that lead to early readmission, we defined the readmission attribute (outcome) as having two values: “readmitted,” if the patient was readmitted within 30 days of discharge or “otherwise,” which covers both readmission after 30 days and no readmission at all.\n",
        "\n",
        "Reference: http://downloads.hindawi.com/journals/bmri/2014/781670.pdf"
      ]
    },
    {
      "cell_type": "code",
      "metadata": {
        "id": "aDvNwJRiUd3n",
        "colab_type": "code",
        "colab": {}
      },
      "source": [
        "diabetic = diabetic.replace({\"readmitted\": \">30\"}, \"No\")\n",
        "diabetic = diabetic.replace({\"readmitted\": \"<30\"}, \"Yes\")\n"
      ],
      "execution_count": 0,
      "outputs": []
    },
    {
      "cell_type": "code",
      "metadata": {
        "id": "9pmnRy7_a8hv",
        "colab_type": "code",
        "outputId": "f2e3f5f1-175a-446f-851c-988049b983cb",
        "colab": {
          "base_uri": "https://localhost:8080/",
          "height": 294
        }
      },
      "source": [
        "diabetic[\"readmitted\"][:15]"
      ],
      "execution_count": 0,
      "outputs": [
        {
          "output_type": "execute_result",
          "data": {
            "text/plain": [
              "0      NO\n",
              "1      No\n",
              "2      NO\n",
              "3      NO\n",
              "4      NO\n",
              "5      No\n",
              "6      NO\n",
              "7      No\n",
              "8      NO\n",
              "9      NO\n",
              "10     No\n",
              "11    Yes\n",
              "12    Yes\n",
              "13     NO\n",
              "14     No\n",
              "Name: readmitted, dtype: object"
            ]
          },
          "metadata": {
            "tags": []
          },
          "execution_count": 13
        }
      ]
    },
    {
      "cell_type": "markdown",
      "metadata": {
        "id": "GrgBLUp9IF6M",
        "colab_type": "text"
      },
      "source": [
        "We thus used only one encounter per patient; in particular, we considered only the first encounter for each patient as the primary admission and determined whether or not they were readmitted within 30 days."
      ]
    },
    {
      "cell_type": "code",
      "metadata": {
        "id": "TPDIQCCqIhcO",
        "colab_type": "code",
        "colab": {}
      },
      "source": [
        "diabetic = diabetic.drop_duplicates(subset=[\"patient_nbr\"])"
      ],
      "execution_count": 0,
      "outputs": []
    },
    {
      "cell_type": "code",
      "metadata": {
        "id": "DS_VvU9lI2ql",
        "colab_type": "code",
        "outputId": "7215fe82-b3f9-4707-f4ff-4218b2f1c3dc",
        "colab": {
          "base_uri": "https://localhost:8080/",
          "height": 34
        }
      },
      "source": [
        "diabetic[\"encounter_id\"].count()"
      ],
      "execution_count": 0,
      "outputs": [
        {
          "output_type": "execute_result",
          "data": {
            "text/plain": [
              "71518"
            ]
          },
          "metadata": {
            "tags": []
          },
          "execution_count": 15
        }
      ]
    },
    {
      "cell_type": "markdown",
      "metadata": {
        "id": "CoLf4L91JGxe",
        "colab_type": "text"
      },
      "source": [
        "Now we have 71518 distinctive patients records without same patients that have multiple visit records."
      ]
    },
    {
      "cell_type": "code",
      "metadata": {
        "id": "P3RFM0jiYm70",
        "colab_type": "code",
        "colab": {}
      },
      "source": [
        "diabetic = diabetic[diabetic.discharge_disposition_id != 11 ]"
      ],
      "execution_count": 0,
      "outputs": []
    },
    {
      "cell_type": "code",
      "metadata": {
        "id": "IkGrJCszY9UO",
        "colab_type": "code",
        "outputId": "a7383e52-36aa-43cc-b40a-cfb395635765",
        "colab": {
          "base_uri": "https://localhost:8080/",
          "height": 34
        }
      },
      "source": [
        "diabetic[\"encounter_id\"].count()"
      ],
      "execution_count": 0,
      "outputs": [
        {
          "output_type": "execute_result",
          "data": {
            "text/plain": [
              "70441"
            ]
          },
          "metadata": {
            "tags": []
          },
          "execution_count": 17
        }
      ]
    },
    {
      "cell_type": "markdown",
      "metadata": {
        "id": "qNj5KXXRX-ud",
        "colab_type": "text"
      },
      "source": [
        "Then we drop rows that indicates the patient was deceased which will not be readmitted."
      ]
    },
    {
      "cell_type": "code",
      "metadata": {
        "id": "0vQV0ngCPzyR",
        "colab_type": "code",
        "outputId": "1dc55b8e-747c-49ae-dacc-29c3c742655c",
        "colab": {
          "base_uri": "https://localhost:8080/",
          "height": 381
        }
      },
      "source": [
        "diabetic[\"race\"][:20]"
      ],
      "execution_count": 0,
      "outputs": [
        {
          "output_type": "execute_result",
          "data": {
            "text/plain": [
              "0           Caucasian\n",
              "1           Caucasian\n",
              "2     AfricanAmerican\n",
              "3           Caucasian\n",
              "4           Caucasian\n",
              "5           Caucasian\n",
              "6           Caucasian\n",
              "7           Caucasian\n",
              "8           Caucasian\n",
              "9           Caucasian\n",
              "10    AfricanAmerican\n",
              "11    AfricanAmerican\n",
              "12          Caucasian\n",
              "13          Caucasian\n",
              "14    AfricanAmerican\n",
              "15    AfricanAmerican\n",
              "16    AfricanAmerican\n",
              "17          Caucasian\n",
              "18    AfricanAmerican\n",
              "19                  ?\n",
              "Name: race, dtype: object"
            ]
          },
          "metadata": {
            "tags": []
          },
          "execution_count": 18
        }
      ]
    },
    {
      "cell_type": "markdown",
      "metadata": {
        "id": "_VAoKWFbOpFh",
        "colab_type": "text"
      },
      "source": [
        "Columns \"Race\" have 2% missing data, it's not a lot, therefore they are filled with \"Other\"."
      ]
    },
    {
      "cell_type": "code",
      "metadata": {
        "id": "ccWMJWkAJTE_",
        "colab_type": "code",
        "colab": {}
      },
      "source": [
        "diabetic[\"race\"].replace(\"?\",\"Other\",inplace = True)"
      ],
      "execution_count": 0,
      "outputs": []
    },
    {
      "cell_type": "code",
      "metadata": {
        "id": "xvWQ13YDQv15",
        "colab_type": "code",
        "outputId": "04a23d9b-2edf-433b-ce0c-6d9af5a82342",
        "colab": {
          "base_uri": "https://localhost:8080/",
          "height": 381
        }
      },
      "source": [
        "diabetic[\"race\"][:20]"
      ],
      "execution_count": 0,
      "outputs": [
        {
          "output_type": "execute_result",
          "data": {
            "text/plain": [
              "0           Caucasian\n",
              "1           Caucasian\n",
              "2     AfricanAmerican\n",
              "3           Caucasian\n",
              "4           Caucasian\n",
              "5           Caucasian\n",
              "6           Caucasian\n",
              "7           Caucasian\n",
              "8           Caucasian\n",
              "9           Caucasian\n",
              "10    AfricanAmerican\n",
              "11    AfricanAmerican\n",
              "12          Caucasian\n",
              "13          Caucasian\n",
              "14    AfricanAmerican\n",
              "15    AfricanAmerican\n",
              "16    AfricanAmerican\n",
              "17          Caucasian\n",
              "18    AfricanAmerican\n",
              "19              Other\n",
              "Name: race, dtype: object"
            ]
          },
          "metadata": {
            "tags": []
          },
          "execution_count": 20
        }
      ]
    },
    {
      "cell_type": "markdown",
      "metadata": {
        "id": "3WgGATt5RC6R",
        "colab_type": "text"
      },
      "source": [
        "Then we'll need to make a desicion on other columns which has small amount of missing data, including \"diag_1\" <0.1%, \"diag_2\" 0.3%, \"diag_3\" 1.3%."
      ]
    },
    {
      "cell_type": "markdown",
      "metadata": {
        "id": "C0wsYgQWTCb8",
        "colab_type": "text"
      },
      "source": [
        "Since this project is only targeting the diabetes here which has value as 250.xx. All values other than this tag will be taged as 'No' while all diagnose as diabetes will be taged as 'Yes'. "
      ]
    },
    {
      "cell_type": "code",
      "metadata": {
        "id": "GMiZV32tUeMp",
        "colab_type": "code",
        "outputId": "d25f9f3e-7daf-4732-f873-1188043a2011",
        "colab": {
          "base_uri": "https://localhost:8080/",
          "height": 208
        }
      },
      "source": [
        "diabetic[\"diag_1\"][0:10]"
      ],
      "execution_count": 0,
      "outputs": [
        {
          "output_type": "execute_result",
          "data": {
            "text/plain": [
              "0    250.83\n",
              "1       276\n",
              "2       648\n",
              "3         8\n",
              "4       197\n",
              "5       414\n",
              "6       414\n",
              "7       428\n",
              "8       398\n",
              "9       434\n",
              "Name: diag_1, dtype: object"
            ]
          },
          "metadata": {
            "tags": []
          },
          "execution_count": 21
        }
      ]
    },
    {
      "cell_type": "code",
      "metadata": {
        "id": "Reh-4nAcTCLW",
        "colab_type": "code",
        "colab": {}
      },
      "source": [
        "diabetic[\"diag_1\"].replace(\"^(?!250).*\",\"No\",inplace = True,regex=True)\n",
        "diabetic[\"diag_1\"].replace(\"^250.*\",\"Yes\",inplace = True,regex=True)"
      ],
      "execution_count": 0,
      "outputs": []
    },
    {
      "cell_type": "code",
      "metadata": {
        "id": "TniwX9caUjhq",
        "colab_type": "code",
        "outputId": "3b3bda7c-9cc4-4aa2-f6f1-4a8b37febad4",
        "colab": {
          "base_uri": "https://localhost:8080/",
          "height": 208
        }
      },
      "source": [
        "diabetic[\"diag_1\"][0:10]"
      ],
      "execution_count": 0,
      "outputs": [
        {
          "output_type": "execute_result",
          "data": {
            "text/plain": [
              "0    Yes\n",
              "1     No\n",
              "2     No\n",
              "3     No\n",
              "4     No\n",
              "5     No\n",
              "6     No\n",
              "7     No\n",
              "8     No\n",
              "9     No\n",
              "Name: diag_1, dtype: object"
            ]
          },
          "metadata": {
            "tags": []
          },
          "execution_count": 23
        }
      ]
    },
    {
      "cell_type": "markdown",
      "metadata": {
        "id": "UxIU4IAXSvTS",
        "colab_type": "text"
      },
      "source": [
        "Let's do the same on 'diag_2' and 'diag_3'."
      ]
    },
    {
      "cell_type": "code",
      "metadata": {
        "id": "ls9HAAXMYu1x",
        "colab_type": "code",
        "colab": {}
      },
      "source": [
        "diabetic[\"diag_2\"].replace(\"^(?!250).*\",\"No\",inplace = True,regex=True)\n",
        "diabetic[\"diag_2\"].replace(\"^250.*\",\"Yes\",inplace = True,regex=True)\n",
        "diabetic[\"diag_3\"].replace(\"^(?!250).*\",\"No\",inplace = True,regex=True)\n",
        "diabetic[\"diag_3\"].replace(\"^250.*\",\"Yes\",inplace = True,regex=True)"
      ],
      "execution_count": 0,
      "outputs": []
    },
    {
      "cell_type": "code",
      "metadata": {
        "id": "u8cXDmauY229",
        "colab_type": "code",
        "outputId": "fa614e32-173a-448b-9e64-f2a39236dcab",
        "colab": {
          "base_uri": "https://localhost:8080/",
          "height": 208
        }
      },
      "source": [
        "diabetic[\"diag_2\"][0:10]"
      ],
      "execution_count": 0,
      "outputs": [
        {
          "output_type": "execute_result",
          "data": {
            "text/plain": [
              "0     No\n",
              "1    Yes\n",
              "2    Yes\n",
              "3    Yes\n",
              "4     No\n",
              "5     No\n",
              "6     No\n",
              "7     No\n",
              "8     No\n",
              "9     No\n",
              "Name: diag_2, dtype: object"
            ]
          },
          "metadata": {
            "tags": []
          },
          "execution_count": 25
        }
      ]
    },
    {
      "cell_type": "markdown",
      "metadata": {
        "id": "jRtzy2kRZ-p3",
        "colab_type": "text"
      },
      "source": [
        "Now, all missing data have been handled. Since there are three diagnoses in the columns, here we unite these three columns into 1 when diagnose of diabetes exist in one of the three."
      ]
    },
    {
      "cell_type": "code",
      "metadata": {
        "id": "AnVfmC3-vQQ-",
        "colab_type": "code",
        "colab": {}
      },
      "source": [
        "diabetic[\"Cons_diag\"] = 0"
      ],
      "execution_count": 0,
      "outputs": []
    },
    {
      "cell_type": "markdown",
      "metadata": {
        "id": "YK4zVLzo0TXl",
        "colab_type": "text"
      },
      "source": [
        "Value \"1\" means the patient was once diagnosed for diabetes, whereas \"0\" means no diabete diagnosed."
      ]
    },
    {
      "cell_type": "code",
      "metadata": {
        "id": "bTCxoc0slv0b",
        "colab_type": "code",
        "outputId": "0ecb97c6-f0ca-4489-d04a-9ec7b6ffa6c7",
        "colab": {
          "base_uri": "https://localhost:8080/",
          "height": 277
        }
      },
      "source": [
        "diabetic[\"Cons_diag\"][diabetic.diag_1==\"Yes\"] = 1\n",
        "diabetic[\"Cons_diag\"][diabetic.diag_2==\"Yes\"] = 1\n",
        "diabetic[\"Cons_diag\"][diabetic.diag_3==\"Yes\"] = 1"
      ],
      "execution_count": 0,
      "outputs": [
        {
          "output_type": "stream",
          "text": [
            "/usr/local/lib/python3.6/dist-packages/ipykernel_launcher.py:1: SettingWithCopyWarning: \n",
            "A value is trying to be set on a copy of a slice from a DataFrame\n",
            "\n",
            "See the caveats in the documentation: http://pandas.pydata.org/pandas-docs/stable/user_guide/indexing.html#returning-a-view-versus-a-copy\n",
            "  \"\"\"Entry point for launching an IPython kernel.\n",
            "/usr/local/lib/python3.6/dist-packages/ipykernel_launcher.py:2: SettingWithCopyWarning: \n",
            "A value is trying to be set on a copy of a slice from a DataFrame\n",
            "\n",
            "See the caveats in the documentation: http://pandas.pydata.org/pandas-docs/stable/user_guide/indexing.html#returning-a-view-versus-a-copy\n",
            "  \n",
            "/usr/local/lib/python3.6/dist-packages/ipykernel_launcher.py:3: SettingWithCopyWarning: \n",
            "A value is trying to be set on a copy of a slice from a DataFrame\n",
            "\n",
            "See the caveats in the documentation: http://pandas.pydata.org/pandas-docs/stable/user_guide/indexing.html#returning-a-view-versus-a-copy\n",
            "  This is separate from the ipykernel package so we can avoid doing imports until\n"
          ],
          "name": "stderr"
        }
      ]
    },
    {
      "cell_type": "code",
      "metadata": {
        "id": "UxPyG0pgy0ne",
        "colab_type": "code",
        "outputId": "7ee3b90f-4335-45b9-f055-34d0bf41c002",
        "colab": {
          "base_uri": "https://localhost:8080/",
          "height": 381
        }
      },
      "source": [
        "diabetic[\"Cons_diag\"][:20]"
      ],
      "execution_count": 0,
      "outputs": [
        {
          "output_type": "execute_result",
          "data": {
            "text/plain": [
              "0     1\n",
              "1     1\n",
              "2     1\n",
              "3     1\n",
              "4     1\n",
              "5     1\n",
              "6     0\n",
              "7     1\n",
              "8     0\n",
              "9     0\n",
              "10    1\n",
              "11    0\n",
              "12    1\n",
              "13    0\n",
              "14    0\n",
              "15    0\n",
              "16    0\n",
              "17    1\n",
              "18    0\n",
              "19    0\n",
              "Name: Cons_diag, dtype: int64"
            ]
          },
          "metadata": {
            "tags": []
          },
          "execution_count": 28
        }
      ]
    },
    {
      "cell_type": "code",
      "metadata": {
        "id": "qK-dIA0qyGQC",
        "colab_type": "code",
        "outputId": "45757b46-ab13-4588-f989-747484bf1826",
        "colab": {
          "base_uri": "https://localhost:8080/",
          "height": 69
        }
      },
      "source": [
        "diabetic[\"Cons_diag\"].value_counts()"
      ],
      "execution_count": 0,
      "outputs": [
        {
          "output_type": "execute_result",
          "data": {
            "text/plain": [
              "0    42806\n",
              "1    27635\n",
              "Name: Cons_diag, dtype: int64"
            ]
          },
          "metadata": {
            "tags": []
          },
          "execution_count": 29
        }
      ]
    },
    {
      "cell_type": "markdown",
      "metadata": {
        "id": "IT2iFwuTzFQq",
        "colab_type": "text"
      },
      "source": [
        "Now we can drop the colums: \"diag_1\", \"diag_2\" and \"diag_3\""
      ]
    },
    {
      "cell_type": "code",
      "metadata": {
        "id": "AnhKq_njzNd6",
        "colab_type": "code",
        "colab": {}
      },
      "source": [
        "diabetic = diabetic.drop(\"diag_1\",axis=1)\n",
        "diabetic = diabetic.drop(\"diag_2\",axis=1)\n",
        "diabetic = diabetic.drop(\"diag_3\",axis=1)"
      ],
      "execution_count": 0,
      "outputs": []
    },
    {
      "cell_type": "code",
      "metadata": {
        "id": "X8s5FS6nzkSt",
        "colab_type": "code",
        "outputId": "24a6bd41-eaba-4733-bfdc-0a30ffb13d6a",
        "colab": {
          "base_uri": "https://localhost:8080/",
          "height": 884
        }
      },
      "source": [
        "diabetic.info()"
      ],
      "execution_count": 0,
      "outputs": [
        {
          "output_type": "stream",
          "text": [
            "<class 'pandas.core.frame.DataFrame'>\n",
            "Int64Index: 70441 entries, 0 to 101765\n",
            "Data columns (total 45 columns):\n",
            "encounter_id                70441 non-null int64\n",
            "patient_nbr                 70441 non-null int64\n",
            "race                        70441 non-null object\n",
            "gender                      70441 non-null object\n",
            "age                         70441 non-null object\n",
            "admission_type_id           70441 non-null int64\n",
            "discharge_disposition_id    70441 non-null int64\n",
            "admission_source_id         70441 non-null int64\n",
            "time_in_hospital            70441 non-null int64\n",
            "num_lab_procedures          70441 non-null int64\n",
            "num_procedures              70441 non-null int64\n",
            "num_medications             70441 non-null int64\n",
            "number_outpatient           70441 non-null int64\n",
            "number_emergency            70441 non-null int64\n",
            "number_inpatient            70441 non-null int64\n",
            "number_diagnoses            70441 non-null int64\n",
            "max_glu_serum               70441 non-null object\n",
            "A1Cresult                   70441 non-null object\n",
            "metformin                   70441 non-null object\n",
            "repaglinide                 70441 non-null object\n",
            "nateglinide                 70441 non-null object\n",
            "chlorpropamide              70441 non-null object\n",
            "glimepiride                 70441 non-null object\n",
            "acetohexamide               70441 non-null object\n",
            "glipizide                   70441 non-null object\n",
            "glyburide                   70441 non-null object\n",
            "tolbutamide                 70441 non-null object\n",
            "pioglitazone                70441 non-null object\n",
            "rosiglitazone               70441 non-null object\n",
            "acarbose                    70441 non-null object\n",
            "miglitol                    70441 non-null object\n",
            "troglitazone                70441 non-null object\n",
            "tolazamide                  70441 non-null object\n",
            "examide                     70441 non-null object\n",
            "citoglipton                 70441 non-null object\n",
            "insulin                     70441 non-null object\n",
            "glyburide-metformin         70441 non-null object\n",
            "glipizide-metformin         70441 non-null object\n",
            "glimepiride-pioglitazone    70441 non-null object\n",
            "metformin-rosiglitazone     70441 non-null object\n",
            "metformin-pioglitazone      70441 non-null object\n",
            "change                      70441 non-null object\n",
            "diabetesMed                 70441 non-null object\n",
            "readmitted                  70441 non-null object\n",
            "Cons_diag                   70441 non-null int64\n",
            "dtypes: int64(14), object(31)\n",
            "memory usage: 24.7+ MB\n"
          ],
          "name": "stdout"
        }
      ]
    },
    {
      "cell_type": "markdown",
      "metadata": {
        "id": "sxpHQjYclcvd",
        "colab_type": "text"
      },
      "source": [
        "Similarly, we replace column \"readmitted\" with a new int64 column. \n",
        "\n",
        "Value \"1\" means readmitted, \"0\" means not readmitted."
      ]
    },
    {
      "cell_type": "code",
      "metadata": {
        "id": "Ec2-10ulz8Ll",
        "colab_type": "code",
        "colab": {}
      },
      "source": [
        "diabetic[\"re_ad\"] = 0"
      ],
      "execution_count": 0,
      "outputs": []
    },
    {
      "cell_type": "code",
      "metadata": {
        "id": "0nFwW46f0iwL",
        "colab_type": "code",
        "outputId": "76fde3a1-e406-4261-c215-0b3d9e089e73",
        "colab": {
          "base_uri": "https://localhost:8080/",
          "height": 104
        }
      },
      "source": [
        "diabetic[\"re_ad\"][diabetic.readmitted==\"Yes\"] = 1\n"
      ],
      "execution_count": 0,
      "outputs": [
        {
          "output_type": "stream",
          "text": [
            "/usr/local/lib/python3.6/dist-packages/ipykernel_launcher.py:1: SettingWithCopyWarning: \n",
            "A value is trying to be set on a copy of a slice from a DataFrame\n",
            "\n",
            "See the caveats in the documentation: http://pandas.pydata.org/pandas-docs/stable/user_guide/indexing.html#returning-a-view-versus-a-copy\n",
            "  \"\"\"Entry point for launching an IPython kernel.\n"
          ],
          "name": "stderr"
        }
      ]
    },
    {
      "cell_type": "code",
      "metadata": {
        "id": "60GBUHpy01at",
        "colab_type": "code",
        "outputId": "724bed70-b434-4530-c907-e7c8b02d76c6",
        "colab": {
          "base_uri": "https://localhost:8080/",
          "height": 294
        }
      },
      "source": [
        "diabetic[\"re_ad\"][:15]"
      ],
      "execution_count": 0,
      "outputs": [
        {
          "output_type": "execute_result",
          "data": {
            "text/plain": [
              "0     0\n",
              "1     0\n",
              "2     0\n",
              "3     0\n",
              "4     0\n",
              "5     0\n",
              "6     0\n",
              "7     0\n",
              "8     0\n",
              "9     0\n",
              "10    0\n",
              "11    1\n",
              "12    1\n",
              "13    0\n",
              "14    0\n",
              "Name: re_ad, dtype: int64"
            ]
          },
          "metadata": {
            "tags": []
          },
          "execution_count": 34
        }
      ]
    },
    {
      "cell_type": "code",
      "metadata": {
        "id": "7HYd3EpM06f8",
        "colab_type": "code",
        "outputId": "115f76b2-f56e-4ea5-f2ef-ce91d78cf2e7",
        "colab": {
          "base_uri": "https://localhost:8080/",
          "height": 294
        }
      },
      "source": [
        "diabetic[\"readmitted\"][:15]"
      ],
      "execution_count": 0,
      "outputs": [
        {
          "output_type": "execute_result",
          "data": {
            "text/plain": [
              "0      NO\n",
              "1      No\n",
              "2      NO\n",
              "3      NO\n",
              "4      NO\n",
              "5      No\n",
              "6      NO\n",
              "7      No\n",
              "8      NO\n",
              "9      NO\n",
              "10     No\n",
              "11    Yes\n",
              "12    Yes\n",
              "13     NO\n",
              "14     No\n",
              "Name: readmitted, dtype: object"
            ]
          },
          "metadata": {
            "tags": []
          },
          "execution_count": 35
        }
      ]
    },
    {
      "cell_type": "markdown",
      "metadata": {
        "id": "rv9WQwLQ0-dl",
        "colab_type": "text"
      },
      "source": [
        "Then, drop the column \"readmitted\"."
      ]
    },
    {
      "cell_type": "code",
      "metadata": {
        "id": "wxsVBNNu1DGL",
        "colab_type": "code",
        "colab": {}
      },
      "source": [
        "diabetic = diabetic.drop(\"readmitted\",axis=1)"
      ],
      "execution_count": 0,
      "outputs": []
    },
    {
      "cell_type": "code",
      "metadata": {
        "id": "CarTbd_K1N5M",
        "colab_type": "code",
        "outputId": "25d62fbe-d47e-406e-eea8-48f88aa204a0",
        "colab": {
          "base_uri": "https://localhost:8080/",
          "height": 884
        }
      },
      "source": [
        "diabetic.info()"
      ],
      "execution_count": 0,
      "outputs": [
        {
          "output_type": "stream",
          "text": [
            "<class 'pandas.core.frame.DataFrame'>\n",
            "Int64Index: 70441 entries, 0 to 101765\n",
            "Data columns (total 45 columns):\n",
            "encounter_id                70441 non-null int64\n",
            "patient_nbr                 70441 non-null int64\n",
            "race                        70441 non-null object\n",
            "gender                      70441 non-null object\n",
            "age                         70441 non-null object\n",
            "admission_type_id           70441 non-null int64\n",
            "discharge_disposition_id    70441 non-null int64\n",
            "admission_source_id         70441 non-null int64\n",
            "time_in_hospital            70441 non-null int64\n",
            "num_lab_procedures          70441 non-null int64\n",
            "num_procedures              70441 non-null int64\n",
            "num_medications             70441 non-null int64\n",
            "number_outpatient           70441 non-null int64\n",
            "number_emergency            70441 non-null int64\n",
            "number_inpatient            70441 non-null int64\n",
            "number_diagnoses            70441 non-null int64\n",
            "max_glu_serum               70441 non-null object\n",
            "A1Cresult                   70441 non-null object\n",
            "metformin                   70441 non-null object\n",
            "repaglinide                 70441 non-null object\n",
            "nateglinide                 70441 non-null object\n",
            "chlorpropamide              70441 non-null object\n",
            "glimepiride                 70441 non-null object\n",
            "acetohexamide               70441 non-null object\n",
            "glipizide                   70441 non-null object\n",
            "glyburide                   70441 non-null object\n",
            "tolbutamide                 70441 non-null object\n",
            "pioglitazone                70441 non-null object\n",
            "rosiglitazone               70441 non-null object\n",
            "acarbose                    70441 non-null object\n",
            "miglitol                    70441 non-null object\n",
            "troglitazone                70441 non-null object\n",
            "tolazamide                  70441 non-null object\n",
            "examide                     70441 non-null object\n",
            "citoglipton                 70441 non-null object\n",
            "insulin                     70441 non-null object\n",
            "glyburide-metformin         70441 non-null object\n",
            "glipizide-metformin         70441 non-null object\n",
            "glimepiride-pioglitazone    70441 non-null object\n",
            "metformin-rosiglitazone     70441 non-null object\n",
            "metformin-pioglitazone      70441 non-null object\n",
            "change                      70441 non-null object\n",
            "diabetesMed                 70441 non-null object\n",
            "Cons_diag                   70441 non-null int64\n",
            "re_ad                       70441 non-null int64\n",
            "dtypes: int64(15), object(30)\n",
            "memory usage: 24.7+ MB\n"
          ],
          "name": "stdout"
        }
      ]
    },
    {
      "cell_type": "markdown",
      "metadata": {
        "id": "BVYWQhs6BZ_K",
        "colab_type": "text"
      },
      "source": [
        "Consider HbA1c might be highly related to the diagnoses for diabetes, here A1Cresult is transformed into numeric values.\n",
        "\n",
        "1.   \"None\"   => 0\n",
        "2.   \"Norm\"   => 1\n",
        "3.   \">7\"     => 2\n",
        "4.   \">8\"     => 3\n",
        "\n"
      ]
    },
    {
      "cell_type": "code",
      "metadata": {
        "id": "d7OI-jHyCC8I",
        "colab_type": "code",
        "outputId": "8ffa3126-cfc8-44d0-ba4f-3d593aec8e3a",
        "colab": {
          "base_uri": "https://localhost:8080/",
          "height": 277
        }
      },
      "source": [
        "diabetic[\"HbA1c\"] = 0\n",
        "diabetic[\"HbA1c\"][diabetic.A1Cresult==\"Norm\"] = 1\n",
        "diabetic[\"HbA1c\"][diabetic.A1Cresult==\">7\"] = 2\n",
        "diabetic[\"HbA1c\"][diabetic.A1Cresult==\">8\"] = 3"
      ],
      "execution_count": 0,
      "outputs": [
        {
          "output_type": "stream",
          "text": [
            "/usr/local/lib/python3.6/dist-packages/ipykernel_launcher.py:2: SettingWithCopyWarning: \n",
            "A value is trying to be set on a copy of a slice from a DataFrame\n",
            "\n",
            "See the caveats in the documentation: http://pandas.pydata.org/pandas-docs/stable/user_guide/indexing.html#returning-a-view-versus-a-copy\n",
            "  \n",
            "/usr/local/lib/python3.6/dist-packages/ipykernel_launcher.py:3: SettingWithCopyWarning: \n",
            "A value is trying to be set on a copy of a slice from a DataFrame\n",
            "\n",
            "See the caveats in the documentation: http://pandas.pydata.org/pandas-docs/stable/user_guide/indexing.html#returning-a-view-versus-a-copy\n",
            "  This is separate from the ipykernel package so we can avoid doing imports until\n",
            "/usr/local/lib/python3.6/dist-packages/ipykernel_launcher.py:4: SettingWithCopyWarning: \n",
            "A value is trying to be set on a copy of a slice from a DataFrame\n",
            "\n",
            "See the caveats in the documentation: http://pandas.pydata.org/pandas-docs/stable/user_guide/indexing.html#returning-a-view-versus-a-copy\n",
            "  after removing the cwd from sys.path.\n"
          ],
          "name": "stderr"
        }
      ]
    },
    {
      "cell_type": "code",
      "metadata": {
        "id": "2ewoKgVRDa14",
        "colab_type": "code",
        "outputId": "00880718-14ad-412a-f50d-a5b866e4b2a0",
        "colab": {
          "base_uri": "https://localhost:8080/",
          "height": 554
        }
      },
      "source": [
        "diabetic[\"A1Cresult\"][70:100]"
      ],
      "execution_count": 0,
      "outputs": [
        {
          "output_type": "execute_result",
          "data": {
            "text/plain": [
              "73     None\n",
              "74       >7\n",
              "75     None\n",
              "76     None\n",
              "77     None\n",
              "80     None\n",
              "82     None\n",
              "83     None\n",
              "84     None\n",
              "85     None\n",
              "86     None\n",
              "87     None\n",
              "88     None\n",
              "89     None\n",
              "90     None\n",
              "91     None\n",
              "92     None\n",
              "93     None\n",
              "94     None\n",
              "95     None\n",
              "96     None\n",
              "97     None\n",
              "98       >8\n",
              "99     None\n",
              "102    None\n",
              "103    Norm\n",
              "104    None\n",
              "105    None\n",
              "106    None\n",
              "107    Norm\n",
              "Name: A1Cresult, dtype: object"
            ]
          },
          "metadata": {
            "tags": []
          },
          "execution_count": 39
        }
      ]
    },
    {
      "cell_type": "code",
      "metadata": {
        "id": "iSlnQ1tNDjtl",
        "colab_type": "code",
        "outputId": "475d060b-6c1f-419e-800a-589ffc388688",
        "colab": {
          "base_uri": "https://localhost:8080/",
          "height": 554
        }
      },
      "source": [
        "diabetic[\"HbA1c\"][70:100]"
      ],
      "execution_count": 0,
      "outputs": [
        {
          "output_type": "execute_result",
          "data": {
            "text/plain": [
              "73     0\n",
              "74     2\n",
              "75     0\n",
              "76     0\n",
              "77     0\n",
              "80     0\n",
              "82     0\n",
              "83     0\n",
              "84     0\n",
              "85     0\n",
              "86     0\n",
              "87     0\n",
              "88     0\n",
              "89     0\n",
              "90     0\n",
              "91     0\n",
              "92     0\n",
              "93     0\n",
              "94     0\n",
              "95     0\n",
              "96     0\n",
              "97     0\n",
              "98     3\n",
              "99     0\n",
              "102    0\n",
              "103    1\n",
              "104    0\n",
              "105    0\n",
              "106    0\n",
              "107    1\n",
              "Name: HbA1c, dtype: int64"
            ]
          },
          "metadata": {
            "tags": []
          },
          "execution_count": 40
        }
      ]
    },
    {
      "cell_type": "markdown",
      "metadata": {
        "id": "v_rFrDW_P1KT",
        "colab_type": "text"
      },
      "source": [
        "Good, data validated, now we drop the column \"A1Cresult\"."
      ]
    },
    {
      "cell_type": "code",
      "metadata": {
        "id": "i6YjDWx7P_AI",
        "colab_type": "code",
        "colab": {}
      },
      "source": [
        "diabetic = diabetic.drop(\"A1Cresult\",axis=1)"
      ],
      "execution_count": 0,
      "outputs": []
    },
    {
      "cell_type": "markdown",
      "metadata": {
        "id": "8PuNlWrTapcL",
        "colab_type": "text"
      },
      "source": [
        "# Data Preparation"
      ]
    },
    {
      "cell_type": "code",
      "metadata": {
        "id": "7XCtSFYcy2iY",
        "colab_type": "code",
        "colab": {}
      },
      "source": [
        "# For illustration only. Sklearn has train_test_split()\n",
        "def split_train_test(data, test_ratio):\n",
        "    shuffled_indices = np.random.permutation(len(data))\n",
        "    test_set_size = int(len(data) * test_ratio)\n",
        "    test_indices = shuffled_indices[:test_set_size]\n",
        "    train_indices = shuffled_indices[test_set_size:]\n",
        "    return data.iloc[train_indices], data.iloc[test_indices]"
      ],
      "execution_count": 0,
      "outputs": []
    },
    {
      "cell_type": "code",
      "metadata": {
        "id": "29mmeTZ9y44R",
        "colab_type": "code",
        "outputId": "3c62b36b-a1e2-412c-d7eb-c8a0e4099255",
        "colab": {
          "base_uri": "https://localhost:8080/",
          "height": 34
        }
      },
      "source": [
        "train_set, test_set = split_train_test(diabetic, 0.2)\n",
        "len(train_set)"
      ],
      "execution_count": 0,
      "outputs": [
        {
          "output_type": "execute_result",
          "data": {
            "text/plain": [
              "56353"
            ]
          },
          "metadata": {
            "tags": []
          },
          "execution_count": 43
        }
      ]
    },
    {
      "cell_type": "code",
      "metadata": {
        "id": "mnfmr97EOQqA",
        "colab_type": "code",
        "outputId": "9844bf63-e657-48f7-eec9-c24d25a7fbb5",
        "colab": {
          "base_uri": "https://localhost:8080/",
          "height": 34
        }
      },
      "source": [
        "len(test_set)"
      ],
      "execution_count": 0,
      "outputs": [
        {
          "output_type": "execute_result",
          "data": {
            "text/plain": [
              "14088"
            ]
          },
          "metadata": {
            "tags": []
          },
          "execution_count": 44
        }
      ]
    },
    {
      "cell_type": "markdown",
      "metadata": {
        "id": "xF2EEJwTzHIc",
        "colab_type": "text"
      },
      "source": [
        "Here we did not use 'train_test_split' from sklearn because, two columns were unreasonably missing after this build-in function called."
      ]
    },
    {
      "cell_type": "code",
      "metadata": {
        "id": "ZWgtEU3Xy-cR",
        "colab_type": "code",
        "outputId": "00e4ac30-fecc-4c0f-8065-646c8e55b293",
        "colab": {
          "base_uri": "https://localhost:8080/",
          "height": 884
        }
      },
      "source": [
        "train_set.info()"
      ],
      "execution_count": 0,
      "outputs": [
        {
          "output_type": "stream",
          "text": [
            "<class 'pandas.core.frame.DataFrame'>\n",
            "Int64Index: 56353 entries, 36563 to 21161\n",
            "Data columns (total 45 columns):\n",
            "encounter_id                56353 non-null int64\n",
            "patient_nbr                 56353 non-null int64\n",
            "race                        56353 non-null object\n",
            "gender                      56353 non-null object\n",
            "age                         56353 non-null object\n",
            "admission_type_id           56353 non-null int64\n",
            "discharge_disposition_id    56353 non-null int64\n",
            "admission_source_id         56353 non-null int64\n",
            "time_in_hospital            56353 non-null int64\n",
            "num_lab_procedures          56353 non-null int64\n",
            "num_procedures              56353 non-null int64\n",
            "num_medications             56353 non-null int64\n",
            "number_outpatient           56353 non-null int64\n",
            "number_emergency            56353 non-null int64\n",
            "number_inpatient            56353 non-null int64\n",
            "number_diagnoses            56353 non-null int64\n",
            "max_glu_serum               56353 non-null object\n",
            "metformin                   56353 non-null object\n",
            "repaglinide                 56353 non-null object\n",
            "nateglinide                 56353 non-null object\n",
            "chlorpropamide              56353 non-null object\n",
            "glimepiride                 56353 non-null object\n",
            "acetohexamide               56353 non-null object\n",
            "glipizide                   56353 non-null object\n",
            "glyburide                   56353 non-null object\n",
            "tolbutamide                 56353 non-null object\n",
            "pioglitazone                56353 non-null object\n",
            "rosiglitazone               56353 non-null object\n",
            "acarbose                    56353 non-null object\n",
            "miglitol                    56353 non-null object\n",
            "troglitazone                56353 non-null object\n",
            "tolazamide                  56353 non-null object\n",
            "examide                     56353 non-null object\n",
            "citoglipton                 56353 non-null object\n",
            "insulin                     56353 non-null object\n",
            "glyburide-metformin         56353 non-null object\n",
            "glipizide-metformin         56353 non-null object\n",
            "glimepiride-pioglitazone    56353 non-null object\n",
            "metformin-rosiglitazone     56353 non-null object\n",
            "metformin-pioglitazone      56353 non-null object\n",
            "change                      56353 non-null object\n",
            "diabetesMed                 56353 non-null object\n",
            "Cons_diag                   56353 non-null int64\n",
            "re_ad                       56353 non-null int64\n",
            "HbA1c                       56353 non-null int64\n",
            "dtypes: int64(16), object(29)\n",
            "memory usage: 19.8+ MB\n"
          ],
          "name": "stdout"
        }
      ]
    },
    {
      "cell_type": "markdown",
      "metadata": {
        "id": "sDYjAtMnzZRH",
        "colab_type": "text"
      },
      "source": [
        "Still have 45 columns, good."
      ]
    },
    {
      "cell_type": "markdown",
      "metadata": {
        "id": "5dqLydRSaH1E",
        "colab_type": "text"
      },
      "source": [
        "Take a further look into the database, there are 16 columns that are numeric. Let's take them out."
      ]
    },
    {
      "cell_type": "code",
      "metadata": {
        "id": "NYYSDxiAadxD",
        "colab_type": "code",
        "colab": {}
      },
      "source": [
        "diabetic_num = train_set.drop(['race','gender','age', \n",
        "                              'max_glu_serum', 'metformin', 'repaglinide', 'nateglinide',\n",
        "                              'chlorpropamide','glimepiride','acetohexamide','glipizide',\n",
        "                              'glyburide','tolbutamide','pioglitazone','rosiglitazone','acarbose',\n",
        "                              'miglitol','troglitazone','tolazamide','examide','citoglipton',\n",
        "                              'insulin','glyburide-metformin','glipizide-metformin',\n",
        "                              'glimepiride-pioglitazone','metformin-rosiglitazone',\n",
        "                              'metformin-pioglitazone','change','diabetesMed'],axis=1)"
      ],
      "execution_count": 0,
      "outputs": []
    },
    {
      "cell_type": "code",
      "metadata": {
        "id": "LQhvOMhIdOMB",
        "colab_type": "code",
        "outputId": "e372a09b-521e-4841-a7a5-bb163a36e348",
        "colab": {
          "base_uri": "https://localhost:8080/",
          "height": 381
        }
      },
      "source": [
        "diabetic_num.info()"
      ],
      "execution_count": 0,
      "outputs": [
        {
          "output_type": "stream",
          "text": [
            "<class 'pandas.core.frame.DataFrame'>\n",
            "Int64Index: 56353 entries, 36563 to 21161\n",
            "Data columns (total 16 columns):\n",
            "encounter_id                56353 non-null int64\n",
            "patient_nbr                 56353 non-null int64\n",
            "admission_type_id           56353 non-null int64\n",
            "discharge_disposition_id    56353 non-null int64\n",
            "admission_source_id         56353 non-null int64\n",
            "time_in_hospital            56353 non-null int64\n",
            "num_lab_procedures          56353 non-null int64\n",
            "num_procedures              56353 non-null int64\n",
            "num_medications             56353 non-null int64\n",
            "number_outpatient           56353 non-null int64\n",
            "number_emergency            56353 non-null int64\n",
            "number_inpatient            56353 non-null int64\n",
            "number_diagnoses            56353 non-null int64\n",
            "Cons_diag                   56353 non-null int64\n",
            "re_ad                       56353 non-null int64\n",
            "HbA1c                       56353 non-null int64\n",
            "dtypes: int64(16)\n",
            "memory usage: 7.3 MB\n"
          ],
          "name": "stdout"
        }
      ]
    },
    {
      "cell_type": "code",
      "metadata": {
        "id": "B9lUIGGOk1wH",
        "colab_type": "code",
        "outputId": "958228f7-e244-4317-d6fb-84bd7efb15d0",
        "colab": {
          "base_uri": "https://localhost:8080/",
          "height": 312
        }
      },
      "source": [
        "corr_matrix = diabetic_num.corr()\n",
        "corr_matrix[\"Cons_diag\"].sort_values(ascending=False)"
      ],
      "execution_count": 0,
      "outputs": [
        {
          "output_type": "execute_result",
          "data": {
            "text/plain": [
              "Cons_diag                   1.000000\n",
              "HbA1c                       0.122487\n",
              "admission_type_id           0.027587\n",
              "number_emergency            0.007634\n",
              "re_ad                      -0.008505\n",
              "admission_source_id        -0.021116\n",
              "number_inpatient           -0.023964\n",
              "discharge_disposition_id   -0.025603\n",
              "number_outpatient          -0.027760\n",
              "num_lab_procedures         -0.068278\n",
              "num_procedures             -0.093211\n",
              "patient_nbr                -0.094782\n",
              "encounter_id               -0.105173\n",
              "time_in_hospital           -0.138743\n",
              "num_medications            -0.143921\n",
              "number_diagnoses           -0.417879\n",
              "Name: Cons_diag, dtype: float64"
            ]
          },
          "metadata": {
            "tags": []
          },
          "execution_count": 48
        }
      ]
    },
    {
      "cell_type": "markdown",
      "metadata": {
        "id": "3RCqcTu2JL2u",
        "colab_type": "text"
      },
      "source": [
        "From the numeric colums, the most corelated column to diagnosis of diabetes is 'number_diagnoses'."
      ]
    },
    {
      "cell_type": "code",
      "metadata": {
        "id": "EhpPKi-xT5Xl",
        "colab_type": "code",
        "outputId": "d28f2806-7461-4c99-efd6-889e86e0d6c7",
        "colab": {
          "base_uri": "https://localhost:8080/",
          "height": 606
        }
      },
      "source": [
        "# from pandas.tools.plotting import scatter_matrix # For older versions of Pandas\n",
        "from pandas.plotting import scatter_matrix\n",
        "\n",
        "attributes = [\"Cons_diag\", \"number_diagnoses\", \"num_medications\",\"time_in_hospital\",\"HbA1c\"]\n",
        "scatter_matrix(diabetic_num[attributes], figsize=(12, 8))\n",
        "save_fig(\"scatter_matrix_plot\")"
      ],
      "execution_count": 0,
      "outputs": [
        {
          "output_type": "stream",
          "text": [
            "Saving figure scatter_matrix_plot\n"
          ],
          "name": "stdout"
        },
        {
          "output_type": "display_data",
          "data": {
            "image/png": "[encoded data removed]",
            "text/plain": [
              "<Figure size 864x576 with 25 Axes>"
            ]
          },
          "metadata": {
            "tags": []
          }
        }
      ]
    },
    {
      "cell_type": "code",
      "metadata": {
        "id": "R3gVqpva2e0C",
        "colab_type": "code",
        "outputId": "b6b20f63-0b7a-47b6-a74f-09f9c568a6ae",
        "colab": {
          "base_uri": "https://localhost:8080/",
          "height": 312
        }
      },
      "source": [
        "corr_matrix = diabetic_num.corr()\n",
        "corr_matrix[\"re_ad\"].sort_values(ascending=False)"
      ],
      "execution_count": 0,
      "outputs": [
        {
          "output_type": "execute_result",
          "data": {
            "text/plain": [
              "re_ad                       1.000000\n",
              "number_inpatient            0.102937\n",
              "discharge_disposition_id    0.064957\n",
              "time_in_hospital            0.054446\n",
              "number_diagnoses            0.042758\n",
              "num_medications             0.036680\n",
              "num_lab_procedures          0.029971\n",
              "number_emergency            0.027454\n",
              "number_outpatient           0.007629\n",
              "admission_source_id         0.005368\n",
              "patient_nbr                 0.004257\n",
              "num_procedures              0.002310\n",
              "admission_type_id           0.000013\n",
              "Cons_diag                  -0.008505\n",
              "HbA1c                      -0.009776\n",
              "encounter_id               -0.047151\n",
              "Name: re_ad, dtype: float64"
            ]
          },
          "metadata": {
            "tags": []
          },
          "execution_count": 50
        }
      ]
    },
    {
      "cell_type": "markdown",
      "metadata": {
        "id": "CMusuuCSJYNv",
        "colab_type": "text"
      },
      "source": [
        "From the numeric colums, it seems all these columns have very low corelations with 'readmitted'."
      ]
    },
    {
      "cell_type": "code",
      "metadata": {
        "id": "SJCT523WL8YC",
        "colab_type": "code",
        "colab": {}
      },
      "source": [
        "diabetic_train = train_set.drop(\"Cons_diag\", axis=1) # drop labels for training set\n",
        "diabetic_train = diabetic_train.drop(\"re_ad\", axis=1)\n",
        "dia_labels_diag = train_set[\"Cons_diag\"].copy()\n",
        "dia_labels_read = train_set[\"re_ad\"].copy()"
      ],
      "execution_count": 0,
      "outputs": []
    },
    {
      "cell_type": "markdown",
      "metadata": {
        "id": "co7tPmUWhp1R",
        "colab_type": "text"
      },
      "source": [
        "Now let's build a pipeline for preprocessing the numerical attributes with scaling:"
      ]
    },
    {
      "cell_type": "code",
      "metadata": {
        "id": "JkHW5_5ohtkI",
        "colab_type": "code",
        "colab": {}
      },
      "source": [
        "from sklearn.pipeline import Pipeline\n",
        "from sklearn.preprocessing import StandardScaler\n",
        "\n",
        "num_pipeline = Pipeline([('std_scaler', StandardScaler())])\n",
        "\n",
        "diabetic_tr = num_pipeline.fit_transform(diabetic_num)"
      ],
      "execution_count": 0,
      "outputs": []
    },
    {
      "cell_type": "code",
      "metadata": {
        "id": "p2O_3HCbiAcX",
        "colab_type": "code",
        "outputId": "1dee522f-9616-463e-e23a-ba4a8dca4f5a",
        "colab": {
          "base_uri": "https://localhost:8080/",
          "height": 242
        }
      },
      "source": [
        "diabetic_tr"
      ],
      "execution_count": 0,
      "outputs": [
        {
          "output_type": "execute_result",
          "data": {
            "text/plain": [
              "array([[-0.44167186,  0.74301342, -0.73174058, ...,  1.24629849,\n",
              "         3.20091536,  2.81240975],\n",
              "       [-0.94669309, -0.9783004 , -0.06767563, ...,  1.24629849,\n",
              "        -0.31241064,  2.81240975],\n",
              "       [-0.47466256,  1.25738643, -0.73174058, ..., -0.802376  ,\n",
              "        -0.31241064, -0.43380394],\n",
              "       ...,\n",
              "       [ 0.73947577, -1.34344443, -0.06767563, ..., -0.802376  ,\n",
              "        -0.31241064, -0.43380394],\n",
              "       [-1.49134838, -1.13924841,  2.58858414, ..., -0.802376  ,\n",
              "        -0.31241064, -0.43380394],\n",
              "       [-0.8256232 , -0.87191168,  0.59638931, ..., -0.802376  ,\n",
              "        -0.31241064, -0.43380394]])"
            ]
          },
          "metadata": {
            "tags": []
          },
          "execution_count": 53
        }
      ]
    },
    {
      "cell_type": "markdown",
      "metadata": {
        "id": "ioTc5_3bTzAa",
        "colab_type": "text"
      },
      "source": [
        "Next we'll deal with categorical columns."
      ]
    },
    {
      "cell_type": "code",
      "metadata": {
        "id": "DDfKrrIGhgzz",
        "colab_type": "code",
        "colab": {}
      },
      "source": [
        "from sklearn.preprocessing import OneHotEncoder\n",
        "\n",
        "cat_encoder = OneHotEncoder()"
      ],
      "execution_count": 0,
      "outputs": []
    },
    {
      "cell_type": "code",
      "metadata": {
        "id": "D2vJUZeciJIz",
        "colab_type": "code",
        "colab": {}
      },
      "source": [
        "from sklearn.compose import ColumnTransformer\n",
        "\n",
        "num_attribs = list(diabetic_num)\n",
        "cat_attribs = ['race','gender','age',\n",
        "                              'max_glu_serum','metformin','repaglinide','nateglinide',\n",
        "                              'chlorpropamide','glimepiride','acetohexamide','glipizide',\n",
        "                              'glyburide','tolbutamide','pioglitazone','rosiglitazone','acarbose',\n",
        "                              'miglitol','troglitazone','tolazamide','examide','citoglipton',\n",
        "                              'insulin','glyburide-metformin','glipizide-metformin',\n",
        "                              'glimepiride-pioglitazone','metformin-rosiglitazone',\n",
        "                              'metformin-pioglitazone','change','diabetesMed']\n",
        "\n",
        "full_pipeline = ColumnTransformer([\n",
        "        (\"num\", num_pipeline, num_attribs),\n",
        "        (\"cat\", OneHotEncoder(), cat_attribs),\n",
        "    ])\n",
        "\n",
        "dia_prepared = full_pipeline.fit_transform(train_set)"
      ],
      "execution_count": 0,
      "outputs": []
    },
    {
      "cell_type": "code",
      "metadata": {
        "id": "wxSVZz20ikXe",
        "colab_type": "code",
        "outputId": "e0e9440b-7546-4360-fb0a-92c34222d12c",
        "colab": {
          "base_uri": "https://localhost:8080/",
          "height": 34
        }
      },
      "source": [
        "dia_prepared.shape"
      ],
      "execution_count": 0,
      "outputs": [
        {
          "output_type": "execute_result",
          "data": {
            "text/plain": [
              "(56353, 110)"
            ]
          },
          "metadata": {
            "tags": []
          },
          "execution_count": 56
        }
      ]
    },
    {
      "cell_type": "markdown",
      "metadata": {
        "id": "BJ0htNXRKsdO",
        "colab_type": "text"
      },
      "source": [
        "Since all the data has transformed into 2D float array, we are unable to run correlation matrix to seek the most correlated attributes among non-numeric columns."
      ]
    },
    {
      "cell_type": "markdown",
      "metadata": {
        "id": "S78VaY274qM0",
        "colab_type": "text"
      },
      "source": [
        "Now let's do the same on the test data set."
      ]
    },
    {
      "cell_type": "code",
      "metadata": {
        "id": "x6FY53hE43MD",
        "colab_type": "code",
        "colab": {}
      },
      "source": [
        "test_num = test_set.drop(['race','gender','age', \n",
        "                              'max_glu_serum', 'metformin', 'repaglinide', 'nateglinide',\n",
        "                              'chlorpropamide','glimepiride','acetohexamide','glipizide',\n",
        "                              'glyburide','tolbutamide','pioglitazone','rosiglitazone','acarbose',\n",
        "                              'miglitol','troglitazone','tolazamide','examide','citoglipton',\n",
        "                              'insulin','glyburide-metformin','glipizide-metformin',\n",
        "                              'glimepiride-pioglitazone','metformin-rosiglitazone',\n",
        "                              'metformin-pioglitazone','change','diabetesMed'],axis=1)"
      ],
      "execution_count": 0,
      "outputs": []
    },
    {
      "cell_type": "code",
      "metadata": {
        "id": "NeHvDjXO4uLF",
        "colab_type": "code",
        "colab": {}
      },
      "source": [
        "test_labels_diag = test_set[\"Cons_diag\"].copy()\n",
        "test_labels_read = test_set[\"re_ad\"].copy()\n",
        "diabetic_test = test_set.drop(\"Cons_diag\", axis=1) # drop labels for testing set\n",
        "diabetic_test = diabetic_test.drop(\"re_ad\", axis=1)"
      ],
      "execution_count": 0,
      "outputs": []
    },
    {
      "cell_type": "code",
      "metadata": {
        "id": "_Jc3pdoz5Taw",
        "colab_type": "code",
        "colab": {}
      },
      "source": [
        "test_tr = num_pipeline.fit_transform(test_num)"
      ],
      "execution_count": 0,
      "outputs": []
    },
    {
      "cell_type": "code",
      "metadata": {
        "id": "CGyqnNQn5s4y",
        "colab_type": "code",
        "colab": {}
      },
      "source": [
        "num_attribs = list(test_num)\n",
        "cat_attribs = ['race','gender','age',\n",
        "                              'max_glu_serum','metformin','repaglinide','nateglinide',\n",
        "                              'chlorpropamide','glimepiride','acetohexamide','glipizide',\n",
        "                              'glyburide','tolbutamide','pioglitazone','rosiglitazone','acarbose',\n",
        "                              'miglitol','troglitazone','tolazamide','examide','citoglipton',\n",
        "                              'insulin','glyburide-metformin','glipizide-metformin',\n",
        "                              'glimepiride-pioglitazone','metformin-rosiglitazone',\n",
        "                              'metformin-pioglitazone','change','diabetesMed']\n",
        "\n",
        "full_pipeline = ColumnTransformer([\n",
        "        (\"num\", num_pipeline, num_attribs),\n",
        "        (\"cat\", OneHotEncoder(), cat_attribs),\n",
        "    ])"
      ],
      "execution_count": 0,
      "outputs": []
    },
    {
      "cell_type": "code",
      "metadata": {
        "id": "fcP9z1fR5Zcd",
        "colab_type": "code",
        "colab": {}
      },
      "source": [
        "test_prepared = full_pipeline.fit_transform(test_set)"
      ],
      "execution_count": 0,
      "outputs": []
    },
    {
      "cell_type": "code",
      "metadata": {
        "id": "COnZ_hrT5eSB",
        "colab_type": "code",
        "outputId": "6178e4f0-62f3-4951-abe3-0a16f08ea874",
        "colab": {
          "base_uri": "https://localhost:8080/",
          "height": 34
        }
      },
      "source": [
        "test_prepared.shape"
      ],
      "execution_count": 0,
      "outputs": [
        {
          "output_type": "execute_result",
          "data": {
            "text/plain": [
              "(14088, 100)"
            ]
          },
          "metadata": {
            "tags": []
          },
          "execution_count": 62
        }
      ]
    },
    {
      "cell_type": "markdown",
      "metadata": {
        "id": "DQgljsUe7qUf",
        "colab_type": "text"
      },
      "source": [
        "It is probably the variance of data value of the training set and the testing set causing the difference of column number after transforming all the non-numeric data into numeric data.\n"
      ]
    },
    {
      "cell_type": "markdown",
      "metadata": {
        "id": "tzWmA19VUBJJ",
        "colab_type": "text"
      },
      "source": [
        "We'll manually transform columns \"race\", \"age\", \"max_glu_serum\", \"gender\",\"change\", \"diabetesMed\" into numeric data."
      ]
    },
    {
      "cell_type": "markdown",
      "metadata": {
        "id": "v0dvRC7aaCg1",
        "colab_type": "text"
      },
      "source": [
        "Race is transformed into numeric values.\n",
        "\n",
        "1.   \"Other\"               => 0\n",
        "2.   \"Caucasian\"           => 1\n",
        "3.   \"AfricanAmerican\"     => 2\n",
        "4.   \"Asian\"               => 3\n",
        "5.   \"Hispanic\"            => 4\n"
      ]
    },
    {
      "cell_type": "code",
      "metadata": {
        "id": "bIXgywMRYRNk",
        "colab_type": "code",
        "outputId": "8e8b6323-83a9-4f73-8e18-a40f58686cd7",
        "colab": {
          "base_uri": "https://localhost:8080/",
          "height": 364
        }
      },
      "source": [
        "diabetic[\"Race\"] = 0\n",
        "diabetic[\"Race\"][diabetic.race==\"Caucasian\"] = 1\n",
        "diabetic[\"Race\"][diabetic.race==\"AfricanAmerican\"] = 2\n",
        "diabetic[\"Race\"][diabetic.race==\"Asian\"] = 3\n",
        "diabetic[\"Race\"][diabetic.race==\"Hispanic\"] = 4"
      ],
      "execution_count": 0,
      "outputs": [
        {
          "output_type": "stream",
          "text": [
            "/usr/local/lib/python3.6/dist-packages/ipykernel_launcher.py:2: SettingWithCopyWarning: \n",
            "A value is trying to be set on a copy of a slice from a DataFrame\n",
            "\n",
            "See the caveats in the documentation: http://pandas.pydata.org/pandas-docs/stable/user_guide/indexing.html#returning-a-view-versus-a-copy\n",
            "  \n",
            "/usr/local/lib/python3.6/dist-packages/ipykernel_launcher.py:3: SettingWithCopyWarning: \n",
            "A value is trying to be set on a copy of a slice from a DataFrame\n",
            "\n",
            "See the caveats in the documentation: http://pandas.pydata.org/pandas-docs/stable/user_guide/indexing.html#returning-a-view-versus-a-copy\n",
            "  This is separate from the ipykernel package so we can avoid doing imports until\n",
            "/usr/local/lib/python3.6/dist-packages/ipykernel_launcher.py:4: SettingWithCopyWarning: \n",
            "A value is trying to be set on a copy of a slice from a DataFrame\n",
            "\n",
            "See the caveats in the documentation: http://pandas.pydata.org/pandas-docs/stable/user_guide/indexing.html#returning-a-view-versus-a-copy\n",
            "  after removing the cwd from sys.path.\n",
            "/usr/local/lib/python3.6/dist-packages/ipykernel_launcher.py:5: SettingWithCopyWarning: \n",
            "A value is trying to be set on a copy of a slice from a DataFrame\n",
            "\n",
            "See the caveats in the documentation: http://pandas.pydata.org/pandas-docs/stable/user_guide/indexing.html#returning-a-view-versus-a-copy\n",
            "  \"\"\"\n"
          ],
          "name": "stderr"
        }
      ]
    },
    {
      "cell_type": "code",
      "metadata": {
        "id": "iwMwTQOFZVvR",
        "colab_type": "code",
        "colab": {}
      },
      "source": [
        "diabetic = diabetic.drop(\"race\",axis=1)"
      ],
      "execution_count": 0,
      "outputs": []
    },
    {
      "cell_type": "markdown",
      "metadata": {
        "id": "vwk6_POIayaR",
        "colab_type": "text"
      },
      "source": [
        "Gender is transformed into numeric values.\n",
        "\n",
        "1.   \"Unknown/Invalid\"  => 0\n",
        "2.   \"Female\"           => 1\n",
        "3.   \"Male\"             => 2"
      ]
    },
    {
      "cell_type": "code",
      "metadata": {
        "id": "ib7IitdMZiY9",
        "colab_type": "code",
        "outputId": "ea76f536-1c61-4c65-ac19-16e6cbfd5d02",
        "colab": {
          "base_uri": "https://localhost:8080/",
          "height": 190
        }
      },
      "source": [
        "diabetic[\"Gender\"] = 0\n",
        "diabetic[\"Gender\"][diabetic.gender==\"Female\"] = 1\n",
        "diabetic[\"Gender\"][diabetic.gender==\"Male\"] = 2"
      ],
      "execution_count": 0,
      "outputs": [
        {
          "output_type": "stream",
          "text": [
            "/usr/local/lib/python3.6/dist-packages/ipykernel_launcher.py:2: SettingWithCopyWarning: \n",
            "A value is trying to be set on a copy of a slice from a DataFrame\n",
            "\n",
            "See the caveats in the documentation: http://pandas.pydata.org/pandas-docs/stable/user_guide/indexing.html#returning-a-view-versus-a-copy\n",
            "  \n",
            "/usr/local/lib/python3.6/dist-packages/ipykernel_launcher.py:3: SettingWithCopyWarning: \n",
            "A value is trying to be set on a copy of a slice from a DataFrame\n",
            "\n",
            "See the caveats in the documentation: http://pandas.pydata.org/pandas-docs/stable/user_guide/indexing.html#returning-a-view-versus-a-copy\n",
            "  This is separate from the ipykernel package so we can avoid doing imports until\n"
          ],
          "name": "stderr"
        }
      ]
    },
    {
      "cell_type": "code",
      "metadata": {
        "id": "M-AeSKhoas8o",
        "colab_type": "code",
        "colab": {}
      },
      "source": [
        "diabetic = diabetic.drop(\"gender\",axis=1)"
      ],
      "execution_count": 0,
      "outputs": []
    },
    {
      "cell_type": "markdown",
      "metadata": {
        "id": "LgFSIH08a-I3",
        "colab_type": "text"
      },
      "source": [
        "Age is transformed into numeric values.\n",
        "\n",
        "1.   \"[0-10)\"               => 0\n",
        "2.   \"[10-20)\"              => 1\n",
        "3.   \"[20-30)\"              => 2\n",
        "4.   \"[30-40)\"              => 3\n",
        "5.   \"[40-50)\"              => 4\n",
        "5.   \"[50-60)\"              => 5\n",
        "6.   \"[60-70)\"              => 6\n",
        "7.   \"[70-80)\"              => 7\n",
        "8.   \"[80-90)\"              => 8\n",
        "9.   \"[90-100)\"             => 9"
      ]
    },
    {
      "cell_type": "code",
      "metadata": {
        "id": "47m-Ud0ubiT5",
        "colab_type": "code",
        "outputId": "a9e3308e-d8cc-4d91-d8b5-2d491f57760f",
        "colab": {
          "base_uri": "https://localhost:8080/",
          "height": 797
        }
      },
      "source": [
        "diabetic[\"Age\"] = 0\n",
        "diabetic[\"Age\"][diabetic.age==\"[10-20)\"] = 1\n",
        "diabetic[\"Age\"][diabetic.age==\"[20-30)\"] = 2\n",
        "diabetic[\"Age\"][diabetic.age==\"[30-40)\"] = 3\n",
        "diabetic[\"Age\"][diabetic.age==\"[40-50)\"] = 4\n",
        "diabetic[\"Age\"][diabetic.age==\"[50-60)\"] = 5\n",
        "diabetic[\"Age\"][diabetic.age==\"[60-70)\"] = 6\n",
        "diabetic[\"Age\"][diabetic.age==\"[70-80)\"] = 7\n",
        "diabetic[\"Age\"][diabetic.age==\"[80-90)\"] = 8\n",
        "diabetic[\"Age\"][diabetic.age==\"[90-100)\"] = 9\n"
      ],
      "execution_count": 0,
      "outputs": [
        {
          "output_type": "stream",
          "text": [
            "/usr/local/lib/python3.6/dist-packages/ipykernel_launcher.py:2: SettingWithCopyWarning: \n",
            "A value is trying to be set on a copy of a slice from a DataFrame\n",
            "\n",
            "See the caveats in the documentation: http://pandas.pydata.org/pandas-docs/stable/user_guide/indexing.html#returning-a-view-versus-a-copy\n",
            "  \n",
            "/usr/local/lib/python3.6/dist-packages/ipykernel_launcher.py:3: SettingWithCopyWarning: \n",
            "A value is trying to be set on a copy of a slice from a DataFrame\n",
            "\n",
            "See the caveats in the documentation: http://pandas.pydata.org/pandas-docs/stable/user_guide/indexing.html#returning-a-view-versus-a-copy\n",
            "  This is separate from the ipykernel package so we can avoid doing imports until\n",
            "/usr/local/lib/python3.6/dist-packages/ipykernel_launcher.py:4: SettingWithCopyWarning: \n",
            "A value is trying to be set on a copy of a slice from a DataFrame\n",
            "\n",
            "See the caveats in the documentation: http://pandas.pydata.org/pandas-docs/stable/user_guide/indexing.html#returning-a-view-versus-a-copy\n",
            "  after removing the cwd from sys.path.\n",
            "/usr/local/lib/python3.6/dist-packages/ipykernel_launcher.py:5: SettingWithCopyWarning: \n",
            "A value is trying to be set on a copy of a slice from a DataFrame\n",
            "\n",
            "See the caveats in the documentation: http://pandas.pydata.org/pandas-docs/stable/user_guide/indexing.html#returning-a-view-versus-a-copy\n",
            "  \"\"\"\n",
            "/usr/local/lib/python3.6/dist-packages/ipykernel_launcher.py:6: SettingWithCopyWarning: \n",
            "A value is trying to be set on a copy of a slice from a DataFrame\n",
            "\n",
            "See the caveats in the documentation: http://pandas.pydata.org/pandas-docs/stable/user_guide/indexing.html#returning-a-view-versus-a-copy\n",
            "  \n",
            "/usr/local/lib/python3.6/dist-packages/ipykernel_launcher.py:7: SettingWithCopyWarning: \n",
            "A value is trying to be set on a copy of a slice from a DataFrame\n",
            "\n",
            "See the caveats in the documentation: http://pandas.pydata.org/pandas-docs/stable/user_guide/indexing.html#returning-a-view-versus-a-copy\n",
            "  import sys\n",
            "/usr/local/lib/python3.6/dist-packages/ipykernel_launcher.py:8: SettingWithCopyWarning: \n",
            "A value is trying to be set on a copy of a slice from a DataFrame\n",
            "\n",
            "See the caveats in the documentation: http://pandas.pydata.org/pandas-docs/stable/user_guide/indexing.html#returning-a-view-versus-a-copy\n",
            "  \n",
            "/usr/local/lib/python3.6/dist-packages/ipykernel_launcher.py:9: SettingWithCopyWarning: \n",
            "A value is trying to be set on a copy of a slice from a DataFrame\n",
            "\n",
            "See the caveats in the documentation: http://pandas.pydata.org/pandas-docs/stable/user_guide/indexing.html#returning-a-view-versus-a-copy\n",
            "  if __name__ == '__main__':\n",
            "/usr/local/lib/python3.6/dist-packages/ipykernel_launcher.py:10: SettingWithCopyWarning: \n",
            "A value is trying to be set on a copy of a slice from a DataFrame\n",
            "\n",
            "See the caveats in the documentation: http://pandas.pydata.org/pandas-docs/stable/user_guide/indexing.html#returning-a-view-versus-a-copy\n",
            "  # Remove the CWD from sys.path while we load stuff.\n"
          ],
          "name": "stderr"
        }
      ]
    },
    {
      "cell_type": "code",
      "metadata": {
        "id": "C-xtQliScIOK",
        "colab_type": "code",
        "colab": {}
      },
      "source": [
        "diabetic = diabetic.drop(\"age\",axis=1)"
      ],
      "execution_count": 0,
      "outputs": []
    },
    {
      "cell_type": "markdown",
      "metadata": {
        "id": "aAXfXxdpcU3V",
        "colab_type": "text"
      },
      "source": [
        "Change is transformed into numeric values.\n",
        "\n",
        "1.   \"Ch\"               => 0\n",
        "2.   \"No\"               => 1"
      ]
    },
    {
      "cell_type": "code",
      "metadata": {
        "id": "W1G6C6grcZ2o",
        "colab_type": "code",
        "outputId": "57690b44-89d3-4bba-e286-c944b2f9d08f",
        "colab": {
          "base_uri": "https://localhost:8080/",
          "height": 104
        }
      },
      "source": [
        "diabetic[\"Change\"] = 0\n",
        "diabetic[\"Change\"][diabetic.change==\"No\"] = 1"
      ],
      "execution_count": 0,
      "outputs": [
        {
          "output_type": "stream",
          "text": [
            "/usr/local/lib/python3.6/dist-packages/ipykernel_launcher.py:2: SettingWithCopyWarning: \n",
            "A value is trying to be set on a copy of a slice from a DataFrame\n",
            "\n",
            "See the caveats in the documentation: http://pandas.pydata.org/pandas-docs/stable/user_guide/indexing.html#returning-a-view-versus-a-copy\n",
            "  \n"
          ],
          "name": "stderr"
        }
      ]
    },
    {
      "cell_type": "code",
      "metadata": {
        "id": "Wt4eMBvMckFn",
        "colab_type": "code",
        "colab": {}
      },
      "source": [
        "diabetic = diabetic.drop(\"change\",axis=1)"
      ],
      "execution_count": 0,
      "outputs": []
    },
    {
      "cell_type": "markdown",
      "metadata": {
        "id": "kySNzMfDcuPc",
        "colab_type": "text"
      },
      "source": [
        "DiabetesMed is transformed into numeric values.\n",
        "\n",
        "1.   \"Yes\"               => 0\n",
        "2.   \"No\"                => 1"
      ]
    },
    {
      "cell_type": "code",
      "metadata": {
        "id": "6uEoyOalc_7x",
        "colab_type": "code",
        "outputId": "fb30114c-1866-455f-98fd-e6497b1a9eb5",
        "colab": {
          "base_uri": "https://localhost:8080/",
          "height": 104
        }
      },
      "source": [
        "diabetic[\"DiabetesMed\"] = 0\n",
        "diabetic[\"DiabetesMed\"][diabetic.diabetesMed==\"No\"] = 1"
      ],
      "execution_count": 0,
      "outputs": [
        {
          "output_type": "stream",
          "text": [
            "/usr/local/lib/python3.6/dist-packages/ipykernel_launcher.py:2: SettingWithCopyWarning: \n",
            "A value is trying to be set on a copy of a slice from a DataFrame\n",
            "\n",
            "See the caveats in the documentation: http://pandas.pydata.org/pandas-docs/stable/user_guide/indexing.html#returning-a-view-versus-a-copy\n",
            "  \n"
          ],
          "name": "stderr"
        }
      ]
    },
    {
      "cell_type": "code",
      "metadata": {
        "id": "kssHVByfdEvW",
        "colab_type": "code",
        "colab": {}
      },
      "source": [
        "diabetic = diabetic.drop(\"diabetesMed\",axis=1)"
      ],
      "execution_count": 0,
      "outputs": []
    },
    {
      "cell_type": "markdown",
      "metadata": {
        "id": "rbv6jMXBgZPd",
        "colab_type": "text"
      },
      "source": [
        "Max_glu_serum is transformed into numeric values.\n",
        "\n",
        "1. \"None\" => 0\n",
        "2. \"Norm\" => 1\n",
        "3. \">200\" => 2\n",
        "4. \">300\" => 3\n"
      ]
    },
    {
      "cell_type": "code",
      "metadata": {
        "id": "Rgxl1H8LhHbU",
        "colab_type": "code",
        "outputId": "a1f3b042-661a-4600-e375-a92d55196642",
        "colab": {
          "base_uri": "https://localhost:8080/",
          "height": 277
        }
      },
      "source": [
        "diabetic[\"Max_glu_serum\"] = 0\n",
        "diabetic[\"Max_glu_serum\"][diabetic.max_glu_serum==\"Norm\"] = 1\n",
        "diabetic[\"Max_glu_serum\"][diabetic.max_glu_serum==\">200\"] = 2\n",
        "diabetic[\"Max_glu_serum\"][diabetic.max_glu_serum==\">300\"] = 3"
      ],
      "execution_count": 0,
      "outputs": [
        {
          "output_type": "stream",
          "text": [
            "/usr/local/lib/python3.6/dist-packages/ipykernel_launcher.py:2: SettingWithCopyWarning: \n",
            "A value is trying to be set on a copy of a slice from a DataFrame\n",
            "\n",
            "See the caveats in the documentation: http://pandas.pydata.org/pandas-docs/stable/user_guide/indexing.html#returning-a-view-versus-a-copy\n",
            "  \n",
            "/usr/local/lib/python3.6/dist-packages/ipykernel_launcher.py:3: SettingWithCopyWarning: \n",
            "A value is trying to be set on a copy of a slice from a DataFrame\n",
            "\n",
            "See the caveats in the documentation: http://pandas.pydata.org/pandas-docs/stable/user_guide/indexing.html#returning-a-view-versus-a-copy\n",
            "  This is separate from the ipykernel package so we can avoid doing imports until\n",
            "/usr/local/lib/python3.6/dist-packages/ipykernel_launcher.py:4: SettingWithCopyWarning: \n",
            "A value is trying to be set on a copy of a slice from a DataFrame\n",
            "\n",
            "See the caveats in the documentation: http://pandas.pydata.org/pandas-docs/stable/user_guide/indexing.html#returning-a-view-versus-a-copy\n",
            "  after removing the cwd from sys.path.\n"
          ],
          "name": "stderr"
        }
      ]
    },
    {
      "cell_type": "code",
      "metadata": {
        "id": "6zPwkvawhZbk",
        "colab_type": "code",
        "colab": {}
      },
      "source": [
        "diabetic = diabetic.drop(\"max_glu_serum\",axis=1)"
      ],
      "execution_count": 0,
      "outputs": []
    },
    {
      "cell_type": "code",
      "metadata": {
        "id": "4zofiQZgZeCj",
        "colab_type": "code",
        "outputId": "40a37eaf-3ccc-46d3-9be5-563b6404b7b8",
        "colab": {
          "base_uri": "https://localhost:8080/",
          "height": 884
        }
      },
      "source": [
        "diabetic.info()"
      ],
      "execution_count": 0,
      "outputs": [
        {
          "output_type": "stream",
          "text": [
            "<class 'pandas.core.frame.DataFrame'>\n",
            "Int64Index: 70441 entries, 0 to 101765\n",
            "Data columns (total 45 columns):\n",
            "encounter_id                70441 non-null int64\n",
            "patient_nbr                 70441 non-null int64\n",
            "admission_type_id           70441 non-null int64\n",
            "discharge_disposition_id    70441 non-null int64\n",
            "admission_source_id         70441 non-null int64\n",
            "time_in_hospital            70441 non-null int64\n",
            "num_lab_procedures          70441 non-null int64\n",
            "num_procedures              70441 non-null int64\n",
            "num_medications             70441 non-null int64\n",
            "number_outpatient           70441 non-null int64\n",
            "number_emergency            70441 non-null int64\n",
            "number_inpatient            70441 non-null int64\n",
            "number_diagnoses            70441 non-null int64\n",
            "metformin                   70441 non-null object\n",
            "repaglinide                 70441 non-null object\n",
            "nateglinide                 70441 non-null object\n",
            "chlorpropamide              70441 non-null object\n",
            "glimepiride                 70441 non-null object\n",
            "acetohexamide               70441 non-null object\n",
            "glipizide                   70441 non-null object\n",
            "glyburide                   70441 non-null object\n",
            "tolbutamide                 70441 non-null object\n",
            "pioglitazone                70441 non-null object\n",
            "rosiglitazone               70441 non-null object\n",
            "acarbose                    70441 non-null object\n",
            "miglitol                    70441 non-null object\n",
            "troglitazone                70441 non-null object\n",
            "tolazamide                  70441 non-null object\n",
            "examide                     70441 non-null object\n",
            "citoglipton                 70441 non-null object\n",
            "insulin                     70441 non-null object\n",
            "glyburide-metformin         70441 non-null object\n",
            "glipizide-metformin         70441 non-null object\n",
            "glimepiride-pioglitazone    70441 non-null object\n",
            "metformin-rosiglitazone     70441 non-null object\n",
            "metformin-pioglitazone      70441 non-null object\n",
            "Cons_diag                   70441 non-null int64\n",
            "re_ad                       70441 non-null int64\n",
            "HbA1c                       70441 non-null int64\n",
            "Race                        70441 non-null int64\n",
            "Gender                      70441 non-null int64\n",
            "Age                         70441 non-null int64\n",
            "Change                      70441 non-null int64\n",
            "DiabetesMed                 70441 non-null int64\n",
            "Max_glu_serum               70441 non-null int64\n",
            "dtypes: int64(22), object(23)\n",
            "memory usage: 24.7+ MB\n"
          ],
          "name": "stdout"
        }
      ]
    },
    {
      "cell_type": "markdown",
      "metadata": {
        "id": "IdJrNjFec6iu",
        "colab_type": "text"
      },
      "source": [
        "The dataset contains 23 features for 23 drugs (or combos) which indicate for each of these, whether a change in that medication was made or not during the current hospital stay of patient. Medication change for diabetics upon admission has been shown by previous research to be associated with lower readmission rates.\n",
        "\n",
        "Therefore, we decide to drop these non-numeric columns.\n",
        "\n",
        "reference: https://medium.com/berkeleyischool/how-to-use-machine-learning-to-predict-hospital-readmissions-part-1-bd137cbdba07"
      ]
    },
    {
      "cell_type": "code",
      "metadata": {
        "id": "wF56T5RmdZSo",
        "colab_type": "code",
        "colab": {}
      },
      "source": [
        "diabetic_num = diabetic.drop(['metformin', 'repaglinide', 'nateglinide',\n",
        "                              'chlorpropamide','glimepiride','acetohexamide','glipizide',\n",
        "                              'glyburide','tolbutamide','pioglitazone','rosiglitazone','acarbose',\n",
        "                              'miglitol','troglitazone','tolazamide','examide','citoglipton',\n",
        "                              'insulin','glyburide-metformin','glipizide-metformin',\n",
        "                              'glimepiride-pioglitazone','metformin-rosiglitazone',\n",
        "                              'metformin-pioglitazone'],axis=1)"
      ],
      "execution_count": 0,
      "outputs": []
    },
    {
      "cell_type": "code",
      "metadata": {
        "id": "QJBVP9xvdgpF",
        "colab_type": "code",
        "outputId": "942c83cf-9d0d-4dbd-b30e-0134f3dac56e",
        "colab": {
          "base_uri": "https://localhost:8080/",
          "height": 485
        }
      },
      "source": [
        "diabetic_num.info()"
      ],
      "execution_count": 0,
      "outputs": [
        {
          "output_type": "stream",
          "text": [
            "<class 'pandas.core.frame.DataFrame'>\n",
            "Int64Index: 70441 entries, 0 to 101765\n",
            "Data columns (total 22 columns):\n",
            "encounter_id                70441 non-null int64\n",
            "patient_nbr                 70441 non-null int64\n",
            "admission_type_id           70441 non-null int64\n",
            "discharge_disposition_id    70441 non-null int64\n",
            "admission_source_id         70441 non-null int64\n",
            "time_in_hospital            70441 non-null int64\n",
            "num_lab_procedures          70441 non-null int64\n",
            "num_procedures              70441 non-null int64\n",
            "num_medications             70441 non-null int64\n",
            "number_outpatient           70441 non-null int64\n",
            "number_emergency            70441 non-null int64\n",
            "number_inpatient            70441 non-null int64\n",
            "number_diagnoses            70441 non-null int64\n",
            "Cons_diag                   70441 non-null int64\n",
            "re_ad                       70441 non-null int64\n",
            "HbA1c                       70441 non-null int64\n",
            "Race                        70441 non-null int64\n",
            "Gender                      70441 non-null int64\n",
            "Age                         70441 non-null int64\n",
            "Change                      70441 non-null int64\n",
            "DiabetesMed                 70441 non-null int64\n",
            "Max_glu_serum               70441 non-null int64\n",
            "dtypes: int64(22)\n",
            "memory usage: 12.4 MB\n"
          ],
          "name": "stdout"
        }
      ]
    },
    {
      "cell_type": "markdown",
      "metadata": {
        "id": "7AvaATxYdkRm",
        "colab_type": "text"
      },
      "source": [
        "Let's run the corr-matrix again."
      ]
    },
    {
      "cell_type": "code",
      "metadata": {
        "id": "ZQUhCw_ee18L",
        "colab_type": "code",
        "outputId": "d01cb991-f8a4-43e7-f903-ceae43dd6fa9",
        "colab": {
          "base_uri": "https://localhost:8080/",
          "height": 416
        }
      },
      "source": [
        "corr_matrix = diabetic_num.corr()\n",
        "corr_matrix[\"Cons_diag\"].sort_values(ascending=False)"
      ],
      "execution_count": 0,
      "outputs": [
        {
          "output_type": "execute_result",
          "data": {
            "text/plain": [
              "Cons_diag                   1.000000\n",
              "HbA1c                       0.123378\n",
              "Race                        0.056638\n",
              "Max_glu_serum               0.035608\n",
              "admission_type_id           0.029707\n",
              "number_emergency            0.008659\n",
              "Gender                      0.001255\n",
              "re_ad                      -0.010278\n",
              "admission_source_id        -0.022414\n",
              "discharge_disposition_id   -0.024340\n",
              "number_inpatient           -0.027235\n",
              "number_outpatient          -0.027827\n",
              "DiabetesMed                -0.066659\n",
              "num_lab_procedures         -0.066782\n",
              "Change                     -0.068617\n",
              "num_procedures             -0.094242\n",
              "patient_nbr                -0.094585\n",
              "encounter_id               -0.106001\n",
              "time_in_hospital           -0.136866\n",
              "num_medications            -0.142426\n",
              "Age                        -0.250490\n",
              "number_diagnoses           -0.418840\n",
              "Name: Cons_diag, dtype: float64"
            ]
          },
          "metadata": {
            "tags": []
          },
          "execution_count": 78
        }
      ]
    },
    {
      "cell_type": "markdown",
      "metadata": {
        "id": "rjlZH5DDe83Y",
        "colab_type": "text"
      },
      "source": [
        "After taking \"race\", \"age\", \"gender\",\"change\", \"max_glu_serum\" and \"diabetesMed\" into consideration, the column with the highest correlation to \"Cons_diag\" is \"number_diagnoses\", followed by \"Age\"."
      ]
    },
    {
      "cell_type": "code",
      "metadata": {
        "id": "bfcK11lfpRW6",
        "colab_type": "code",
        "outputId": "e67ae64a-399d-4dd0-a9f2-e60c0cad438e",
        "colab": {
          "base_uri": "https://localhost:8080/",
          "height": 602
        }
      },
      "source": [
        "attributes = [\"Cons_diag\", \"number_diagnoses\", \"Age\", \"num_medications\", \"HbA1c\"]\n",
        "scatter_matrix(diabetic_num[attributes], figsize=(12, 8))\n",
        "save_fig(\"scatter_matrix_plot\")"
      ],
      "execution_count": 0,
      "outputs": [
        {
          "output_type": "stream",
          "text": [
            "Saving figure scatter_matrix_plot\n"
          ],
          "name": "stdout"
        },
        {
          "output_type": "display_data",
          "data": {
            "image/png": "[encoded data removed]",
            "text/plain": [
              "<Figure size 864x576 with 25 Axes>"
            ]
          },
          "metadata": {
            "tags": []
          }
        }
      ]
    },
    {
      "cell_type": "code",
      "metadata": {
        "id": "GPZ9XyyufjPX",
        "colab_type": "code",
        "outputId": "a5604e3e-7a9c-4c64-aed3-e1e7213a5967",
        "colab": {
          "base_uri": "https://localhost:8080/",
          "height": 416
        }
      },
      "source": [
        "corr_matrix[\"re_ad\"].sort_values(ascending=False)"
      ],
      "execution_count": 0,
      "outputs": [
        {
          "output_type": "execute_result",
          "data": {
            "text/plain": [
              "re_ad                       1.000000\n",
              "number_inpatient            0.100671\n",
              "discharge_disposition_id    0.065299\n",
              "time_in_hospital            0.054757\n",
              "Age                         0.045701\n",
              "number_diagnoses            0.044247\n",
              "num_medications             0.036067\n",
              "num_lab_procedures          0.031682\n",
              "number_emergency            0.028190\n",
              "Max_glu_serum               0.009238\n",
              "number_outpatient           0.008764\n",
              "admission_source_id         0.005402\n",
              "patient_nbr                 0.005099\n",
              "num_procedures              0.000068\n",
              "admission_type_id          -0.001643\n",
              "Gender                     -0.002167\n",
              "Race                       -0.002371\n",
              "HbA1c                      -0.009570\n",
              "Cons_diag                  -0.010278\n",
              "Change                     -0.015013\n",
              "DiabetesMed                -0.028076\n",
              "encounter_id               -0.047624\n",
              "Name: re_ad, dtype: float64"
            ]
          },
          "metadata": {
            "tags": []
          },
          "execution_count": 80
        }
      ]
    },
    {
      "cell_type": "markdown",
      "metadata": {
        "id": "T5Blxbq6ftdv",
        "colab_type": "text"
      },
      "source": [
        "The columns with the highese correlation to \"re_ad\" is \"number_inpatient\", but the correlation is pretty low."
      ]
    },
    {
      "cell_type": "markdown",
      "metadata": {
        "id": "69iuZIKc29jU",
        "colab_type": "text"
      },
      "source": [
        "# Random Forrest Classifier Model"
      ]
    },
    {
      "cell_type": "code",
      "metadata": {
        "id": "VOoB9In7mtAu",
        "colab_type": "code",
        "outputId": "1a479deb-9cb3-4c5c-c2b2-d52bba928b5b",
        "colab": {
          "base_uri": "https://localhost:8080/",
          "height": 34
        }
      },
      "source": [
        "train_set, test_set = split_train_test(diabetic_num, 0.2)\n",
        "len(train_set)"
      ],
      "execution_count": 0,
      "outputs": [
        {
          "output_type": "execute_result",
          "data": {
            "text/plain": [
              "56353"
            ]
          },
          "metadata": {
            "tags": []
          },
          "execution_count": 81
        }
      ]
    },
    {
      "cell_type": "code",
      "metadata": {
        "id": "Mc22lAJimvFa",
        "colab_type": "code",
        "outputId": "06f3dd6a-ab15-43db-c201-4f57d373a4e4",
        "colab": {
          "base_uri": "https://localhost:8080/",
          "height": 34
        }
      },
      "source": [
        "train_set.shape"
      ],
      "execution_count": 0,
      "outputs": [
        {
          "output_type": "execute_result",
          "data": {
            "text/plain": [
              "(56353, 22)"
            ]
          },
          "metadata": {
            "tags": []
          },
          "execution_count": 82
        }
      ]
    },
    {
      "cell_type": "code",
      "metadata": {
        "id": "D27Jjs0bnCLk",
        "colab_type": "code",
        "colab": {}
      },
      "source": [
        "diabetic_train = train_set.drop(\"Cons_diag\", axis=1) # drop labels for training set\n",
        "diabetic_train = diabetic_train.drop(\"re_ad\", axis=1)\n",
        "dia_labels_diag = train_set[\"Cons_diag\"].copy()\n",
        "dia_labels_read = train_set[\"re_ad\"].copy()"
      ],
      "execution_count": 0,
      "outputs": []
    },
    {
      "cell_type": "code",
      "metadata": {
        "id": "AIP6m4QFnF81",
        "colab_type": "code",
        "colab": {}
      },
      "source": [
        "test_labels_diag = test_set[\"Cons_diag\"].copy()\n",
        "test_labels_read = test_set[\"re_ad\"].copy()\n",
        "diabetic_test = test_set.drop(\"Cons_diag\", axis=1) # drop labels for testing set\n",
        "diabetic_test = diabetic_test.drop(\"re_ad\", axis=1)"
      ],
      "execution_count": 0,
      "outputs": []
    },
    {
      "cell_type": "code",
      "metadata": {
        "id": "PvUWxE7inPCN",
        "colab_type": "code",
        "outputId": "8a2e7ae4-64c1-48f0-e4ce-f0ab140b0fde",
        "colab": {
          "base_uri": "https://localhost:8080/",
          "height": 34
        }
      },
      "source": [
        "diabetic_train.shape"
      ],
      "execution_count": 0,
      "outputs": [
        {
          "output_type": "execute_result",
          "data": {
            "text/plain": [
              "(56353, 20)"
            ]
          },
          "metadata": {
            "tags": []
          },
          "execution_count": 85
        }
      ]
    },
    {
      "cell_type": "code",
      "metadata": {
        "id": "3zl7nrYynTRX",
        "colab_type": "code",
        "outputId": "18390cd3-03c9-4c6b-dee7-6d82693d72bd",
        "colab": {
          "base_uri": "https://localhost:8080/",
          "height": 34
        }
      },
      "source": [
        "diabetic_test.shape"
      ],
      "execution_count": 0,
      "outputs": [
        {
          "output_type": "execute_result",
          "data": {
            "text/plain": [
              "(14088, 20)"
            ]
          },
          "metadata": {
            "tags": []
          },
          "execution_count": 86
        }
      ]
    },
    {
      "cell_type": "markdown",
      "metadata": {
        "id": "LcherHnUnwTB",
        "colab_type": "text"
      },
      "source": [
        "Scaling the data."
      ]
    },
    {
      "cell_type": "code",
      "metadata": {
        "id": "dFdshOarntVu",
        "colab_type": "code",
        "colab": {}
      },
      "source": [
        "dia_tr = num_pipeline.fit_transform(train_set)"
      ],
      "execution_count": 0,
      "outputs": []
    },
    {
      "cell_type": "code",
      "metadata": {
        "id": "NVTFGE6Jsh9L",
        "colab_type": "code",
        "colab": {}
      },
      "source": [
        "dia_te = num_pipeline.fit_transform(test_set)"
      ],
      "execution_count": 0,
      "outputs": []
    },
    {
      "cell_type": "markdown",
      "metadata": {
        "id": "m7AgXP322cjG",
        "colab_type": "text"
      },
      "source": [
        "Train a Random Forest classifier on the dataset "
      ]
    },
    {
      "cell_type": "code",
      "metadata": {
        "id": "NFORPUQk20lA",
        "colab_type": "code",
        "colab": {}
      },
      "source": [
        "from sklearn.ensemble import RandomForestClassifier\n",
        "\n",
        "rnd_clf = RandomForestClassifier(n_estimators=100, random_state=42)"
      ],
      "execution_count": 0,
      "outputs": []
    },
    {
      "cell_type": "code",
      "metadata": {
        "id": "gbnahp0LRLBh",
        "colab_type": "code",
        "outputId": "7a1d04bb-48c9-46cb-c462-53e72d56b9e8",
        "colab": {
          "base_uri": "https://localhost:8080/",
          "height": 34
        }
      },
      "source": [
        "import time\n",
        "t0 = time.time()\n",
        "rnd_clf.fit(dia_tr, dia_labels_diag)\n",
        "t1 = time.time()\n",
        "print(\"Training took {:.2f}s\".format(t1 - t0))"
      ],
      "execution_count": 0,
      "outputs": [
        {
          "output_type": "stream",
          "text": [
            "Training took 3.03s\n"
          ],
          "name": "stdout"
        }
      ]
    },
    {
      "cell_type": "markdown",
      "metadata": {
        "id": "OmtLQQJIrZLP",
        "colab_type": "text"
      },
      "source": [
        "Accuracy score for predicting diagnoses of diabetes."
      ]
    },
    {
      "cell_type": "code",
      "metadata": {
        "id": "Uo98TPNKRaza",
        "colab_type": "code",
        "outputId": "9cf2a813-230f-4754-a43f-f06446e0661d",
        "colab": {
          "base_uri": "https://localhost:8080/",
          "height": 34
        }
      },
      "source": [
        "from sklearn.metrics import accuracy_score\n",
        "dia_pred = rnd_clf.predict(dia_te)\n",
        "accuracy_score(test_labels_diag, dia_pred)"
      ],
      "execution_count": 0,
      "outputs": [
        {
          "output_type": "execute_result",
          "data": {
            "text/plain": [
              "1.0"
            ]
          },
          "metadata": {
            "tags": []
          },
          "execution_count": 91
        }
      ]
    },
    {
      "cell_type": "markdown",
      "metadata": {
        "id": "huwJGIIGpQnB",
        "colab_type": "text"
      },
      "source": [
        "Confusion Matrix, Precision and Recall for Prediction of Diagnoses for diabetes."
      ]
    },
    {
      "cell_type": "code",
      "metadata": {
        "id": "IygABqWLwdAi",
        "colab_type": "code",
        "outputId": "d81fbb3d-302d-4461-f7ef-456b727485d0",
        "colab": {
          "base_uri": "https://localhost:8080/",
          "height": 52
        }
      },
      "source": [
        "from sklearn.metrics import confusion_matrix\n",
        "confusion_matrix(test_labels_diag, dia_pred)"
      ],
      "execution_count": 0,
      "outputs": [
        {
          "output_type": "execute_result",
          "data": {
            "text/plain": [
              "array([[8597,    0],\n",
              "       [   0, 5491]])"
            ]
          },
          "metadata": {
            "tags": []
          },
          "execution_count": 92
        }
      ]
    },
    {
      "cell_type": "code",
      "metadata": {
        "id": "9UF4eu-Jo_Jb",
        "colab_type": "code",
        "outputId": "f45d0f89-67f4-4aab-e765-cfe119631a6a",
        "colab": {
          "base_uri": "https://localhost:8080/",
          "height": 34
        }
      },
      "source": [
        "from sklearn.metrics import precision_score, recall_score\n",
        "precision_score(test_labels_diag, dia_pred)"
      ],
      "execution_count": 0,
      "outputs": [
        {
          "output_type": "execute_result",
          "data": {
            "text/plain": [
              "1.0"
            ]
          },
          "metadata": {
            "tags": []
          },
          "execution_count": 93
        }
      ]
    },
    {
      "cell_type": "code",
      "metadata": {
        "id": "GHTs2UZMpPBT",
        "colab_type": "code",
        "outputId": "a02b3115-9294-47aa-faf0-24a5776222b7",
        "colab": {
          "base_uri": "https://localhost:8080/",
          "height": 34
        }
      },
      "source": [
        "recall_score(test_labels_diag, dia_pred)"
      ],
      "execution_count": 0,
      "outputs": [
        {
          "output_type": "execute_result",
          "data": {
            "text/plain": [
              "1.0"
            ]
          },
          "metadata": {
            "tags": []
          },
          "execution_count": 94
        }
      ]
    },
    {
      "cell_type": "markdown",
      "metadata": {
        "id": "RuebNyAXrfLJ",
        "colab_type": "text"
      },
      "source": [
        "Accuracy score for predicting re-admitted."
      ]
    },
    {
      "cell_type": "code",
      "metadata": {
        "id": "LMGywCXItq2E",
        "colab_type": "code",
        "outputId": "0614df48-11b2-4c5d-b689-08b991f4a18f",
        "colab": {
          "base_uri": "https://localhost:8080/",
          "height": 34
        }
      },
      "source": [
        "rnd_clf.fit(dia_tr, dia_labels_read)\n",
        "read_pred = rnd_clf.predict(dia_te)\n",
        "accuracy_score(test_labels_read, read_pred)"
      ],
      "execution_count": 0,
      "outputs": [
        {
          "output_type": "execute_result",
          "data": {
            "text/plain": [
              "1.0"
            ]
          },
          "metadata": {
            "tags": []
          },
          "execution_count": 95
        }
      ]
    },
    {
      "cell_type": "markdown",
      "metadata": {
        "id": "pTqt4Hnbqa4R",
        "colab_type": "text"
      },
      "source": [
        "Confusion Matrix, Precision and Recall for Prediction of re-admitted."
      ]
    },
    {
      "cell_type": "code",
      "metadata": {
        "id": "QPR1pngKPxn9",
        "colab_type": "code",
        "outputId": "32f485bf-ce60-43ef-d0f4-99da27ec035c",
        "colab": {
          "base_uri": "https://localhost:8080/",
          "height": 52
        }
      },
      "source": [
        "confusion_matrix(test_labels_read, read_pred)"
      ],
      "execution_count": 0,
      "outputs": [
        {
          "output_type": "execute_result",
          "data": {
            "text/plain": [
              "array([[12854,     0],\n",
              "       [    0,  1234]])"
            ]
          },
          "metadata": {
            "tags": []
          },
          "execution_count": 96
        }
      ]
    },
    {
      "cell_type": "code",
      "metadata": {
        "id": "DmitIE6AqgX_",
        "colab_type": "code",
        "outputId": "3c85f4d0-10bc-407b-fc04-5cedb0530210",
        "colab": {
          "base_uri": "https://localhost:8080/",
          "height": 34
        }
      },
      "source": [
        "precision_score(test_labels_read, read_pred)"
      ],
      "execution_count": 0,
      "outputs": [
        {
          "output_type": "execute_result",
          "data": {
            "text/plain": [
              "1.0"
            ]
          },
          "metadata": {
            "tags": []
          },
          "execution_count": 97
        }
      ]
    },
    {
      "cell_type": "code",
      "metadata": {
        "id": "ynRXeS4ZqqUo",
        "colab_type": "code",
        "outputId": "6e9a9d35-d1b0-4dc0-bd77-b1ef29af55fe",
        "colab": {
          "base_uri": "https://localhost:8080/",
          "height": 34
        }
      },
      "source": [
        "recall_score(test_labels_read, read_pred)"
      ],
      "execution_count": 0,
      "outputs": [
        {
          "output_type": "execute_result",
          "data": {
            "text/plain": [
              "1.0"
            ]
          },
          "metadata": {
            "tags": []
          },
          "execution_count": 98
        }
      ]
    },
    {
      "cell_type": "markdown",
      "metadata": {
        "id": "HZMC5ZtDtUWL",
        "colab_type": "text"
      },
      "source": [
        "Let's try using k-cross validation."
      ]
    },
    {
      "cell_type": "code",
      "metadata": {
        "id": "khmDQSmttfK4",
        "colab_type": "code",
        "outputId": "96becfef-4614-4332-c8ee-bb25bfc3ea4a",
        "colab": {
          "base_uri": "https://localhost:8080/",
          "height": 34
        }
      },
      "source": [
        "from sklearn.model_selection import cross_val_score\n",
        "cross_val_score(rnd_clf, dia_tr, dia_labels_diag, cv=5, scoring=\"accuracy\")"
      ],
      "execution_count": 0,
      "outputs": [
        {
          "output_type": "execute_result",
          "data": {
            "text/plain": [
              "array([1., 1., 1., 1., 1.])"
            ]
          },
          "metadata": {
            "tags": []
          },
          "execution_count": 99
        }
      ]
    },
    {
      "cell_type": "code",
      "metadata": {
        "id": "fZr2f_wyuS7A",
        "colab_type": "code",
        "outputId": "4dc5c113-aded-47b5-b6ca-61ab342fe7fb",
        "colab": {
          "base_uri": "https://localhost:8080/",
          "height": 34
        }
      },
      "source": [
        "cross_val_score(rnd_clf, dia_tr, dia_labels_read, cv=5, scoring=\"accuracy\")"
      ],
      "execution_count": 0,
      "outputs": [
        {
          "output_type": "execute_result",
          "data": {
            "text/plain": [
              "array([1., 1., 1., 1., 1.])"
            ]
          },
          "metadata": {
            "tags": []
          },
          "execution_count": 100
        }
      ]
    },
    {
      "cell_type": "markdown",
      "metadata": {
        "id": "oa4zRiaTqzNO",
        "colab_type": "text"
      },
      "source": [
        "# SVM Model"
      ]
    },
    {
      "cell_type": "markdown",
      "metadata": {
        "id": "MEZXtrCXuRb_",
        "colab_type": "text"
      },
      "source": [
        "# Linear Kernel"
      ]
    },
    {
      "cell_type": "code",
      "metadata": {
        "id": "v4P6tdLLq29_",
        "colab_type": "code",
        "outputId": "8d032c4d-a356-4e88-afda-f8f5a5d54c6c",
        "colab": {
          "base_uri": "https://localhost:8080/",
          "height": 156
        }
      },
      "source": [
        "from sklearn.svm import SVC\n",
        "from sklearn.svm import LinearSVC\n",
        "svm_clf = Pipeline([(\"linear_svc\", LinearSVC(C=1, loss=\"hinge\", random_state=42)),])\n",
        "svm_clf.fit(dia_tr, dia_labels_diag)\n"
      ],
      "execution_count": 0,
      "outputs": [
        {
          "output_type": "execute_result",
          "data": {
            "text/plain": [
              "Pipeline(memory=None,\n",
              "         steps=[('linear_svc',\n",
              "                 LinearSVC(C=1, class_weight=None, dual=True,\n",
              "                           fit_intercept=True, intercept_scaling=1,\n",
              "                           loss='hinge', max_iter=1000, multi_class='ovr',\n",
              "                           penalty='l2', random_state=42, tol=0.0001,\n",
              "                           verbose=0))],\n",
              "         verbose=False)"
            ]
          },
          "metadata": {
            "tags": []
          },
          "execution_count": 101
        }
      ]
    },
    {
      "cell_type": "code",
      "metadata": {
        "id": "cAO2n8Qctsr4",
        "colab_type": "code",
        "colab": {}
      },
      "source": [
        "svm_dia_pred = svm_clf.predict(dia_te)"
      ],
      "execution_count": 0,
      "outputs": []
    },
    {
      "cell_type": "code",
      "metadata": {
        "id": "_oN8vX9Nt2WD",
        "colab_type": "code",
        "outputId": "7b834afd-c67e-4605-8fea-7b99bb48585f",
        "colab": {
          "base_uri": "https://localhost:8080/",
          "height": 34
        }
      },
      "source": [
        "accuracy_score(test_labels_diag, svm_dia_pred)"
      ],
      "execution_count": 0,
      "outputs": [
        {
          "output_type": "execute_result",
          "data": {
            "text/plain": [
              "1.0"
            ]
          },
          "metadata": {
            "tags": []
          },
          "execution_count": 103
        }
      ]
    },
    {
      "cell_type": "code",
      "metadata": {
        "id": "57lS8DQy0PME",
        "colab_type": "code",
        "outputId": "d5fdf670-1f18-4497-fc1f-a465dd496354",
        "colab": {
          "base_uri": "https://localhost:8080/",
          "height": 34
        }
      },
      "source": [
        "cross_val_score(svm_clf, dia_tr, dia_labels_diag, cv=5, scoring=\"accuracy\")"
      ],
      "execution_count": 0,
      "outputs": [
        {
          "output_type": "execute_result",
          "data": {
            "text/plain": [
              "array([1., 1., 1., 1., 1.])"
            ]
          },
          "metadata": {
            "tags": []
          },
          "execution_count": 104
        }
      ]
    },
    {
      "cell_type": "markdown",
      "metadata": {
        "id": "L_YTILdvuIA0",
        "colab_type": "text"
      },
      "source": [
        "Confusion Matrix, Precision and Recall for Prediction of Diagnoses for diabetes."
      ]
    },
    {
      "cell_type": "code",
      "metadata": {
        "id": "UTq981WMuI5T",
        "colab_type": "code",
        "outputId": "329e5aa8-ce8a-426d-8997-11e91a2f607b",
        "colab": {
          "base_uri": "https://localhost:8080/",
          "height": 52
        }
      },
      "source": [
        "confusion_matrix(test_labels_diag, svm_dia_pred)"
      ],
      "execution_count": 0,
      "outputs": [
        {
          "output_type": "execute_result",
          "data": {
            "text/plain": [
              "array([[8597,    0],\n",
              "       [   0, 5491]])"
            ]
          },
          "metadata": {
            "tags": []
          },
          "execution_count": 105
        }
      ]
    },
    {
      "cell_type": "code",
      "metadata": {
        "id": "pXdkLlX_uPue",
        "colab_type": "code",
        "outputId": "b0afb042-7508-4570-8d1d-ec496f8495b7",
        "colab": {
          "base_uri": "https://localhost:8080/",
          "height": 34
        }
      },
      "source": [
        "precision_score(test_labels_diag, svm_dia_pred)"
      ],
      "execution_count": 0,
      "outputs": [
        {
          "output_type": "execute_result",
          "data": {
            "text/plain": [
              "1.0"
            ]
          },
          "metadata": {
            "tags": []
          },
          "execution_count": 106
        }
      ]
    },
    {
      "cell_type": "code",
      "metadata": {
        "id": "Lwz4ExhauXYw",
        "colab_type": "code",
        "outputId": "958760ab-db6b-4af4-9c08-493c05383517",
        "colab": {
          "base_uri": "https://localhost:8080/",
          "height": 34
        }
      },
      "source": [
        "recall_score(test_labels_diag, svm_dia_pred)"
      ],
      "execution_count": 0,
      "outputs": [
        {
          "output_type": "execute_result",
          "data": {
            "text/plain": [
              "1.0"
            ]
          },
          "metadata": {
            "tags": []
          },
          "execution_count": 107
        }
      ]
    },
    {
      "cell_type": "code",
      "metadata": {
        "id": "dZ6e1sh9ulfJ",
        "colab_type": "code",
        "colab": {}
      },
      "source": [
        "svm_clf.fit(dia_tr, dia_labels_read)\n",
        "svm_read_pred = svm_clf.predict(dia_te)"
      ],
      "execution_count": 0,
      "outputs": []
    },
    {
      "cell_type": "code",
      "metadata": {
        "id": "FxbbDESEuw-m",
        "colab_type": "code",
        "outputId": "ab53527d-433e-4b7a-8047-fb0600570964",
        "colab": {
          "base_uri": "https://localhost:8080/",
          "height": 34
        }
      },
      "source": [
        "accuracy_score(test_labels_read, svm_read_pred)"
      ],
      "execution_count": 0,
      "outputs": [
        {
          "output_type": "execute_result",
          "data": {
            "text/plain": [
              "1.0"
            ]
          },
          "metadata": {
            "tags": []
          },
          "execution_count": 109
        }
      ]
    },
    {
      "cell_type": "code",
      "metadata": {
        "id": "WRwpa8SI0YXA",
        "colab_type": "code",
        "outputId": "2acd5895-2cb8-4b8b-dcc0-5ec503df0f76",
        "colab": {
          "base_uri": "https://localhost:8080/",
          "height": 34
        }
      },
      "source": [
        "cross_val_score(svm_clf, dia_tr, dia_labels_read, cv=5, scoring=\"accuracy\")"
      ],
      "execution_count": 0,
      "outputs": [
        {
          "output_type": "execute_result",
          "data": {
            "text/plain": [
              "array([1., 1., 1., 1., 1.])"
            ]
          },
          "metadata": {
            "tags": []
          },
          "execution_count": 110
        }
      ]
    },
    {
      "cell_type": "markdown",
      "metadata": {
        "id": "XhjTdbQHvPVj",
        "colab_type": "text"
      },
      "source": [
        "Confusion Matrix, Precision and Recall for Prediction of re-admitted."
      ]
    },
    {
      "cell_type": "code",
      "metadata": {
        "id": "QqvOn63O13Q8",
        "colab_type": "code",
        "outputId": "6522896b-c3df-44dc-a3b5-60e782588f3b",
        "colab": {
          "base_uri": "https://localhost:8080/",
          "height": 52
        }
      },
      "source": [
        "confusion_matrix(test_labels_read, svm_read_pred)"
      ],
      "execution_count": 0,
      "outputs": [
        {
          "output_type": "execute_result",
          "data": {
            "text/plain": [
              "array([[12854,     0],\n",
              "       [    0,  1234]])"
            ]
          },
          "metadata": {
            "tags": []
          },
          "execution_count": 111
        }
      ]
    },
    {
      "cell_type": "code",
      "metadata": {
        "id": "iakrM6p6u6AP",
        "colab_type": "code",
        "outputId": "89a7c57c-2505-45c7-fbc7-6aa4885bf3ef",
        "colab": {
          "base_uri": "https://localhost:8080/",
          "height": 34
        }
      },
      "source": [
        "precision_score(test_labels_read, svm_read_pred)"
      ],
      "execution_count": 0,
      "outputs": [
        {
          "output_type": "execute_result",
          "data": {
            "text/plain": [
              "1.0"
            ]
          },
          "metadata": {
            "tags": []
          },
          "execution_count": 112
        }
      ]
    },
    {
      "cell_type": "code",
      "metadata": {
        "id": "HXfSobU6u9CN",
        "colab_type": "code",
        "outputId": "78004e1b-a999-483a-a3f7-49423c2696ef",
        "colab": {
          "base_uri": "https://localhost:8080/",
          "height": 34
        }
      },
      "source": [
        "recall_score(test_labels_read, svm_read_pred)"
      ],
      "execution_count": 0,
      "outputs": [
        {
          "output_type": "execute_result",
          "data": {
            "text/plain": [
              "1.0"
            ]
          },
          "metadata": {
            "tags": []
          },
          "execution_count": 113
        }
      ]
    },
    {
      "cell_type": "markdown",
      "metadata": {
        "id": "OQSrfrSzykIb",
        "colab_type": "text"
      },
      "source": [
        "Let's using SGDClassifier."
      ]
    },
    {
      "cell_type": "code",
      "metadata": {
        "id": "A1__j6eFyocL",
        "colab_type": "code",
        "outputId": "f72aaeb0-4779-43d1-a2c3-5e0a2407eb88",
        "colab": {
          "base_uri": "https://localhost:8080/",
          "height": 121
        }
      },
      "source": [
        "from sklearn.linear_model import SGDClassifier\n",
        "\n",
        "sgd_clf = SGDClassifier(max_iter=1000, tol=1e-3, random_state=42)\n",
        "sgd_clf.fit(dia_tr, dia_labels_diag)\n"
      ],
      "execution_count": 0,
      "outputs": [
        {
          "output_type": "execute_result",
          "data": {
            "text/plain": [
              "SGDClassifier(alpha=0.0001, average=False, class_weight=None,\n",
              "              early_stopping=False, epsilon=0.1, eta0=0.0, fit_intercept=True,\n",
              "              l1_ratio=0.15, learning_rate='optimal', loss='hinge',\n",
              "              max_iter=1000, n_iter_no_change=5, n_jobs=None, penalty='l2',\n",
              "              power_t=0.5, random_state=42, shuffle=True, tol=0.001,\n",
              "              validation_fraction=0.1, verbose=0, warm_start=False)"
            ]
          },
          "metadata": {
            "tags": []
          },
          "execution_count": 114
        }
      ]
    },
    {
      "cell_type": "code",
      "metadata": {
        "id": "8bMzaQON1p-k",
        "colab_type": "code",
        "colab": {}
      },
      "source": [
        "sgd_dia_pred =sgd_clf.predict(dia_te)"
      ],
      "execution_count": 0,
      "outputs": []
    },
    {
      "cell_type": "code",
      "metadata": {
        "id": "c5b8PAgV1uDy",
        "colab_type": "code",
        "outputId": "7d1288a9-ed88-4821-8fc3-89e1d8c65320",
        "colab": {
          "base_uri": "https://localhost:8080/",
          "height": 34
        }
      },
      "source": [
        "accuracy_score(test_labels_diag, sgd_dia_pred)"
      ],
      "execution_count": 0,
      "outputs": [
        {
          "output_type": "execute_result",
          "data": {
            "text/plain": [
              "0.9999290176036343"
            ]
          },
          "metadata": {
            "tags": []
          },
          "execution_count": 116
        }
      ]
    },
    {
      "cell_type": "code",
      "metadata": {
        "id": "JH1ay_VbjLbT",
        "colab_type": "code",
        "outputId": "9ec29e2c-6f59-44f0-bd8e-64c25f33d2b7",
        "colab": {
          "base_uri": "https://localhost:8080/",
          "height": 34
        }
      },
      "source": [
        "cross_val_score(sgd_clf, dia_tr, dia_labels_diag, cv=5, scoring=\"accuracy\")"
      ],
      "execution_count": 0,
      "outputs": [
        {
          "output_type": "execute_result",
          "data": {
            "text/plain": [
              "array([1.        , 1.        , 0.99813681, 1.        , 1.        ])"
            ]
          },
          "metadata": {
            "tags": []
          },
          "execution_count": 117
        }
      ]
    },
    {
      "cell_type": "code",
      "metadata": {
        "id": "ioCVt_c71-s7",
        "colab_type": "code",
        "outputId": "5f94bb84-79c5-4310-b5cb-4623214e9c5b",
        "colab": {
          "base_uri": "https://localhost:8080/",
          "height": 52
        }
      },
      "source": [
        "confusion_matrix(test_labels_diag, sgd_dia_pred)"
      ],
      "execution_count": 0,
      "outputs": [
        {
          "output_type": "execute_result",
          "data": {
            "text/plain": [
              "array([[8596,    1],\n",
              "       [   0, 5491]])"
            ]
          },
          "metadata": {
            "tags": []
          },
          "execution_count": 118
        }
      ]
    },
    {
      "cell_type": "code",
      "metadata": {
        "id": "wEnrI9R_2A5f",
        "colab_type": "code",
        "outputId": "22ac2944-236f-4943-ad86-fea67b9b839c",
        "colab": {
          "base_uri": "https://localhost:8080/",
          "height": 34
        }
      },
      "source": [
        "precision_score(test_labels_diag, sgd_dia_pred)"
      ],
      "execution_count": 0,
      "outputs": [
        {
          "output_type": "execute_result",
          "data": {
            "text/plain": [
              "0.9998179169701383"
            ]
          },
          "metadata": {
            "tags": []
          },
          "execution_count": 119
        }
      ]
    },
    {
      "cell_type": "code",
      "metadata": {
        "id": "BZg9N6Ry2EVk",
        "colab_type": "code",
        "outputId": "e634e4b9-de60-4435-8a29-fc77be2811ea",
        "colab": {
          "base_uri": "https://localhost:8080/",
          "height": 34
        }
      },
      "source": [
        "recall_score(test_labels_diag, sgd_dia_pred)"
      ],
      "execution_count": 0,
      "outputs": [
        {
          "output_type": "execute_result",
          "data": {
            "text/plain": [
              "1.0"
            ]
          },
          "metadata": {
            "tags": []
          },
          "execution_count": 120
        }
      ]
    },
    {
      "cell_type": "code",
      "metadata": {
        "id": "Vafydie-2HZ2",
        "colab_type": "code",
        "colab": {}
      },
      "source": [
        "sgd_clf.fit(dia_tr, dia_labels_read)\n",
        "sgd_read_pred =sgd_clf.predict(dia_te)"
      ],
      "execution_count": 0,
      "outputs": []
    },
    {
      "cell_type": "code",
      "metadata": {
        "id": "SRCnhedT2RW1",
        "colab_type": "code",
        "outputId": "56020816-da72-4d42-a582-679a27fb81f0",
        "colab": {
          "base_uri": "https://localhost:8080/",
          "height": 34
        }
      },
      "source": [
        "accuracy_score(test_labels_read, sgd_read_pred)"
      ],
      "execution_count": 0,
      "outputs": [
        {
          "output_type": "execute_result",
          "data": {
            "text/plain": [
              "1.0"
            ]
          },
          "metadata": {
            "tags": []
          },
          "execution_count": 122
        }
      ]
    },
    {
      "cell_type": "code",
      "metadata": {
        "id": "zJBgZouVjWE1",
        "colab_type": "code",
        "outputId": "1d2077f6-e18b-41fd-c61e-42a46635bcc7",
        "colab": {
          "base_uri": "https://localhost:8080/",
          "height": 34
        }
      },
      "source": [
        "cross_val_score(sgd_clf, dia_tr, dia_labels_read, cv=5, scoring=\"accuracy\")"
      ],
      "execution_count": 0,
      "outputs": [
        {
          "output_type": "execute_result",
          "data": {
            "text/plain": [
              "array([1., 1., 1., 1., 1.])"
            ]
          },
          "metadata": {
            "tags": []
          },
          "execution_count": 123
        }
      ]
    },
    {
      "cell_type": "code",
      "metadata": {
        "id": "H3VeDsPG2Wwt",
        "colab_type": "code",
        "outputId": "c5c94f79-7bdb-4049-d7fa-c9ffd684ff62",
        "colab": {
          "base_uri": "https://localhost:8080/",
          "height": 52
        }
      },
      "source": [
        "confusion_matrix(test_labels_read, sgd_read_pred)"
      ],
      "execution_count": 0,
      "outputs": [
        {
          "output_type": "execute_result",
          "data": {
            "text/plain": [
              "array([[12854,     0],\n",
              "       [    0,  1234]])"
            ]
          },
          "metadata": {
            "tags": []
          },
          "execution_count": 124
        }
      ]
    },
    {
      "cell_type": "code",
      "metadata": {
        "id": "VrBsCgQI2Z9y",
        "colab_type": "code",
        "outputId": "df26885a-1215-4abf-ad0f-7a26e01ac8d2",
        "colab": {
          "base_uri": "https://localhost:8080/",
          "height": 34
        }
      },
      "source": [
        "precision_score(test_labels_read, sgd_read_pred)"
      ],
      "execution_count": 0,
      "outputs": [
        {
          "output_type": "execute_result",
          "data": {
            "text/plain": [
              "1.0"
            ]
          },
          "metadata": {
            "tags": []
          },
          "execution_count": 125
        }
      ]
    },
    {
      "cell_type": "code",
      "metadata": {
        "id": "YfX6WMfw2c--",
        "colab_type": "code",
        "outputId": "9c69d690-1293-4794-9706-424e12b9bce5",
        "colab": {
          "base_uri": "https://localhost:8080/",
          "height": 34
        }
      },
      "source": [
        "recall_score(test_labels_read, sgd_read_pred)"
      ],
      "execution_count": 0,
      "outputs": [
        {
          "output_type": "execute_result",
          "data": {
            "text/plain": [
              "1.0"
            ]
          },
          "metadata": {
            "tags": []
          },
          "execution_count": 126
        }
      ]
    },
    {
      "cell_type": "markdown",
      "metadata": {
        "id": "WskpR1MrvHTN",
        "colab_type": "text"
      },
      "source": [
        "# Non-linear Kernel"
      ]
    },
    {
      "cell_type": "code",
      "metadata": {
        "id": "pe0UpLIjvKyi",
        "colab_type": "code",
        "colab": {}
      },
      "source": [
        "from sklearn.preprocessing import PolynomialFeatures\n",
        "polynomial_svm_clf = Pipeline([\n",
        "        (\"poly_features\", PolynomialFeatures(degree=3)),\n",
        "        (\"svm_clf\", LinearSVC(C=10, loss=\"hinge\", random_state=42))\n",
        "    ])"
      ],
      "execution_count": 0,
      "outputs": []
    },
    {
      "cell_type": "code",
      "metadata": {
        "id": "gs5krxzyvepw",
        "colab_type": "code",
        "outputId": "3e3d9aca-ca19-445b-833f-c330aedee7db",
        "colab": {
          "base_uri": "https://localhost:8080/",
          "height": 208
        }
      },
      "source": [
        "polynomial_svm_clf.fit(dia_tr, dia_labels_diag)"
      ],
      "execution_count": 0,
      "outputs": [
        {
          "output_type": "execute_result",
          "data": {
            "text/plain": [
              "Pipeline(memory=None,\n",
              "         steps=[('poly_features',\n",
              "                 PolynomialFeatures(degree=3, include_bias=True,\n",
              "                                    interaction_only=False, order='C')),\n",
              "                ('svm_clf',\n",
              "                 LinearSVC(C=10, class_weight=None, dual=True,\n",
              "                           fit_intercept=True, intercept_scaling=1,\n",
              "                           loss='hinge', max_iter=1000, multi_class='ovr',\n",
              "                           penalty='l2', random_state=42, tol=0.0001,\n",
              "                           verbose=0))],\n",
              "         verbose=False)"
            ]
          },
          "metadata": {
            "tags": []
          },
          "execution_count": 128
        }
      ]
    },
    {
      "cell_type": "code",
      "metadata": {
        "id": "0ygXxi8vvpS2",
        "colab_type": "code",
        "colab": {}
      },
      "source": [
        "svm_poly_dia_pred = polynomial_svm_clf.predict(dia_te)"
      ],
      "execution_count": 0,
      "outputs": []
    },
    {
      "cell_type": "code",
      "metadata": {
        "id": "XUAA3-e4vy3V",
        "colab_type": "code",
        "outputId": "33a150c1-736f-49d0-d15f-9c9592114b3b",
        "colab": {
          "base_uri": "https://localhost:8080/",
          "height": 34
        }
      },
      "source": [
        "accuracy_score(test_labels_diag, svm_poly_dia_pred)"
      ],
      "execution_count": 0,
      "outputs": [
        {
          "output_type": "execute_result",
          "data": {
            "text/plain": [
              "1.0"
            ]
          },
          "metadata": {
            "tags": []
          },
          "execution_count": 130
        }
      ]
    },
    {
      "cell_type": "code",
      "metadata": {
        "id": "77tfzNNfyF5T",
        "colab_type": "code",
        "outputId": "94a8a88b-68a4-4fa5-f22c-c84c7a4a0045",
        "colab": {
          "base_uri": "https://localhost:8080/",
          "height": 34
        }
      },
      "source": [
        "cross_val_score(polynomial_svm_clf, dia_tr, dia_labels_diag, cv=3, scoring=\"accuracy\")"
      ],
      "execution_count": 0,
      "outputs": [
        {
          "output_type": "execute_result",
          "data": {
            "text/plain": [
              "array([0.99994677, 0.99989353, 0.99994676])"
            ]
          },
          "metadata": {
            "tags": []
          },
          "execution_count": 131
        }
      ]
    },
    {
      "cell_type": "markdown",
      "metadata": {
        "id": "s64P1Httv5aM",
        "colab_type": "text"
      },
      "source": [
        "Confusion Matrix, Precision and Recall for Prediction of Diagnoses for diabetes."
      ]
    },
    {
      "cell_type": "code",
      "metadata": {
        "id": "CFKKeCLUv2Bh",
        "colab_type": "code",
        "outputId": "b04a5cea-4ede-419a-e397-4b53abb90cf4",
        "colab": {
          "base_uri": "https://localhost:8080/",
          "height": 52
        }
      },
      "source": [
        "confusion_matrix(test_labels_diag, svm_poly_dia_pred)"
      ],
      "execution_count": 0,
      "outputs": [
        {
          "output_type": "execute_result",
          "data": {
            "text/plain": [
              "array([[8597,    0],\n",
              "       [   0, 5491]])"
            ]
          },
          "metadata": {
            "tags": []
          },
          "execution_count": 132
        }
      ]
    },
    {
      "cell_type": "code",
      "metadata": {
        "id": "dgZ64vq4v_uL",
        "colab_type": "code",
        "outputId": "452a80d0-f7a6-4d7f-bcdb-3516a44cf20c",
        "colab": {
          "base_uri": "https://localhost:8080/",
          "height": 34
        }
      },
      "source": [
        "precision_score(test_labels_diag, svm_poly_dia_pred)"
      ],
      "execution_count": 0,
      "outputs": [
        {
          "output_type": "execute_result",
          "data": {
            "text/plain": [
              "1.0"
            ]
          },
          "metadata": {
            "tags": []
          },
          "execution_count": 133
        }
      ]
    },
    {
      "cell_type": "code",
      "metadata": {
        "id": "PAGAUeIwwE41",
        "colab_type": "code",
        "outputId": "35e42714-803d-484a-bec1-c96abd0a108e",
        "colab": {
          "base_uri": "https://localhost:8080/",
          "height": 34
        }
      },
      "source": [
        "recall_score(test_labels_diag, svm_poly_dia_pred)"
      ],
      "execution_count": 0,
      "outputs": [
        {
          "output_type": "execute_result",
          "data": {
            "text/plain": [
              "1.0"
            ]
          },
          "metadata": {
            "tags": []
          },
          "execution_count": 134
        }
      ]
    },
    {
      "cell_type": "code",
      "metadata": {
        "id": "CtdOstlnwODP",
        "colab_type": "code",
        "outputId": "11c6e504-8291-4a41-c625-86f4f336b421",
        "colab": {
          "base_uri": "https://localhost:8080/",
          "height": 208
        }
      },
      "source": [
        "polynomial_svm_clf.fit(dia_tr, dia_labels_read)"
      ],
      "execution_count": 0,
      "outputs": [
        {
          "output_type": "execute_result",
          "data": {
            "text/plain": [
              "Pipeline(memory=None,\n",
              "         steps=[('poly_features',\n",
              "                 PolynomialFeatures(degree=3, include_bias=True,\n",
              "                                    interaction_only=False, order='C')),\n",
              "                ('svm_clf',\n",
              "                 LinearSVC(C=10, class_weight=None, dual=True,\n",
              "                           fit_intercept=True, intercept_scaling=1,\n",
              "                           loss='hinge', max_iter=1000, multi_class='ovr',\n",
              "                           penalty='l2', random_state=42, tol=0.0001,\n",
              "                           verbose=0))],\n",
              "         verbose=False)"
            ]
          },
          "metadata": {
            "tags": []
          },
          "execution_count": 135
        }
      ]
    },
    {
      "cell_type": "code",
      "metadata": {
        "id": "wRaqWR_dwS-7",
        "colab_type": "code",
        "colab": {}
      },
      "source": [
        "svm_poly_read_pred = polynomial_svm_clf.predict(dia_te)"
      ],
      "execution_count": 0,
      "outputs": []
    },
    {
      "cell_type": "code",
      "metadata": {
        "id": "y1QSMvBMwVhM",
        "colab_type": "code",
        "outputId": "fcd46716-6e12-4dfe-dffa-237a3c13f6fa",
        "colab": {
          "base_uri": "https://localhost:8080/",
          "height": 34
        }
      },
      "source": [
        "accuracy_score(test_labels_read, svm_poly_read_pred)"
      ],
      "execution_count": 0,
      "outputs": [
        {
          "output_type": "execute_result",
          "data": {
            "text/plain": [
              "0.9999290176036343"
            ]
          },
          "metadata": {
            "tags": []
          },
          "execution_count": 137
        }
      ]
    },
    {
      "cell_type": "code",
      "metadata": {
        "id": "uY4CQXUVycee",
        "colab_type": "code",
        "outputId": "6af13cdc-2f0e-4ab6-a8ca-e4acf17f8d5a",
        "colab": {
          "base_uri": "https://localhost:8080/",
          "height": 34
        }
      },
      "source": [
        "cross_val_score(polynomial_svm_clf, dia_tr, dia_labels_read, cv=3, scoring=\"accuracy\")"
      ],
      "execution_count": 0,
      "outputs": [
        {
          "output_type": "execute_result",
          "data": {
            "text/plain": [
              "array([0.99962736, 1.        , 0.99989353])"
            ]
          },
          "metadata": {
            "tags": []
          },
          "execution_count": 138
        }
      ]
    },
    {
      "cell_type": "markdown",
      "metadata": {
        "id": "8R7Ho67JwIyG",
        "colab_type": "text"
      },
      "source": [
        "Confusion Matrix, Precision and Recall for Prediction of re-admitted."
      ]
    },
    {
      "cell_type": "code",
      "metadata": {
        "id": "KuUeMsXRw6H2",
        "colab_type": "code",
        "outputId": "9ce3875d-43f2-4226-8fb3-c7c11323ce45",
        "colab": {
          "base_uri": "https://localhost:8080/",
          "height": 52
        }
      },
      "source": [
        "confusion_matrix(test_labels_read, svm_poly_read_pred)"
      ],
      "execution_count": 0,
      "outputs": [
        {
          "output_type": "execute_result",
          "data": {
            "text/plain": [
              "array([[12854,     0],\n",
              "       [    1,  1233]])"
            ]
          },
          "metadata": {
            "tags": []
          },
          "execution_count": 139
        }
      ]
    },
    {
      "cell_type": "code",
      "metadata": {
        "id": "d9CvCmK-w8-W",
        "colab_type": "code",
        "outputId": "cf53be2c-1697-453d-d27f-1f66058a3cc9",
        "colab": {
          "base_uri": "https://localhost:8080/",
          "height": 34
        }
      },
      "source": [
        "precision_score(test_labels_read, svm_poly_read_pred)"
      ],
      "execution_count": 0,
      "outputs": [
        {
          "output_type": "execute_result",
          "data": {
            "text/plain": [
              "1.0"
            ]
          },
          "metadata": {
            "tags": []
          },
          "execution_count": 140
        }
      ]
    },
    {
      "cell_type": "code",
      "metadata": {
        "id": "WAA5DFDuxDYJ",
        "colab_type": "code",
        "outputId": "65ac32ea-ed92-4d09-9b12-5101dd1026e8",
        "colab": {
          "base_uri": "https://localhost:8080/",
          "height": 34
        }
      },
      "source": [
        "recall_score(test_labels_read, svm_poly_read_pred)"
      ],
      "execution_count": 0,
      "outputs": [
        {
          "output_type": "execute_result",
          "data": {
            "text/plain": [
              "0.9991896272285251"
            ]
          },
          "metadata": {
            "tags": []
          },
          "execution_count": 141
        }
      ]
    },
    {
      "cell_type": "markdown",
      "metadata": {
        "id": "mCeF8xorFvWY",
        "colab_type": "text"
      },
      "source": [
        "# **Comparison Bar Charts**"
      ]
    },
    {
      "cell_type": "markdown",
      "metadata": {
        "id": "CsnFqrlrI0mI",
        "colab_type": "text"
      },
      "source": [
        "Below four figures describes the Accuracy, Precision, Recall and Cross Validation Score for Prediction of **Diagnoses for diabetes**.\n",
        "\n",
        "**Figure 1** describes the Accuracy for Prediction of Diagnoses for diabetes. It shows that Random Forest, SVM with linear Kernel or nonlinear Kernel and SGD classifiers \n",
        "predict similar accuracy results in this case."
      ]
    },
    {
      "cell_type": "code",
      "metadata": {
        "id": "eO4fz8ndJOQj",
        "colab_type": "code",
        "outputId": "6e9cb1ca-11de-4521-c70c-25ca2fe4f171",
        "colab": {
          "base_uri": "https://localhost:8080/",
          "height": 288
        }
      },
      "source": [
        "names = ['RF', 'LinearSVM', 'NonLinearSVM',\"SGD\"]\n",
        "values = [accuracy_score(test_labels_diag, dia_pred),\n",
        "          accuracy_score(test_labels_diag, svm_dia_pred),\n",
        "          accuracy_score(test_labels_diag, svm_poly_dia_pred),\n",
        "          accuracy_score(test_labels_diag, sgd_dia_pred)\n",
        "          ]\n",
        "plt.bar(names, values)\n",
        "#plt.bar(\"Methods\", \"Stat\", data = accuracy_score, color = \"blue\")\n",
        "#plt.xlabel(\"RF\", \"SVM\" ,\"SGD\")\n",
        "plt.ylabel(\"Accuracy\")\n",
        "plt.title(\"Diagnosis Accuracy Chart\", color = \"blue\", fontsize = \"xx-large\")\n",
        "plt.show()"
      ],
      "execution_count": 0,
      "outputs": [
        {
          "output_type": "display_data",
          "data": {
            "image/png": "[encoded data removed]",
            "text/plain": [
              "<Figure size 432x288 with 1 Axes>"
            ]
          },
          "metadata": {
            "tags": []
          }
        }
      ]
    },
    {
      "cell_type": "markdown",
      "metadata": {
        "id": "zJogXXXjKpub",
        "colab_type": "text"
      },
      "source": [
        "**The Figure 2**, describes the ***Precision*** for Prediction of Diagnoses for diabetes"
      ]
    },
    {
      "cell_type": "code",
      "metadata": {
        "id": "zxRefL3nLPmq",
        "colab_type": "code",
        "outputId": "e60c66dd-ee1f-4af5-c880-70bb49ab978d",
        "colab": {
          "base_uri": "https://localhost:8080/",
          "height": 288
        }
      },
      "source": [
        "names = ['RF', 'LinearSVM', 'NonLinearSVM',\"SGD\"]\n",
        "values = [precision_score(test_labels_diag, dia_pred),\n",
        "          precision_score(test_labels_diag, svm_dia_pred),\n",
        "          precision_score(test_labels_diag, svm_poly_dia_pred),\n",
        "          precision_score(test_labels_diag, sgd_dia_pred)\n",
        "          ]\n",
        "plt.bar(names, values)\n",
        "#plt.bar(\"Methods\", \"Stat\", data = accuracy_score, color = \"blue\")\n",
        "#plt.xlabel(\"RF\", \"SVM\" ,\"SGD\")\n",
        "plt.ylabel(\"Precision\")\n",
        "plt.title(\"Diagnosis Precision Chart\", color = \"blue\", fontsize = \"xx-large\")\n",
        "plt.show()"
      ],
      "execution_count": 0,
      "outputs": [
        {
          "output_type": "display_data",
          "data": {
            "image/png": "[encoded data removed]",
            "text/plain": [
              "<Figure size 432x288 with 1 Axes>"
            ]
          },
          "metadata": {
            "tags": []
          }
        }
      ]
    },
    {
      "cell_type": "markdown",
      "metadata": {
        "id": "gxIXB2hDMQZg",
        "colab_type": "text"
      },
      "source": [
        "**The Figure 3**, describes the ***Recall*** for Prediction of Diagnoses for diabetes"
      ]
    },
    {
      "cell_type": "code",
      "metadata": {
        "id": "71l50b0EMYXt",
        "colab_type": "code",
        "outputId": "5c788aa4-2ce4-4d92-f5c9-2e94577bfd2f",
        "colab": {
          "base_uri": "https://localhost:8080/",
          "height": 288
        }
      },
      "source": [
        "names = ['RF', 'LinearSVM', 'NonLinearSVM',\"SGD\"]\n",
        "values = [recall_score(test_labels_diag, dia_pred),\n",
        "          recall_score(test_labels_diag, svm_dia_pred),\n",
        "          recall_score(test_labels_diag, svm_poly_dia_pred),\n",
        "          recall_score(test_labels_diag, sgd_dia_pred)\n",
        "          ]\n",
        "plt.bar(names, values)\n",
        "#plt.bar(\"Methods\", \"Stat\", data = accuracy_score, color = \"blue\")\n",
        "#plt.xlabel(\"RF\", \"SVM\" ,\"SGD\")\n",
        "plt.ylabel(\"Recall\")\n",
        "plt.title(\"Diagnosis Recall Chart\", color = \"blue\", fontsize = \"xx-large\")\n",
        "plt.show()"
      ],
      "execution_count": 0,
      "outputs": [
        {
          "output_type": "display_data",
          "data": {
            "image/png": "[encoded data removed]",
            "text/plain": [
              "<Figure size 432x288 with 1 Axes>"
            ]
          },
          "metadata": {
            "tags": []
          }
        }
      ]
    },
    {
      "cell_type": "markdown",
      "metadata": {
        "id": "8PgPh13hMzCs",
        "colab_type": "text"
      },
      "source": [
        "**The Figure 4**, describes the **Cross Validation Score** for Prediction of Diagnoses for diabetes"
      ]
    },
    {
      "cell_type": "code",
      "metadata": {
        "id": "kMP0HMeANULd",
        "colab_type": "code",
        "outputId": "19cb059a-1d37-4ec3-c8f2-cd3720aabe55",
        "colab": {
          "base_uri": "https://localhost:8080/",
          "height": 288
        }
      },
      "source": [
        "RFCscore_d = cross_val_score(rnd_clf, dia_tr, dia_labels_diag, cv=5, scoring=\"accuracy\")\n",
        "SVMCscore_d = cross_val_score(svm_clf, dia_tr, dia_labels_diag, cv=5, scoring=\"accuracy\")\n",
        "PolyCscore_d = cross_val_score(polynomial_svm_clf, dia_tr, dia_labels_diag, cv=3, scoring=\"accuracy\")\n",
        "SGDCscore_d = cross_val_score(sgd_clf, dia_tr, dia_labels_diag, cv=5, scoring=\"accuracy\")\n",
        "\n",
        "names = ['RF', 'LinearSVM', 'NonLinearSVM',\"SGD\"]\n",
        "values = [RFCscore_d.mean(), SVMCscore_d.mean(), PolyCscore_d.mean(), SGDCscore_d.mean()]\n",
        "plt.bar(names, values)\n",
        "plt.ylabel(\"Cross Validation Score\")\n",
        "plt.title(\"Diagnosis Cross Validation Score Chart\", color = \"blue\", fontsize = \"xx-large\")\n",
        "plt.show()"
      ],
      "execution_count": 0,
      "outputs": [
        {
          "output_type": "display_data",
          "data": {
            "image/png": "[encoded data removed]",
            "text/plain": [
              "<Figure size 432x288 with 1 Axes>"
            ]
          },
          "metadata": {
            "tags": []
          }
        }
      ]
    },
    {
      "cell_type": "markdown",
      "metadata": {
        "id": "VrswhptlFT_E",
        "colab_type": "text"
      },
      "source": [
        "**Below four figures describes the Accuracy, Precision, Recall and Cross Validation Score for Prediction of re-admitted.**\n",
        "\n",
        "**Figure 5** describes the **Accuracy** percentage **Prediction of re-admitted**. "
      ]
    },
    {
      "cell_type": "code",
      "metadata": {
        "id": "b-51evmrFS60",
        "colab_type": "code",
        "outputId": "ce3f64b7-effd-421a-e1c0-e257ba118051",
        "colab": {
          "base_uri": "https://localhost:8080/",
          "height": 288
        }
      },
      "source": [
        "names = ['RF', 'LinearSVM', 'NonLinearSVM',\"SGD\"]\n",
        "values = [accuracy_score(test_labels_read, read_pred),\n",
        "          accuracy_score(test_labels_read, svm_read_pred),\n",
        "          accuracy_score(test_labels_read, svm_poly_read_pred),\n",
        "          accuracy_score(test_labels_read, sgd_read_pred)\n",
        "          ]\n",
        "plt.bar(names, values)\n",
        "#plt.bar(\"Methods\", \"Stat\", data = accuracy_score, color = \"blue\")\n",
        "#plt.xlabel(\"RF\", \"SVM\" ,\"SGD\")\n",
        "plt.ylabel(\"Accuracy\")\n",
        "plt.title(\"Re-admision Accuracy Chart\", color = \"blue\", fontsize = \"xx-large\")\n",
        "plt.show()"
      ],
      "execution_count": 0,
      "outputs": [
        {
          "output_type": "display_data",
          "data": {
            "image/png": "[encoded data removed]",
            "text/plain": [
              "<Figure size 432x288 with 1 Axes>"
            ]
          },
          "metadata": {
            "tags": []
          }
        }
      ]
    },
    {
      "cell_type": "markdown",
      "metadata": {
        "id": "KfcTKaU7FnyW",
        "colab_type": "text"
      },
      "source": [
        "**The Figure 6**, describes the ***Precision*** percentage prediction of re-admitted. "
      ]
    },
    {
      "cell_type": "code",
      "metadata": {
        "id": "kZ7JjZicGrjB",
        "colab_type": "code",
        "outputId": "7f25d683-703a-42ab-bcd7-bec0dab979d3",
        "colab": {
          "base_uri": "https://localhost:8080/",
          "height": 288
        }
      },
      "source": [
        "names = ['RF', 'LinearSVM', 'NonLinearSVM',\"SGD\"]\n",
        "values = [precision_score(test_labels_read, read_pred),\n",
        "          precision_score(test_labels_read, svm_read_pred),\n",
        "          precision_score(test_labels_read, svm_poly_read_pred),\n",
        "          precision_score(test_labels_read, sgd_read_pred)\n",
        "          ]\n",
        "plt.bar(names, values)\n",
        "plt.ylabel(\"Precision\")\n",
        "plt.title(\"Re-admision Precision Chart\", color = \"blue\", fontsize = \"xx-large\")\n",
        "plt.show()"
      ],
      "execution_count": 0,
      "outputs": [
        {
          "output_type": "display_data",
          "data": {
            "image/png": "[encoded data removed]",
            "text/plain": [
              "<Figure size 432x288 with 1 Axes>"
            ]
          },
          "metadata": {
            "tags": []
          }
        }
      ]
    },
    {
      "cell_type": "markdown",
      "metadata": {
        "id": "dRZVpwtRGvyT",
        "colab_type": "text"
      },
      "source": [
        "**The Figure 7**, shows the **Recall** percentage prediction of re-admitted. "
      ]
    },
    {
      "cell_type": "code",
      "metadata": {
        "id": "GN7b-cDbGzCa",
        "colab_type": "code",
        "outputId": "e645638e-b23b-4dcd-fd7b-6103d27300b6",
        "colab": {
          "base_uri": "https://localhost:8080/",
          "height": 288
        }
      },
      "source": [
        "names = ['RF', 'LinearSVM', 'NonLinearSVM',\"SGD\"]\n",
        "values = [recall_score(test_labels_read, read_pred),\n",
        "          recall_score(test_labels_read, svm_read_pred),\n",
        "          recall_score(test_labels_read, svm_poly_read_pred),\n",
        "          recall_score(test_labels_read, sgd_read_pred)\n",
        "          ]\n",
        "plt.bar(names, values)\n",
        "plt.ylabel(\"Recall\")\n",
        "plt.title(\"Re-admision Recall Chart\", color = \"blue\", fontsize = \"xx-large\")\n",
        "plt.show()"
      ],
      "execution_count": 0,
      "outputs": [
        {
          "output_type": "display_data",
          "data": {
            "image/png": "[encoded data removed]",
            "text/plain": [
              "<Figure size 432x288 with 1 Axes>"
            ]
          },
          "metadata": {
            "tags": []
          }
        }
      ]
    },
    {
      "cell_type": "markdown",
      "metadata": {
        "id": "Yfa4y9nWHiO4",
        "colab_type": "text"
      },
      "source": [
        "**The Figure 8**, describes the **Cross Validation Score**  of the various classifiers prediction of re-admitted. ."
      ]
    },
    {
      "cell_type": "code",
      "metadata": {
        "id": "wYNszFWPHl65",
        "colab_type": "code",
        "outputId": "ee9b87f5-9662-4ef9-d212-519392ba27e0",
        "colab": {
          "base_uri": "https://localhost:8080/",
          "height": 288
        }
      },
      "source": [
        "RFCscore = cross_val_score(rnd_clf, dia_tr, dia_labels_read, cv=5, scoring=\"accuracy\")\n",
        "SVMCscore = cross_val_score(svm_clf, dia_tr, dia_labels_read, cv=5, scoring=\"accuracy\")\n",
        "PolyCscore = cross_val_score(polynomial_svm_clf, dia_tr, dia_labels_read, cv=3, scoring=\"accuracy\")\n",
        "SGDCscore = cross_val_score(sgd_clf, dia_tr, dia_labels_read, cv=5, scoring=\"accuracy\")\n",
        "\n",
        "names = ['RF', 'LinearSVM', 'NonLinearSVM',\"SGD\"]\n",
        "values = [RFCscore.mean(), SVMCscore.mean(), PolyCscore.mean(), SGDCscore.mean()]\n",
        "plt.bar(names, values)\n",
        "plt.ylabel(\"Cross Validation Score\")\n",
        "plt.title(\"Re-admision Cross Validation Score Chart\", color = \"blue\", fontsize = \"xx-large\")\n",
        "plt.show()"
      ],
      "execution_count": 0,
      "outputs": [
        {
          "output_type": "display_data",
          "data": {
            "image/png": "[encoded data removed]",
            "text/plain": [
              "<Figure size 432x288 with 1 Axes>"
            ]
          },
          "metadata": {
            "tags": []
          }
        }
      ]
    }
  ]
}