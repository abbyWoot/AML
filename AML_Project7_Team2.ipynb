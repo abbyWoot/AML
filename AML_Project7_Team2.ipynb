{
  "nbformat": 4,
  "nbformat_minor": 0,
  "metadata": {
    "colab": {
      "name": "AML_Project7_Team2",
      "provenance": [],
      "authorship_tag": "ABX9TyN4UFU3QzOZb8+O7Bxkv6Sd",
      "include_colab_link": true
    },
    "kernelspec": {
      "name": "python3",
      "display_name": "Python 3"
    },
    "accelerator": "GPU",
    "widgets": {
      "application/vnd.jupyter.widget-state+json": {
        "32659db98de94e3988c89bd1c2a676c9": {
          "model_module": "@jupyter-widgets/controls",
          "model_name": "HBoxModel",
          "state": {
            "_view_name": "HBoxView",
            "_dom_classes": [],
            "_model_name": "HBoxModel",
            "_view_module": "@jupyter-widgets/controls",
            "_model_module_version": "1.5.0",
            "_view_count": null,
            "_view_module_version": "1.5.0",
            "box_style": "",
            "layout": "IPY_MODEL_942d1efcd412494da9e243d1e4dca07b",
            "_model_module": "@jupyter-widgets/controls",
            "children": [
              "IPY_MODEL_3c780cf2dafd466ebe48bd642765ea29",
              "IPY_MODEL_5b7df6be1e004e52858f2672f08303f4"
            ]
          }
        },
        "942d1efcd412494da9e243d1e4dca07b": {
          "model_module": "@jupyter-widgets/base",
          "model_name": "LayoutModel",
          "state": {
            "_view_name": "LayoutView",
            "grid_template_rows": null,
            "right": null,
            "justify_content": null,
            "_view_module": "@jupyter-widgets/base",
            "overflow": null,
            "_model_module_version": "1.2.0",
            "_view_count": null,
            "flex_flow": null,
            "width": null,
            "min_width": null,
            "border": null,
            "align_items": null,
            "bottom": null,
            "_model_module": "@jupyter-widgets/base",
            "top": null,
            "grid_column": null,
            "overflow_y": null,
            "overflow_x": null,
            "grid_auto_flow": null,
            "grid_area": null,
            "grid_template_columns": null,
            "flex": null,
            "_model_name": "LayoutModel",
            "justify_items": null,
            "grid_row": null,
            "max_height": null,
            "align_content": null,
            "visibility": null,
            "align_self": null,
            "height": null,
            "min_height": null,
            "padding": null,
            "grid_auto_rows": null,
            "grid_gap": null,
            "max_width": null,
            "order": null,
            "_view_module_version": "1.2.0",
            "grid_template_areas": null,
            "object_position": null,
            "object_fit": null,
            "grid_auto_columns": null,
            "margin": null,
            "display": null,
            "left": null
          }
        },
        "3c780cf2dafd466ebe48bd642765ea29": {
          "model_module": "@jupyter-widgets/controls",
          "model_name": "IntProgressModel",
          "state": {
            "_view_name": "ProgressView",
            "style": "IPY_MODEL_170f973c0945499c806f48e0b957892e",
            "_dom_classes": [],
            "description": "100%",
            "_model_name": "IntProgressModel",
            "bar_style": "success",
            "max": 947,
            "_view_module": "@jupyter-widgets/controls",
            "_model_module_version": "1.5.0",
            "value": 947,
            "_view_count": null,
            "_view_module_version": "1.5.0",
            "orientation": "horizontal",
            "min": 0,
            "description_tooltip": null,
            "_model_module": "@jupyter-widgets/controls",
            "layout": "IPY_MODEL_cddb6f527441404f89ebd643797d3575"
          }
        },
        "5b7df6be1e004e52858f2672f08303f4": {
          "model_module": "@jupyter-widgets/controls",
          "model_name": "HTMLModel",
          "state": {
            "_view_name": "HTMLView",
            "style": "IPY_MODEL_85e426b28004461ca71159d4cd08b1b6",
            "_dom_classes": [],
            "description": "",
            "_model_name": "HTMLModel",
            "placeholder": "​",
            "_view_module": "@jupyter-widgets/controls",
            "_model_module_version": "1.5.0",
            "value": " 947/947 [00:19&lt;00:00, 49.77it/s]",
            "_view_count": null,
            "_view_module_version": "1.5.0",
            "description_tooltip": null,
            "_model_module": "@jupyter-widgets/controls",
            "layout": "IPY_MODEL_81dbb8b9f7a648869d52eba7e3ac69c8"
          }
        },
        "170f973c0945499c806f48e0b957892e": {
          "model_module": "@jupyter-widgets/controls",
          "model_name": "ProgressStyleModel",
          "state": {
            "_view_name": "StyleView",
            "_model_name": "ProgressStyleModel",
            "description_width": "initial",
            "_view_module": "@jupyter-widgets/base",
            "_model_module_version": "1.5.0",
            "_view_count": null,
            "_view_module_version": "1.2.0",
            "bar_color": null,
            "_model_module": "@jupyter-widgets/controls"
          }
        },
        "cddb6f527441404f89ebd643797d3575": {
          "model_module": "@jupyter-widgets/base",
          "model_name": "LayoutModel",
          "state": {
            "_view_name": "LayoutView",
            "grid_template_rows": null,
            "right": null,
            "justify_content": null,
            "_view_module": "@jupyter-widgets/base",
            "overflow": null,
            "_model_module_version": "1.2.0",
            "_view_count": null,
            "flex_flow": null,
            "width": null,
            "min_width": null,
            "border": null,
            "align_items": null,
            "bottom": null,
            "_model_module": "@jupyter-widgets/base",
            "top": null,
            "grid_column": null,
            "overflow_y": null,
            "overflow_x": null,
            "grid_auto_flow": null,
            "grid_area": null,
            "grid_template_columns": null,
            "flex": null,
            "_model_name": "LayoutModel",
            "justify_items": null,
            "grid_row": null,
            "max_height": null,
            "align_content": null,
            "visibility": null,
            "align_self": null,
            "height": null,
            "min_height": null,
            "padding": null,
            "grid_auto_rows": null,
            "grid_gap": null,
            "max_width": null,
            "order": null,
            "_view_module_version": "1.2.0",
            "grid_template_areas": null,
            "object_position": null,
            "object_fit": null,
            "grid_auto_columns": null,
            "margin": null,
            "display": null,
            "left": null
          }
        },
        "85e426b28004461ca71159d4cd08b1b6": {
          "model_module": "@jupyter-widgets/controls",
          "model_name": "DescriptionStyleModel",
          "state": {
            "_view_name": "StyleView",
            "_model_name": "DescriptionStyleModel",
            "description_width": "",
            "_view_module": "@jupyter-widgets/base",
            "_model_module_version": "1.5.0",
            "_view_count": null,
            "_view_module_version": "1.2.0",
            "_model_module": "@jupyter-widgets/controls"
          }
        },
        "81dbb8b9f7a648869d52eba7e3ac69c8": {
          "model_module": "@jupyter-widgets/base",
          "model_name": "LayoutModel",
          "state": {
            "_view_name": "LayoutView",
            "grid_template_rows": null,
            "right": null,
            "justify_content": null,
            "_view_module": "@jupyter-widgets/base",
            "overflow": null,
            "_model_module_version": "1.2.0",
            "_view_count": null,
            "flex_flow": null,
            "width": null,
            "min_width": null,
            "border": null,
            "align_items": null,
            "bottom": null,
            "_model_module": "@jupyter-widgets/base",
            "top": null,
            "grid_column": null,
            "overflow_y": null,
            "overflow_x": null,
            "grid_auto_flow": null,
            "grid_area": null,
            "grid_template_columns": null,
            "flex": null,
            "_model_name": "LayoutModel",
            "justify_items": null,
            "grid_row": null,
            "max_height": null,
            "align_content": null,
            "visibility": null,
            "align_self": null,
            "height": null,
            "min_height": null,
            "padding": null,
            "grid_auto_rows": null,
            "grid_gap": null,
            "max_width": null,
            "order": null,
            "_view_module_version": "1.2.0",
            "grid_template_areas": null,
            "object_position": null,
            "object_fit": null,
            "grid_auto_columns": null,
            "margin": null,
            "display": null,
            "left": null
          }
        },
        "006dddbbd30e4af8b1d6add4665a43ab": {
          "model_module": "@jupyter-widgets/controls",
          "model_name": "HBoxModel",
          "state": {
            "_view_name": "HBoxView",
            "_dom_classes": [],
            "_model_name": "HBoxModel",
            "_view_module": "@jupyter-widgets/controls",
            "_model_module_version": "1.5.0",
            "_view_count": null,
            "_view_module_version": "1.5.0",
            "box_style": "",
            "layout": "IPY_MODEL_470a0057e3844aecb447e91fe9b05796",
            "_model_module": "@jupyter-widgets/controls",
            "children": [
              "IPY_MODEL_865675e44f054fa8b79ce610fed7c21f",
              "IPY_MODEL_fb2b6f65a40b4aada33e46753752bf9e"
            ]
          }
        },
        "470a0057e3844aecb447e91fe9b05796": {
          "model_module": "@jupyter-widgets/base",
          "model_name": "LayoutModel",
          "state": {
            "_view_name": "LayoutView",
            "grid_template_rows": null,
            "right": null,
            "justify_content": null,
            "_view_module": "@jupyter-widgets/base",
            "overflow": null,
            "_model_module_version": "1.2.0",
            "_view_count": null,
            "flex_flow": null,
            "width": null,
            "min_width": null,
            "border": null,
            "align_items": null,
            "bottom": null,
            "_model_module": "@jupyter-widgets/base",
            "top": null,
            "grid_column": null,
            "overflow_y": null,
            "overflow_x": null,
            "grid_auto_flow": null,
            "grid_area": null,
            "grid_template_columns": null,
            "flex": null,
            "_model_name": "LayoutModel",
            "justify_items": null,
            "grid_row": null,
            "max_height": null,
            "align_content": null,
            "visibility": null,
            "align_self": null,
            "height": null,
            "min_height": null,
            "padding": null,
            "grid_auto_rows": null,
            "grid_gap": null,
            "max_width": null,
            "order": null,
            "_view_module_version": "1.2.0",
            "grid_template_areas": null,
            "object_position": null,
            "object_fit": null,
            "grid_auto_columns": null,
            "margin": null,
            "display": null,
            "left": null
          }
        },
        "865675e44f054fa8b79ce610fed7c21f": {
          "model_module": "@jupyter-widgets/controls",
          "model_name": "IntProgressModel",
          "state": {
            "_view_name": "ProgressView",
            "style": "IPY_MODEL_816555c056b949489c680c5bf61c1149",
            "_dom_classes": [],
            "description": "100%",
            "_model_name": "IntProgressModel",
            "bar_style": "success",
            "max": 192,
            "_view_module": "@jupyter-widgets/controls",
            "_model_module_version": "1.5.0",
            "value": 192,
            "_view_count": null,
            "_view_module_version": "1.5.0",
            "orientation": "horizontal",
            "min": 0,
            "description_tooltip": null,
            "_model_module": "@jupyter-widgets/controls",
            "layout": "IPY_MODEL_36829022344d48a28ace5b779dfc5f9e"
          }
        },
        "fb2b6f65a40b4aada33e46753752bf9e": {
          "model_module": "@jupyter-widgets/controls",
          "model_name": "HTMLModel",
          "state": {
            "_view_name": "HTMLView",
            "style": "IPY_MODEL_261f7e0f203a4d96a71b4421e359ad79",
            "_dom_classes": [],
            "description": "",
            "_model_name": "HTMLModel",
            "placeholder": "​",
            "_view_module": "@jupyter-widgets/controls",
            "_model_module_version": "1.5.0",
            "value": " 192/192 [00:18&lt;00:00, 10.12it/s]",
            "_view_count": null,
            "_view_module_version": "1.5.0",
            "description_tooltip": null,
            "_model_module": "@jupyter-widgets/controls",
            "layout": "IPY_MODEL_df07add660e44accbbb3999c25027199"
          }
        },
        "816555c056b949489c680c5bf61c1149": {
          "model_module": "@jupyter-widgets/controls",
          "model_name": "ProgressStyleModel",
          "state": {
            "_view_name": "StyleView",
            "_model_name": "ProgressStyleModel",
            "description_width": "initial",
            "_view_module": "@jupyter-widgets/base",
            "_model_module_version": "1.5.0",
            "_view_count": null,
            "_view_module_version": "1.2.0",
            "bar_color": null,
            "_model_module": "@jupyter-widgets/controls"
          }
        },
        "36829022344d48a28ace5b779dfc5f9e": {
          "model_module": "@jupyter-widgets/base",
          "model_name": "LayoutModel",
          "state": {
            "_view_name": "LayoutView",
            "grid_template_rows": null,
            "right": null,
            "justify_content": null,
            "_view_module": "@jupyter-widgets/base",
            "overflow": null,
            "_model_module_version": "1.2.0",
            "_view_count": null,
            "flex_flow": null,
            "width": null,
            "min_width": null,
            "border": null,
            "align_items": null,
            "bottom": null,
            "_model_module": "@jupyter-widgets/base",
            "top": null,
            "grid_column": null,
            "overflow_y": null,
            "overflow_x": null,
            "grid_auto_flow": null,
            "grid_area": null,
            "grid_template_columns": null,
            "flex": null,
            "_model_name": "LayoutModel",
            "justify_items": null,
            "grid_row": null,
            "max_height": null,
            "align_content": null,
            "visibility": null,
            "align_self": null,
            "height": null,
            "min_height": null,
            "padding": null,
            "grid_auto_rows": null,
            "grid_gap": null,
            "max_width": null,
            "order": null,
            "_view_module_version": "1.2.0",
            "grid_template_areas": null,
            "object_position": null,
            "object_fit": null,
            "grid_auto_columns": null,
            "margin": null,
            "display": null,
            "left": null
          }
        },
        "261f7e0f203a4d96a71b4421e359ad79": {
          "model_module": "@jupyter-widgets/controls",
          "model_name": "DescriptionStyleModel",
          "state": {
            "_view_name": "StyleView",
            "_model_name": "DescriptionStyleModel",
            "description_width": "",
            "_view_module": "@jupyter-widgets/base",
            "_model_module_version": "1.5.0",
            "_view_count": null,
            "_view_module_version": "1.2.0",
            "_model_module": "@jupyter-widgets/controls"
          }
        },
        "df07add660e44accbbb3999c25027199": {
          "model_module": "@jupyter-widgets/base",
          "model_name": "LayoutModel",
          "state": {
            "_view_name": "LayoutView",
            "grid_template_rows": null,
            "right": null,
            "justify_content": null,
            "_view_module": "@jupyter-widgets/base",
            "overflow": null,
            "_model_module_version": "1.2.0",
            "_view_count": null,
            "flex_flow": null,
            "width": null,
            "min_width": null,
            "border": null,
            "align_items": null,
            "bottom": null,
            "_model_module": "@jupyter-widgets/base",
            "top": null,
            "grid_column": null,
            "overflow_y": null,
            "overflow_x": null,
            "grid_auto_flow": null,
            "grid_area": null,
            "grid_template_columns": null,
            "flex": null,
            "_model_name": "LayoutModel",
            "justify_items": null,
            "grid_row": null,
            "max_height": null,
            "align_content": null,
            "visibility": null,
            "align_self": null,
            "height": null,
            "min_height": null,
            "padding": null,
            "grid_auto_rows": null,
            "grid_gap": null,
            "max_width": null,
            "order": null,
            "_view_module_version": "1.2.0",
            "grid_template_areas": null,
            "object_position": null,
            "object_fit": null,
            "grid_auto_columns": null,
            "margin": null,
            "display": null,
            "left": null
          }
        },
        "0a714b912dc2400283ae6cd04d580cd3": {
          "model_module": "@jupyter-widgets/controls",
          "model_name": "HBoxModel",
          "state": {
            "_view_name": "HBoxView",
            "_dom_classes": [],
            "_model_name": "HBoxModel",
            "_view_module": "@jupyter-widgets/controls",
            "_model_module_version": "1.5.0",
            "_view_count": null,
            "_view_module_version": "1.5.0",
            "box_style": "",
            "layout": "IPY_MODEL_e95becd7a7f446788c34768672ffad55",
            "_model_module": "@jupyter-widgets/controls",
            "children": [
              "IPY_MODEL_e371a403a36a421b9ba52830fe5248b0",
              "IPY_MODEL_0e49d71fec844c15b99ec10b10a68152"
            ]
          }
        },
        "e95becd7a7f446788c34768672ffad55": {
          "model_module": "@jupyter-widgets/base",
          "model_name": "LayoutModel",
          "state": {
            "_view_name": "LayoutView",
            "grid_template_rows": null,
            "right": null,
            "justify_content": null,
            "_view_module": "@jupyter-widgets/base",
            "overflow": null,
            "_model_module_version": "1.2.0",
            "_view_count": null,
            "flex_flow": null,
            "width": null,
            "min_width": null,
            "border": null,
            "align_items": null,
            "bottom": null,
            "_model_module": "@jupyter-widgets/base",
            "top": null,
            "grid_column": null,
            "overflow_y": null,
            "overflow_x": null,
            "grid_auto_flow": null,
            "grid_area": null,
            "grid_template_columns": null,
            "flex": null,
            "_model_name": "LayoutModel",
            "justify_items": null,
            "grid_row": null,
            "max_height": null,
            "align_content": null,
            "visibility": null,
            "align_self": null,
            "height": null,
            "min_height": null,
            "padding": null,
            "grid_auto_rows": null,
            "grid_gap": null,
            "max_width": null,
            "order": null,
            "_view_module_version": "1.2.0",
            "grid_template_areas": null,
            "object_position": null,
            "object_fit": null,
            "grid_auto_columns": null,
            "margin": null,
            "display": null,
            "left": null
          }
        },
        "e371a403a36a421b9ba52830fe5248b0": {
          "model_module": "@jupyter-widgets/controls",
          "model_name": "IntProgressModel",
          "state": {
            "_view_name": "ProgressView",
            "style": "IPY_MODEL_8bdfae3250374ddea3eb755d48a30842",
            "_dom_classes": [],
            "description": "100%",
            "_model_name": "IntProgressModel",
            "bar_style": "success",
            "max": 192,
            "_view_module": "@jupyter-widgets/controls",
            "_model_module_version": "1.5.0",
            "value": 192,
            "_view_count": null,
            "_view_module_version": "1.5.0",
            "orientation": "horizontal",
            "min": 0,
            "description_tooltip": null,
            "_model_module": "@jupyter-widgets/controls",
            "layout": "IPY_MODEL_23145bc6551742a58a54be2e21d7fffb"
          }
        },
        "0e49d71fec844c15b99ec10b10a68152": {
          "model_module": "@jupyter-widgets/controls",
          "model_name": "HTMLModel",
          "state": {
            "_view_name": "HTMLView",
            "style": "IPY_MODEL_9c1e57f236f049ec9ff122615c90158c",
            "_dom_classes": [],
            "description": "",
            "_model_name": "HTMLModel",
            "placeholder": "​",
            "_view_module": "@jupyter-widgets/controls",
            "_model_module_version": "1.5.0",
            "value": " 192/192 [00:00&lt;00:00, 5043.76it/s]",
            "_view_count": null,
            "_view_module_version": "1.5.0",
            "description_tooltip": null,
            "_model_module": "@jupyter-widgets/controls",
            "layout": "IPY_MODEL_3923cff7be1b4d0ea65917ae0c4e25e8"
          }
        },
        "8bdfae3250374ddea3eb755d48a30842": {
          "model_module": "@jupyter-widgets/controls",
          "model_name": "ProgressStyleModel",
          "state": {
            "_view_name": "StyleView",
            "_model_name": "ProgressStyleModel",
            "description_width": "initial",
            "_view_module": "@jupyter-widgets/base",
            "_model_module_version": "1.5.0",
            "_view_count": null,
            "_view_module_version": "1.2.0",
            "bar_color": null,
            "_model_module": "@jupyter-widgets/controls"
          }
        },
        "23145bc6551742a58a54be2e21d7fffb": {
          "model_module": "@jupyter-widgets/base",
          "model_name": "LayoutModel",
          "state": {
            "_view_name": "LayoutView",
            "grid_template_rows": null,
            "right": null,
            "justify_content": null,
            "_view_module": "@jupyter-widgets/base",
            "overflow": null,
            "_model_module_version": "1.2.0",
            "_view_count": null,
            "flex_flow": null,
            "width": null,
            "min_width": null,
            "border": null,
            "align_items": null,
            "bottom": null,
            "_model_module": "@jupyter-widgets/base",
            "top": null,
            "grid_column": null,
            "overflow_y": null,
            "overflow_x": null,
            "grid_auto_flow": null,
            "grid_area": null,
            "grid_template_columns": null,
            "flex": null,
            "_model_name": "LayoutModel",
            "justify_items": null,
            "grid_row": null,
            "max_height": null,
            "align_content": null,
            "visibility": null,
            "align_self": null,
            "height": null,
            "min_height": null,
            "padding": null,
            "grid_auto_rows": null,
            "grid_gap": null,
            "max_width": null,
            "order": null,
            "_view_module_version": "1.2.0",
            "grid_template_areas": null,
            "object_position": null,
            "object_fit": null,
            "grid_auto_columns": null,
            "margin": null,
            "display": null,
            "left": null
          }
        },
        "9c1e57f236f049ec9ff122615c90158c": {
          "model_module": "@jupyter-widgets/controls",
          "model_name": "DescriptionStyleModel",
          "state": {
            "_view_name": "StyleView",
            "_model_name": "DescriptionStyleModel",
            "description_width": "",
            "_view_module": "@jupyter-widgets/base",
            "_model_module_version": "1.5.0",
            "_view_count": null,
            "_view_module_version": "1.2.0",
            "_model_module": "@jupyter-widgets/controls"
          }
        },
        "3923cff7be1b4d0ea65917ae0c4e25e8": {
          "model_module": "@jupyter-widgets/base",
          "model_name": "LayoutModel",
          "state": {
            "_view_name": "LayoutView",
            "grid_template_rows": null,
            "right": null,
            "justify_content": null,
            "_view_module": "@jupyter-widgets/base",
            "overflow": null,
            "_model_module_version": "1.2.0",
            "_view_count": null,
            "flex_flow": null,
            "width": null,
            "min_width": null,
            "border": null,
            "align_items": null,
            "bottom": null,
            "_model_module": "@jupyter-widgets/base",
            "top": null,
            "grid_column": null,
            "overflow_y": null,
            "overflow_x": null,
            "grid_auto_flow": null,
            "grid_area": null,
            "grid_template_columns": null,
            "flex": null,
            "_model_name": "LayoutModel",
            "justify_items": null,
            "grid_row": null,
            "max_height": null,
            "align_content": null,
            "visibility": null,
            "align_self": null,
            "height": null,
            "min_height": null,
            "padding": null,
            "grid_auto_rows": null,
            "grid_gap": null,
            "max_width": null,
            "order": null,
            "_view_module_version": "1.2.0",
            "grid_template_areas": null,
            "object_position": null,
            "object_fit": null,
            "grid_auto_columns": null,
            "margin": null,
            "display": null,
            "left": null
          }
        }
      }
    }
  },
  "cells": [
    {
      "cell_type": "markdown",
      "metadata": {
        "id": "view-in-github",
        "colab_type": "text"
      },
      "source": [
        "<a href=\"https://colab.research.google.com/github/abbyWoot/AML/blob/master/AML_Project7_Team2.ipynb\" target=\"_parent\"><img src=\"https://colab.research.google.com/assets/colab-badge.svg\" alt=\"Open In Colab\"/></a>"
      ]
    },
    {
      "cell_type": "markdown",
      "metadata": {
        "id": "rhWeGKH639Kk",
        "colab_type": "text"
      },
      "source": [
        "##**Advanced Machine Learning Project6**\n",
        "\n",
        "@Team 2: Joe, Getong, Abby\n",
        "Apple Stock"
      ]
    },
    {
      "cell_type": "code",
      "metadata": {
        "id": "MZX_-9Zo4Gls",
        "colab_type": "code",
        "colab": {}
      },
      "source": [
        "#Set Up. \n",
        "# Python ≥3.5 is required\n",
        "import sys\n",
        "assert sys.version_info >= (3, 5)\n",
        "\n",
        "# Scikit-Learn ≥0.20 is required\n",
        "import sklearn\n",
        "assert sklearn.__version__ >= \"0.20\"\n",
        "\n",
        "try:\n",
        "    # %tensorflow_version only exists in Colab.\n",
        "    %tensorflow_version 2.x\n",
        "    IS_COLAB = True\n",
        "except Exception:\n",
        "    IS_COLAB = False\n",
        "\n",
        "# TensorFlow ≥2.0 is required\n",
        "import tensorflow as tf\n",
        "from tensorflow import keras\n",
        "assert tf.__version__ >= \"2.0\"\n",
        "\n",
        "if not tf.config.list_physical_devices('GPU'):\n",
        "    print(\"No GPU was detected. LSTMs and CNNs can be very slow without a GPU.\")\n",
        "    if IS_COLAB:\n",
        "        print(\"Go to Runtime > Change runtime and select a GPU hardware accelerator.\")\n",
        "\n",
        "# Common imports\n",
        "import numpy as np\n",
        "import os\n",
        "from pathlib import Path\n",
        "\n",
        "# to make this notebook's output stable across runs\n",
        "np.random.seed(42)\n",
        "tf.random.set_seed(42)\n",
        "\n",
        "# To plot pretty figures\n",
        "%matplotlib inline\n",
        "import matplotlib as mpl\n",
        "import matplotlib.pyplot as plt\n",
        "mpl.rc('axes', labelsize=14)\n",
        "mpl.rc('xtick', labelsize=12)\n",
        "mpl.rc('ytick', labelsize=12)\n",
        "\n",
        "import numpy as np\n",
        "import os\n",
        "import sys\n",
        "import time\n",
        "import pandas as pd \n",
        "from tqdm._tqdm_notebook import tqdm_notebook\n",
        "import pickle\n",
        "from keras.models import Sequential, load_model\n",
        "from keras.layers import Dense, Dropout\n",
        "from keras.layers import LSTM\n",
        "from keras.callbacks import ModelCheckpoint, EarlyStopping, ReduceLROnPlateau, CSVLogger\n",
        "from keras import optimizers\n",
        "# from keras.wrappers.scikit_learn import KerasClassifier\n",
        "from sklearn.preprocessing import MinMaxScaler\n",
        "from sklearn.model_selection import train_test_split\n",
        "from sklearn.metrics import mean_squared_error\n",
        "import logging\n",
        "\n",
        "# Where to save the figures\n",
        "PROJECT_ROOT_DIR = \".\"\n",
        "CHAPTER_ID = \"rnn\"\n",
        "IMAGES_PATH = os.path.join(PROJECT_ROOT_DIR, \"images\", CHAPTER_ID)\n",
        "os.makedirs(IMAGES_PATH, exist_ok=True)\n",
        "\n",
        "params = {\n",
        "    \"batch_size\": 20,  # 20<16<10, 25 was a bust\n",
        "    \"epochs\": 300,\n",
        "    \"lr\": 0.00010000,\n",
        "    \"time_steps\": 60\n",
        "}\n",
        "\n",
        "iter_changes = \"dropout_layers_0.4_0.4\""
      ],
      "execution_count": 0,
      "outputs": []
    },
    {
      "cell_type": "code",
      "metadata": {
        "id": "5FwfsG2A4lAc",
        "colab_type": "code",
        "colab": {}
      },
      "source": [
        "# Download the data\n",
        "import urllib\n",
        "import os\n",
        "\n",
        "DOWNLOAD_ROOT = \"https://raw.githubusercontent.com/fsclsnow/AML/master/\"\n",
        "AAPL_PATH = os.path.join(\"Data\")\n",
        "AAPL_URL_5years = DOWNLOAD_ROOT + \"AAPL_2015-2019.csv\"\n",
        "AAPL_URL_1year = DOWNLOAD_ROOT + \"AAPL_2019-2020.csv\""
      ],
      "execution_count": 0,
      "outputs": []
    },
    {
      "cell_type": "code",
      "metadata": {
        "id": "LtAk-jtb4rIk",
        "colab_type": "code",
        "colab": {}
      },
      "source": [
        "import pandas as pd\n",
        "\n",
        "def load_aapl_data(aapl_path=AAPL_PATH):\n",
        "    csv_path = os.path.join(DOWNLOAD_ROOT, aapl_path, \"AAPL_2015-2019.csv\")\n",
        "    return pd.read_csv(csv_path)"
      ],
      "execution_count": 0,
      "outputs": []
    },
    {
      "cell_type": "code",
      "metadata": {
        "id": "3r60JKJu6IId",
        "colab_type": "code",
        "outputId": "baef0176-99b6-4623-8315-bb021432fdd0",
        "colab": {
          "base_uri": "https://localhost:8080/",
          "height": 222
        }
      },
      "source": [
        "aapl = load_aapl_data()\n",
        "aapl.head()"
      ],
      "execution_count": 0,
      "outputs": [
        {
          "output_type": "execute_result",
          "data": {
            "text/html": [
              "<div>\n",
              "<style scoped>\n",
              "    .dataframe tbody tr th:only-of-type {\n",
              "        vertical-align: middle;\n",
              "    }\n",
              "\n",
              "    .dataframe tbody tr th {\n",
              "        vertical-align: top;\n",
              "    }\n",
              "\n",
              "    .dataframe thead th {\n",
              "        text-align: right;\n",
              "    }\n",
              "</style>\n",
              "<table border=\"1\" class=\"dataframe\">\n",
              "  <thead>\n",
              "    <tr style=\"text-align: right;\">\n",
              "      <th></th>\n",
              "      <th>Date</th>\n",
              "      <th>Open</th>\n",
              "      <th>High</th>\n",
              "      <th>Low</th>\n",
              "      <th>Close</th>\n",
              "      <th>Adj Close</th>\n",
              "      <th>Volume</th>\n",
              "    </tr>\n",
              "  </thead>\n",
              "  <tbody>\n",
              "    <tr>\n",
              "      <th>0</th>\n",
              "      <td>4/27/2015</td>\n",
              "      <td>132.309998</td>\n",
              "      <td>133.130005</td>\n",
              "      <td>131.149994</td>\n",
              "      <td>132.649994</td>\n",
              "      <td>122.072395</td>\n",
              "      <td>96954200.0</td>\n",
              "    </tr>\n",
              "    <tr>\n",
              "      <th>1</th>\n",
              "      <td>4/28/2015</td>\n",
              "      <td>134.460007</td>\n",
              "      <td>134.539993</td>\n",
              "      <td>129.570007</td>\n",
              "      <td>130.559998</td>\n",
              "      <td>120.149078</td>\n",
              "      <td>118924000.0</td>\n",
              "    </tr>\n",
              "    <tr>\n",
              "      <th>2</th>\n",
              "      <td>4/29/2015</td>\n",
              "      <td>130.160004</td>\n",
              "      <td>131.589996</td>\n",
              "      <td>128.300003</td>\n",
              "      <td>128.639999</td>\n",
              "      <td>118.382187</td>\n",
              "      <td>63386100.0</td>\n",
              "    </tr>\n",
              "    <tr>\n",
              "      <th>3</th>\n",
              "      <td>4/30/2015</td>\n",
              "      <td>128.639999</td>\n",
              "      <td>128.639999</td>\n",
              "      <td>124.580002</td>\n",
              "      <td>125.150002</td>\n",
              "      <td>115.170479</td>\n",
              "      <td>83195400.0</td>\n",
              "    </tr>\n",
              "    <tr>\n",
              "      <th>4</th>\n",
              "      <td>5/1/2015</td>\n",
              "      <td>126.099998</td>\n",
              "      <td>130.130005</td>\n",
              "      <td>125.300003</td>\n",
              "      <td>128.949997</td>\n",
              "      <td>118.667458</td>\n",
              "      <td>58512600.0</td>\n",
              "    </tr>\n",
              "  </tbody>\n",
              "</table>\n",
              "</div>"
            ],
            "text/plain": [
              "        Date        Open        High  ...       Close   Adj Close       Volume\n",
              "0  4/27/2015  132.309998  133.130005  ...  132.649994  122.072395   96954200.0\n",
              "1  4/28/2015  134.460007  134.539993  ...  130.559998  120.149078  118924000.0\n",
              "2  4/29/2015  130.160004  131.589996  ...  128.639999  118.382187   63386100.0\n",
              "3  4/30/2015  128.639999  128.639999  ...  125.150002  115.170479   83195400.0\n",
              "4   5/1/2015  126.099998  130.130005  ...  128.949997  118.667458   58512600.0\n",
              "\n",
              "[5 rows x 7 columns]"
            ]
          },
          "metadata": {
            "tags": []
          },
          "execution_count": 4
        }
      ]
    },
    {
      "cell_type": "code",
      "metadata": {
        "id": "NyafOroY7okd",
        "colab_type": "code",
        "outputId": "b2952a70-8fb7-4ce8-87be-a0f692797a80",
        "colab": {
          "base_uri": "https://localhost:8080/",
          "height": 254
        }
      },
      "source": [
        "aapl.info()"
      ],
      "execution_count": 0,
      "outputs": [
        {
          "output_type": "stream",
          "text": [
            "<class 'pandas.core.frame.DataFrame'>\n",
            "RangeIndex: 1259 entries, 0 to 1258\n",
            "Data columns (total 7 columns):\n",
            " #   Column     Non-Null Count  Dtype  \n",
            "---  ------     --------------  -----  \n",
            " 0   Date       1006 non-null   object \n",
            " 1   Open       1006 non-null   float64\n",
            " 2   High       1006 non-null   float64\n",
            " 3   Low        1006 non-null   float64\n",
            " 4   Close      1006 non-null   float64\n",
            " 5   Adj Close  1006 non-null   float64\n",
            " 6   Volume     1006 non-null   float64\n",
            "dtypes: float64(6), object(1)\n",
            "memory usage: 69.0+ KB\n"
          ],
          "name": "stdout"
        }
      ]
    },
    {
      "cell_type": "markdown",
      "metadata": {
        "id": "qE6We5D0Ixqp",
        "colab_type": "text"
      },
      "source": [
        "# Basic RNNs"
      ]
    },
    {
      "cell_type": "code",
      "metadata": {
        "id": "83FuRXDvI8vZ",
        "colab_type": "code",
        "outputId": "830c2835-03b5-4b50-b62f-9c943b8424c0",
        "colab": {
          "base_uri": "https://localhost:8080/",
          "height": 34
        }
      },
      "source": [
        "aapl.shape"
      ],
      "execution_count": 0,
      "outputs": [
        {
          "output_type": "execute_result",
          "data": {
            "text/plain": [
              "(1259, 7)"
            ]
          },
          "metadata": {
            "tags": []
          },
          "execution_count": 6
        }
      ]
    },
    {
      "cell_type": "code",
      "metadata": {
        "id": "11cvEQCeL4O7",
        "colab_type": "code",
        "outputId": "f4ae9996-026e-4cc5-8a3e-0b88e8614caa",
        "colab": {
          "base_uri": "https://localhost:8080/",
          "height": 152
        }
      },
      "source": [
        "aapl.isnull().sum()"
      ],
      "execution_count": 0,
      "outputs": [
        {
          "output_type": "execute_result",
          "data": {
            "text/plain": [
              "Date         253\n",
              "Open         253\n",
              "High         253\n",
              "Low          253\n",
              "Close        253\n",
              "Adj Close    253\n",
              "Volume       253\n",
              "dtype: int64"
            ]
          },
          "metadata": {
            "tags": []
          },
          "execution_count": 7
        }
      ]
    },
    {
      "cell_type": "code",
      "metadata": {
        "id": "gkAQTdX2MH88",
        "colab_type": "code",
        "outputId": "e1896843-832c-4e9c-d193-fd1c026f1f37",
        "colab": {
          "base_uri": "https://localhost:8080/",
          "height": 152
        }
      },
      "source": [
        "aapl=aapl.fillna(method = 'pad') #filling the missing values with previous ones\n",
        "aapl.isnull().sum()"
      ],
      "execution_count": 0,
      "outputs": [
        {
          "output_type": "execute_result",
          "data": {
            "text/plain": [
              "Date         0\n",
              "Open         0\n",
              "High         0\n",
              "Low          0\n",
              "Close        0\n",
              "Adj Close    0\n",
              "Volume       0\n",
              "dtype: int64"
            ]
          },
          "metadata": {
            "tags": []
          },
          "execution_count": 8
        }
      ]
    },
    {
      "cell_type": "code",
      "metadata": {
        "id": "EkGS3wPqMTpo",
        "colab_type": "code",
        "outputId": "e24da125-f6e7-4ae9-cb28-b7503e9aece6",
        "colab": {
          "base_uri": "https://localhost:8080/",
          "height": 34
        }
      },
      "source": [
        "print('There are {} number of days in the dataset.'.format(aapl.shape[0]))"
      ],
      "execution_count": 0,
      "outputs": [
        {
          "output_type": "stream",
          "text": [
            "There are 1259 number of days in the dataset.\n"
          ],
          "name": "stdout"
        }
      ]
    },
    {
      "cell_type": "code",
      "metadata": {
        "id": "wL-r-el1jSW5",
        "colab_type": "code",
        "outputId": "2b63460b-6c7d-4ce2-defe-43ddeea71b31",
        "colab": {
          "base_uri": "https://localhost:8080/",
          "height": 302
        }
      },
      "source": [
        "from matplotlib import pyplot as plt\n",
        "plt.figure()\n",
        "plt.plot(aapl[\"Open\"])\n",
        "plt.plot(aapl[\"High\"])\n",
        "plt.plot(aapl[\"Low\"])\n",
        "plt.plot(aapl[\"Close\"])\n",
        "plt.title('Apple stock price history')\n",
        "plt.ylabel('Price (USD)')\n",
        "plt.xlabel('Days')\n",
        "plt.legend(['Open','High','Low','Close'], loc='upper left')\n",
        "plt.show()"
      ],
      "execution_count": 0,
      "outputs": [
        {
          "output_type": "display_data",
          "data": {
            "image/png": "[encoded data removed]",
            "text/plain": [
              "<Figure size 432x288 with 1 Axes>"
            ]
          },
          "metadata": {
            "tags": [],
            "needs_background": "light"
          }
        }
      ]
    },
    {
      "cell_type": "code",
      "metadata": {
        "id": "MASnmtJNjv1A",
        "colab_type": "code",
        "outputId": "76d95eb1-4121-4403-8ce5-593ee3993cb3",
        "colab": {
          "base_uri": "https://localhost:8080/",
          "height": 302
        }
      },
      "source": [
        "plt.figure()\n",
        "plt.plot(aapl[\"Volume\"])\n",
        "plt.title('Apple stock volume history')\n",
        "plt.ylabel('Volume')\n",
        "plt.xlabel('Days')\n",
        "plt.show()"
      ],
      "execution_count": 0,
      "outputs": [
        {
          "output_type": "display_data",
          "data": {
            "image/png": "[encoded data removed]",
            "text/plain": [
              "<Figure size 432x288 with 1 Axes>"
            ]
          },
          "metadata": {
            "tags": [],
            "needs_background": "light"
          }
        }
      ]
    },
    {
      "cell_type": "code",
      "metadata": {
        "id": "RNcdFwf2lHT-",
        "colab_type": "code",
        "outputId": "6ec62523-e50d-4003-dfd8-1fe2c682cf1c",
        "colab": {
          "base_uri": "https://localhost:8080/",
          "height": 315
        }
      },
      "source": [
        "aapl.describe()"
      ],
      "execution_count": 0,
      "outputs": [
        {
          "output_type": "execute_result",
          "data": {
            "text/html": [
              "<div>\n",
              "<style scoped>\n",
              "    .dataframe tbody tr th:only-of-type {\n",
              "        vertical-align: middle;\n",
              "    }\n",
              "\n",
              "    .dataframe tbody tr th {\n",
              "        vertical-align: top;\n",
              "    }\n",
              "\n",
              "    .dataframe thead th {\n",
              "        text-align: right;\n",
              "    }\n",
              "</style>\n",
              "<table border=\"1\" class=\"dataframe\">\n",
              "  <thead>\n",
              "    <tr style=\"text-align: right;\">\n",
              "      <th></th>\n",
              "      <th>Open</th>\n",
              "      <th>High</th>\n",
              "      <th>Low</th>\n",
              "      <th>Close</th>\n",
              "      <th>Adj Close</th>\n",
              "      <th>Volume</th>\n",
              "    </tr>\n",
              "  </thead>\n",
              "  <tbody>\n",
              "    <tr>\n",
              "      <th>count</th>\n",
              "      <td>1259.000000</td>\n",
              "      <td>1259.000000</td>\n",
              "      <td>1259.000000</td>\n",
              "      <td>1259.000000</td>\n",
              "      <td>1259.000000</td>\n",
              "      <td>1.259000e+03</td>\n",
              "    </tr>\n",
              "    <tr>\n",
              "      <th>mean</th>\n",
              "      <td>157.653098</td>\n",
              "      <td>158.888164</td>\n",
              "      <td>156.587125</td>\n",
              "      <td>157.652463</td>\n",
              "      <td>152.538954</td>\n",
              "      <td>3.230643e+07</td>\n",
              "    </tr>\n",
              "    <tr>\n",
              "      <th>std</th>\n",
              "      <td>40.733537</td>\n",
              "      <td>40.938304</td>\n",
              "      <td>40.729689</td>\n",
              "      <td>40.679411</td>\n",
              "      <td>42.133720</td>\n",
              "      <td>1.750447e+07</td>\n",
              "    </tr>\n",
              "    <tr>\n",
              "      <th>min</th>\n",
              "      <td>90.000000</td>\n",
              "      <td>91.669998</td>\n",
              "      <td>89.470001</td>\n",
              "      <td>90.339996</td>\n",
              "      <td>85.192909</td>\n",
              "      <td>1.147590e+07</td>\n",
              "    </tr>\n",
              "    <tr>\n",
              "      <th>25%</th>\n",
              "      <td>116.494999</td>\n",
              "      <td>117.410000</td>\n",
              "      <td>115.614998</td>\n",
              "      <td>116.355004</td>\n",
              "      <td>109.802921</td>\n",
              "      <td>1.835465e+07</td>\n",
              "    </tr>\n",
              "    <tr>\n",
              "      <th>50%</th>\n",
              "      <td>158.229996</td>\n",
              "      <td>159.750000</td>\n",
              "      <td>156.410004</td>\n",
              "      <td>157.740005</td>\n",
              "      <td>153.474335</td>\n",
              "      <td>2.739010e+07</td>\n",
              "    </tr>\n",
              "    <tr>\n",
              "      <th>75%</th>\n",
              "      <td>207.360001</td>\n",
              "      <td>208.479996</td>\n",
              "      <td>206.709999</td>\n",
              "      <td>207.160004</td>\n",
              "      <td>204.270446</td>\n",
              "      <td>3.906510e+07</td>\n",
              "    </tr>\n",
              "    <tr>\n",
              "      <th>max</th>\n",
              "      <td>230.779999</td>\n",
              "      <td>233.470001</td>\n",
              "      <td>229.779999</td>\n",
              "      <td>232.070007</td>\n",
              "      <td>227.300339</td>\n",
              "      <td>1.622063e+08</td>\n",
              "    </tr>\n",
              "  </tbody>\n",
              "</table>\n",
              "</div>"
            ],
            "text/plain": [
              "              Open         High  ...    Adj Close        Volume\n",
              "count  1259.000000  1259.000000  ...  1259.000000  1.259000e+03\n",
              "mean    157.653098   158.888164  ...   152.538954  3.230643e+07\n",
              "std      40.733537    40.938304  ...    42.133720  1.750447e+07\n",
              "min      90.000000    91.669998  ...    85.192909  1.147590e+07\n",
              "25%     116.494999   117.410000  ...   109.802921  1.835465e+07\n",
              "50%     158.229996   159.750000  ...   153.474335  2.739010e+07\n",
              "75%     207.360001   208.479996  ...   204.270446  3.906510e+07\n",
              "max     230.779999   233.470001  ...   227.300339  1.622063e+08\n",
              "\n",
              "[8 rows x 6 columns]"
            ]
          },
          "metadata": {
            "tags": []
          },
          "execution_count": 10
        }
      ]
    },
    {
      "cell_type": "markdown",
      "metadata": {
        "id": "fjVfwGm1MbZw",
        "colab_type": "text"
      },
      "source": [
        "#Manipulate data \n",
        "* choose a specific stock\n",
        "* drop feature: volume\n",
        "* normalize stock data\n",
        "* create train, validation and test data sets\n",
        "#Normalizing the data\n",
        "The data is not normalized and the range for each column varies, especially Volume. Normalizing data helps the algorithm in converging i.e. to find local/ global minimum efficiently. We use MinMaxScaler from Sci-kit Learn. But before that we have to split the dataset into training and testing datasets. Also We will convert the DataFrame to ndarray in the process."
      ]
    },
    {
      "cell_type": "code",
      "metadata": {
        "id": "x8XxHxqEPskC",
        "colab_type": "code",
        "outputId": "c40ea792-8721-4c21-9d85-1304fcf5d2d3",
        "colab": {
          "base_uri": "https://localhost:8080/",
          "height": 34
        }
      },
      "source": [
        "from sklearn.preprocessing import MinMaxScaler\n",
        "from sklearn.model_selection import train_test_split\n",
        "\n",
        "train_cols = [\"Open\",\"High\",\"Low\",\"Close\",\"Volume\"]\n",
        "aapl_train, aapl_test = train_test_split(aapl, train_size=0.8, test_size=0.2, shuffle=False)\n",
        "print(\"Train and Test size\", len(aapl_train), len(aapl_test))\n",
        "# scale the feature MinMax, build array\n",
        "x = aapl_train.loc[:,train_cols].values\n",
        "min_max_scaler = MinMaxScaler()\n",
        "x_train = min_max_scaler.fit_transform(x)\n",
        "x_test = min_max_scaler.transform(df_remain.loc[:,train_cols])"
      ],
      "execution_count": 0,
      "outputs": [
        {
          "output_type": "stream",
          "text": [
            "Train and Test size 1007 252\n"
          ],
          "name": "stdout"
        }
      ]
    },
    {
      "cell_type": "code",
      "metadata": {
        "id": "kIZ3DRCabCvt",
        "colab_type": "code",
        "colab": {}
      },
      "source": [
        "TIME_STEPS = params[\"time_steps\"]\n",
        "BATCH_SIZE = params[\"batch_size\"]\n",
        "stime = time.time()"
      ],
      "execution_count": 0,
      "outputs": []
    },
    {
      "cell_type": "code",
      "metadata": {
        "id": "F9W25XdQSYA5",
        "colab_type": "code",
        "colab": {}
      },
      "source": [
        "def build_timeseries(mat, y_col_index):\n",
        "    \"\"\"\n",
        "    Converts ndarray into timeseries format and supervised data format. Takes first TIME_STEPS\n",
        "    number of rows as input and sets the TIME_STEPS+1th data as corresponding output and so on.\n",
        "    :param mat: ndarray which holds the dataset\n",
        "    :param y_col_index: index of column which acts as output\n",
        "    :return: returns two ndarrays-- input and output in format suitable to feed\n",
        "    to LSTM.\n",
        "    \"\"\"\n",
        "    # total number of time-series samples would be len(mat) - TIME_STEPS\n",
        "    dim_0 = mat.shape[0] - TIME_STEPS\n",
        "    dim_1 = mat.shape[1]\n",
        "    x = np.zeros((dim_0, TIME_STEPS, dim_1))\n",
        "    y = np.zeros((dim_0,))\n",
        "    print(\"dim_0\",dim_0)\n",
        "    for i in tqdm_notebook(range(dim_0)):\n",
        "        x[i] = mat[i:TIME_STEPS+i]\n",
        "        y[i] = mat[TIME_STEPS+i, y_col_index]\n",
        "#         if i < 10:\n",
        "#           print(i,\"-->\", x[i,-1,:], y[i])\n",
        "    print(\"length of time-series i/o\",x.shape,y.shape)\n",
        "    return x, y\n"
      ],
      "execution_count": 0,
      "outputs": []
    },
    {
      "cell_type": "code",
      "metadata": {
        "id": "4jfoor-wS2dc",
        "colab_type": "code",
        "colab": {}
      },
      "source": [
        "def trim_dataset(mat,batch_size):\n",
        "    \"\"\"\n",
        "    trims dataset to a size that's divisible by BATCH_SIZE\n",
        "    \"\"\"\n",
        "    no_of_rows_drop = mat.shape[0]%batch_size\n",
        "    if no_of_rows_drop > 0:\n",
        "        return mat[:-no_of_rows_drop]\n",
        "    else:\n",
        "        return mat"
      ],
      "execution_count": 0,
      "outputs": []
    },
    {
      "cell_type": "markdown",
      "metadata": {
        "id": "eXK2fFdsUQvW",
        "colab_type": "text"
      },
      "source": [
        "Also mix the batch size with this. Let’s assume we choose batch size of 2. Then input-output pair 1 (green rectangle) and pair 2 (blue rectangle) would constitute batch one. And so on. Here is the python code snippet to do this:"
      ]
    },
    {
      "cell_type": "code",
      "metadata": {
        "id": "L1A_DHe7S7OU",
        "colab_type": "code",
        "outputId": "14f62e60-9bdf-4b2f-8d0c-feff88392857",
        "colab": {
          "base_uri": "https://localhost:8080/",
          "height": 182,
          "referenced_widgets": [
            "32659db98de94e3988c89bd1c2a676c9",
            "942d1efcd412494da9e243d1e4dca07b",
            "3c780cf2dafd466ebe48bd642765ea29",
            "5b7df6be1e004e52858f2672f08303f4",
            "170f973c0945499c806f48e0b957892e",
            "cddb6f527441404f89ebd643797d3575",
            "85e426b28004461ca71159d4cd08b1b6",
            "81dbb8b9f7a648869d52eba7e3ac69c8",
            "006dddbbd30e4af8b1d6add4665a43ab",
            "470a0057e3844aecb447e91fe9b05796",
            "865675e44f054fa8b79ce610fed7c21f",
            "fb2b6f65a40b4aada33e46753752bf9e",
            "816555c056b949489c680c5bf61c1149",
            "36829022344d48a28ace5b779dfc5f9e",
            "261f7e0f203a4d96a71b4421e359ad79",
            "df07add660e44accbbb3999c25027199"
          ]
        }
      },
      "source": [
        "x_t, y_t = build_timeseries(x_train, 3)\n",
        "x_t = trim_dataset(x_t, BATCH_SIZE)\n",
        "y_t = trim_dataset(y_t,BATCH_SIZE)\n",
        "x_temp, y_temp = build_timeseries(x_test, 3)\n",
        "x_val, x_test_t = np.split(trim_dataset(x_temp, BATCH_SIZE),2)\n",
        "y_val, y_test_t = np.split(trim_dataset(y_temp, BATCH_SIZE),2)"
      ],
      "execution_count": 0,
      "outputs": [
        {
          "output_type": "stream",
          "text": [
            "dim_0 947\n"
          ],
          "name": "stdout"
        },
        {
          "output_type": "display_data",
          "data": {
            "application/vnd.jupyter.widget-view+json": {
              "model_id": "32659db98de94e3988c89bd1c2a676c9",
              "version_minor": 0,
              "version_major": 2
            },
            "text/plain": [
              "HBox(children=(IntProgress(value=0, max=947), HTML(value='')))"
            ]
          },
          "metadata": {
            "tags": []
          }
        },
        {
          "output_type": "stream",
          "text": [
            "\n",
            "length of time-series i/o (947, 60, 5) (947,)\n",
            "dim_0 192\n"
          ],
          "name": "stdout"
        },
        {
          "output_type": "display_data",
          "data": {
            "application/vnd.jupyter.widget-view+json": {
              "model_id": "006dddbbd30e4af8b1d6add4665a43ab",
              "version_minor": 0,
              "version_major": 2
            },
            "text/plain": [
              "HBox(children=(IntProgress(value=0, max=192), HTML(value='')))"
            ]
          },
          "metadata": {
            "tags": []
          }
        },
        {
          "output_type": "stream",
          "text": [
            "\n",
            "length of time-series i/o (192, 60, 5) (192,)\n"
          ],
          "name": "stdout"
        }
      ]
    },
    {
      "cell_type": "code",
      "metadata": {
        "id": "EMW2pidkUn-G",
        "colab_type": "code",
        "colab": {}
      },
      "source": [
        "def create_model():\n",
        "    lstm_model = Sequential()\n",
        "    # (batch_size, timesteps, data_dim)\n",
        "    lstm_model.add(LSTM(100, batch_input_shape=(BATCH_SIZE, TIME_STEPS, x_t.shape[2]),\n",
        "                        dropout=0.0, recurrent_dropout=0.0, stateful=True, return_sequences=True,\n",
        "                        kernel_initializer='random_uniform'))\n",
        "    lstm_model.add(Dropout(0.4))\n",
        "    lstm_model.add(LSTM(60, dropout=0.0))\n",
        "    lstm_model.add(Dropout(0.4))\n",
        "    lstm_model.add(Dense(20,activation='relu'))\n",
        "    lstm_model.add(Dense(1,activation='sigmoid'))\n",
        "    optimizer = optimizers.RMSprop(lr=params[\"lr\"])\n",
        "    # optimizer = optimizers.SGD(lr=0.000001, decay=1e-6, momentum=0.9, nesterov=True)\n",
        "    lstm_model.compile(loss='mean_squared_error', optimizer=optimizer)\n",
        "    return lstm_model\n"
      ],
      "execution_count": 0,
      "outputs": []
    },
    {
      "cell_type": "code",
      "metadata": {
        "id": "dHxeDfsvYxNB",
        "colab_type": "code",
        "outputId": "ff54b934-9fa2-4843-f4c7-20119e79f0af",
        "colab": {
          "base_uri": "https://localhost:8080/",
          "height": 34
        }
      },
      "source": [
        "model = None\n",
        "try:\n",
        "    model = pickle.load(open(\"lstm_model\", 'rb'))\n",
        "    print(\"Loaded saved model...\")\n",
        "except FileNotFoundError:\n",
        "    print(\"Model not found\")"
      ],
      "execution_count": 0,
      "outputs": [
        {
          "output_type": "stream",
          "text": [
            "Model not found\n"
          ],
          "name": "stdout"
        }
      ]
    },
    {
      "cell_type": "code",
      "metadata": {
        "id": "Za0S44kofCRi",
        "colab_type": "code",
        "outputId": "271472ba-1149-4eb0-fce1-e3ff4665871e",
        "colab": {
          "base_uri": "https://localhost:8080/",
          "height": 117,
          "referenced_widgets": [
            "0a714b912dc2400283ae6cd04d580cd3",
            "e95becd7a7f446788c34768672ffad55",
            "e371a403a36a421b9ba52830fe5248b0",
            "0e49d71fec844c15b99ec10b10a68152",
            "8bdfae3250374ddea3eb755d48a30842",
            "23145bc6551742a58a54be2e21d7fffb",
            "9c1e57f236f049ec9ff122615c90158c",
            "3923cff7be1b4d0ea65917ae0c4e25e8"
          ]
        }
      },
      "source": [
        "x_temp, y_temp = build_timeseries(x_test, 3)\n",
        "x_val, x_test_t = np.split(trim_dataset(x_temp, BATCH_SIZE),2)\n",
        "y_val, y_test_t = np.split(trim_dataset(y_temp, BATCH_SIZE),2)\n",
        "\n",
        "print(\"Test size\", x_test_t.shape, y_test_t.shape, x_val.shape, y_val.shape)"
      ],
      "execution_count": 0,
      "outputs": [
        {
          "output_type": "stream",
          "text": [
            "dim_0 192\n"
          ],
          "name": "stdout"
        },
        {
          "output_type": "display_data",
          "data": {
            "application/vnd.jupyter.widget-view+json": {
              "model_id": "0a714b912dc2400283ae6cd04d580cd3",
              "version_minor": 0,
              "version_major": 2
            },
            "text/plain": [
              "HBox(children=(IntProgress(value=0, max=192), HTML(value='')))"
            ]
          },
          "metadata": {
            "tags": []
          }
        },
        {
          "output_type": "stream",
          "text": [
            "\n",
            "length of time-series i/o (192, 60, 5) (192,)\n",
            "Test size (90, 60, 5) (90,) (90, 60, 5) (90,)\n"
          ],
          "name": "stdout"
        }
      ]
    },
    {
      "cell_type": "code",
      "metadata": {
        "id": "kmJxlt2vfI4H",
        "colab_type": "code",
        "colab": {}
      },
      "source": [
        " model = create_model()"
      ],
      "execution_count": 0,
      "outputs": []
    },
    {
      "cell_type": "code",
      "metadata": {
        "id": "wsvCMZE5fdl4",
        "colab_type": "code",
        "outputId": "2a978a5b-822e-4985-bcc1-dd403a61a33a",
        "colab": {
          "base_uri": "https://localhost:8080/",
          "height": 149
        }
      },
      "source": [
        "es = EarlyStopping(monitor='val_loss', mode='min', verbose=1,\n",
        "                       patience=40, min_delta=0.0001)\n",
        "\n",
        "mcp = ModelCheckpoint(os.path.join(DOWNLOAD_ROOT, AAPL_PATH, \"AAPL_2015-2019.csv\"), monitor='val_loss', verbose=1,\n",
        "                          save_best_only=True, save_weights_only=False, mode='min', period=1)\n",
        "\n",
        "csv_logger = CSVLogger(os.path.join(DOWNLOAD_ROOT, AAPL_PATH, \"AAPL_2015-2019.csv\")\n",
        "    \n",
        "history = model.fit(x_t, y_t, epochs=params[\"epochs\"], verbose=2, batch_size=BATCH_SIZE,\n",
        "                        shuffle=False, validation_data=(trim_dataset(x_val, BATCH_SIZE),\n",
        "                        trim_dataset(y_val, BATCH_SIZE)), callbacks=[es, mcp, csv_logger])\n",
        "    \n",
        "print(\"saving model...\")\n",
        "pickle.dump(model, open(\"model\", \"wb\"))"
      ],
      "execution_count": 0,
      "outputs": [
        {
          "output_type": "error",
          "ename": "SyntaxError",
          "evalue": "ignored",
          "traceback": [
            "\u001b[0;36m  File \u001b[0;32m\"<ipython-input-102-b29e89ddd9a5>\"\u001b[0;36m, line \u001b[0;32m9\u001b[0m\n\u001b[0;31m    history = model.fit(x_t, y_t, epochs=params[\"epochs\"], verbose=2, batch_size=BATCH_SIZE,\u001b[0m\n\u001b[0m          ^\u001b[0m\n\u001b[0;31mSyntaxError\u001b[0m\u001b[0;31m:\u001b[0m invalid syntax\n"
          ]
        }
      ]
    },
    {
      "cell_type": "code",
      "metadata": {
        "id": "1SmrFlbef6Qk",
        "colab_type": "code",
        "outputId": "511e7a80-54da-4459-b229-63ae9bf4b86e",
        "colab": {
          "base_uri": "https://localhost:8080/",
          "height": 135
        }
      },
      "source": [
        "# model.evaluate(x_test_t, y_test_t, batch_size=BATCH_SIZE\n",
        "y_pred = model.predict(trim_dataset(x_test_t, BATCH_SIZE), batch_size=BATCH_SIZE)\n",
        "y_pred = y_pred.flatten()\n",
        "y_test_t = trim_dataset(y_test_t, BATCH_SIZE)\n",
        "error = mean_squared_error(y_test_t, y_pred)\n",
        "print(\"Error is\", error, y_pred.shape, y_test_t.shape)\n",
        "print(y_pred[0:15])\n",
        "print(y_test_t[0:15])"
      ],
      "execution_count": 0,
      "outputs": [
        {
          "output_type": "stream",
          "text": [
            "Error is 0.10306335149528664 (80,) (80,)\n",
            "[0.5032081 0.5032081 0.5032081 0.5032081 0.5032081 0.5032081 0.5032081\n",
            " 0.5032081 0.5032081 0.5032081 0.5032081 0.5032081 0.5032081 0.5032081\n",
            " 0.5032081]\n",
            "[0.82424327 0.82424327 0.82424327 0.82424327 0.82424327 0.82424327\n",
            " 0.82424327 0.82424327 0.82424327 0.82424327 0.82424327 0.82424327\n",
            " 0.82424327 0.82424327 0.82424327]\n"
          ],
          "name": "stdout"
        }
      ]
    },
    {
      "cell_type": "code",
      "metadata": {
        "id": "Ec7rk0vPf-Sw",
        "colab_type": "code",
        "outputId": "7e1ff5b0-a25b-4a85-ee0e-c3f05d2cea30",
        "colab": {
          "base_uri": "https://localhost:8080/",
          "height": 118
        }
      },
      "source": [
        "# convert the predicted value to range of real data\n",
        "y_pred_org = (y_pred * min_max_scaler.data_range_[3]) + min_max_scaler.data_min_[3]\n",
        "# min_max_scaler.inverse_transform(y_pred)\n",
        "y_test_t_org = (y_test_t * min_max_scaler.data_range_[3]) + min_max_scaler.data_min_[3]\n",
        "# min_max_scaler.inverse_transform(y_test_t)\n",
        "print(y_pred_org[0:15])\n",
        "print(y_test_t_org[0:15])"
      ],
      "execution_count": 0,
      "outputs": [
        {
          "output_type": "stream",
          "text": [
            "[161.65968 161.65968 161.65968 161.65968 161.65968 161.65968 161.65968\n",
            " 161.65968 161.65968 161.65968 161.65968 161.65968 161.65968 161.65968\n",
            " 161.65968]\n",
            "[207.160004 207.160004 207.160004 207.160004 207.160004 207.160004\n",
            " 207.160004 207.160004 207.160004 207.160004 207.160004 207.160004\n",
            " 207.160004 207.160004 207.160004]\n"
          ],
          "name": "stdout"
        }
      ]
    },
    {
      "cell_type": "code",
      "metadata": {
        "id": "g1rE3mzqgBjP",
        "colab_type": "code",
        "outputId": "528a437e-53fa-4847-95ea-3c0f64dde0aa",
        "colab": {
          "base_uri": "https://localhost:8080/",
          "height": 319
        }
      },
      "source": [
        "# Visualize the training data\n",
        "from matplotlib import pyplot as plt\n",
        "plt.figure()\n",
        "plt.plot(history.history['loss'])\n",
        "plt.plot(history.history['val_loss'])\n",
        "plt.title('Model loss')\n",
        "plt.ylabel('Loss')\n",
        "plt.xlabel('Epoch')\n",
        "plt.legend(['Train', 'Test'], loc='upper left')\n",
        "#plt.show()"
      ],
      "execution_count": 0,
      "outputs": [
        {
          "output_type": "execute_result",
          "data": {
            "text/plain": [
              "<matplotlib.legend.Legend at 0x7fb7269c24e0>"
            ]
          },
          "metadata": {
            "tags": []
          },
          "execution_count": 90
        },
        {
          "output_type": "display_data",
          "data": {
            "image/png": "[encoded data removed]",
            "text/plain": [
              "<Figure size 432x288 with 1 Axes>"
            ]
          },
          "metadata": {
            "tags": [],
            "needs_background": "light"
          }
        }
      ]
    },
    {
      "cell_type": "code",
      "metadata": {
        "id": "dGb02uLiiVTQ",
        "colab_type": "code",
        "outputId": "74c02439-5207-4af8-8cd1-482e443c18db",
        "colab": {
          "base_uri": "https://localhost:8080/",
          "height": 34
        }
      },
      "source": [
        "print(model)"
      ],
      "execution_count": 0,
      "outputs": [
        {
          "output_type": "stream",
          "text": [
            "<keras.engine.sequential.Sequential object at 0x7fb726b80a58>\n"
          ],
          "name": "stdout"
        }
      ]
    },
    {
      "cell_type": "code",
      "metadata": {
        "id": "GQF9xXXwikqg",
        "colab_type": "code",
        "outputId": "b4367287-110a-4d37-9957-79844ad13c38",
        "colab": {
          "base_uri": "https://localhost:8080/",
          "height": 237
        }
      },
      "source": [
        "y_pred = model.predict(trim_dataset(x_test_t, BATCH_SIZE), batch_size=BATCH_SIZE)\n",
        "y_pred = y_pred.flatten()\n",
        "y_test_t = trim_dataset(y_test_t, BATCH_SIZE)\n",
        "error = mean_squared_error(y_test_t, y_pred)\n",
        "print(\"Error is\", error, y_pred.shape, y_test_t.shape)\n",
        "print(y_pred[0:15])\n",
        "print(y_test_t[0:15])\n",
        "y_pred_org = (y_pred * min_max_scaler.data_range_[3]) + min_max_scaler.data_min_[3] # min_max_scaler.inverse_transform(y_pred)\n",
        "y_test_t_org = (y_test_t * min_max_scaler.data_range_[3]) + min_max_scaler.data_min_[3] # min_max_scaler.inverse_transform(y_test_t)\n",
        "print(y_pred_org[0:15])\n",
        "print(y_test_t_org[0:15])"
      ],
      "execution_count": 0,
      "outputs": [
        {
          "output_type": "stream",
          "text": [
            "Error is 0.10306327495459414 (80,) (80,)\n",
            "[0.5032086 0.5032086 0.5032086 0.5032086 0.5032086 0.5032086 0.5032086\n",
            " 0.5032086 0.5032086 0.5032086 0.5032086 0.5032086 0.5032086 0.5032086\n",
            " 0.5032086]\n",
            "[0.82424327 0.82424327 0.82424327 0.82424327 0.82424327 0.82424327\n",
            " 0.82424327 0.82424327 0.82424327 0.82424327 0.82424327 0.82424327\n",
            " 0.82424327 0.82424327 0.82424327]\n",
            "[161.65976 161.65976 161.65976 161.65976 161.65976 161.65976 161.65976\n",
            " 161.65976 161.65976 161.65976 161.65976 161.65976 161.65976 161.65976\n",
            " 161.65976]\n",
            "[207.160004 207.160004 207.160004 207.160004 207.160004 207.160004\n",
            " 207.160004 207.160004 207.160004 207.160004 207.160004 207.160004\n",
            " 207.160004 207.160004 207.160004]\n"
          ],
          "name": "stdout"
        }
      ]
    },
    {
      "cell_type": "code",
      "metadata": {
        "id": "Ajffrwn4is69",
        "colab_type": "code",
        "outputId": "7d8c7786-e04b-4666-9e89-8485baa49748",
        "colab": {
          "base_uri": "https://localhost:8080/",
          "height": 302
        }
      },
      "source": [
        "# Visualize the prediction\n",
        "from matplotlib import pyplot as plt\n",
        "plt.figure()\n",
        "plt.plot(y_pred_org)\n",
        "plt.plot(y_test_t_org)\n",
        "plt.title('Prediction vs Real Stock Price')\n",
        "plt.ylabel('Price')\n",
        "plt.xlabel('Days')\n",
        "plt.legend(['Prediction', 'Real'], loc='upper left')\n",
        "plt.show()"
      ],
      "execution_count": 0,
      "outputs": [
        {
          "output_type": "display_data",
          "data": {
            "image/png": "[encoded data removed]",
            "text/plain": [
              "<Figure size 432x288 with 1 Axes>"
            ]
          },
          "metadata": {
            "tags": [],
            "needs_background": "light"
          }
        }
      ]
    }
  ]
}